{
  "nbformat": 4,
  "nbformat_minor": 0,
  "metadata": {
    "colab": {
      "provenance": [],
      "authorship_tag": "ABX9TyM+/CHuygyAMWwHzDE4ie11",
      "include_colab_link": true
    },
    "kernelspec": {
      "name": "python3",
      "display_name": "Python 3"
    },
    "language_info": {
      "name": "python"
    }
  },
  "cells": [
    {
      "cell_type": "markdown",
      "metadata": {
        "id": "view-in-github",
        "colab_type": "text"
      },
      "source": [
        "<a href=\"https://colab.research.google.com/github/Superkid0714/GCA_Mini-Project_20240719/blob/main/Wine_quality_%EC%98%88%EC%B8%A1_%EB%AA%A8%EB%8D%B8_(%EC%97%B0%EC%8A%B5).ipynb\" target=\"_parent\"><img src=\"https://colab.research.google.com/assets/colab-badge.svg\" alt=\"Open In Colab\"/></a>"
      ]
    },
    {
      "cell_type": "code",
      "metadata": {
        "id": "LUHqY_HCBXbe"
      },
      "source": [
        "# 배열\n",
        "import numpy as np\n",
        "\n",
        "# 데이터 분석\n",
        "import pandas as pd"
      ],
      "execution_count": 1,
      "outputs": []
    },
    {
      "cell_type": "code",
      "source": [
        "# Pandas option 정의\n",
        "pd.set_option( 'display.max_columns', 20 )\n",
        "pd.set_option( 'display.max_colwidth', 20 )\n",
        "pd.set_option( 'display.unicode.east_asian_width', True )"
      ],
      "metadata": {
        "id": "ueW_zBbsC1Ec"
      },
      "execution_count": 2,
      "outputs": []
    },
    {
      "cell_type": "code",
      "source": [
        "# 시각화\n",
        "import matplotlib.pyplot as plt\n",
        "import seaborn as sns"
      ],
      "metadata": {
        "id": "sigX2TCdC3w4"
      },
      "execution_count": 3,
      "outputs": []
    },
    {
      "cell_type": "code",
      "source": [
        "# Jupyter note상에 그래프 결과 포함 매직 명령\n",
        "%matplotlib inline\n",
        "\n",
        "# Matplotlib 기본 글꼴 정의\n",
        "plt.rc('font', size=14)\n",
        "plt.rc('axes', labelsize=14, titlesize=14)\n",
        "plt.rc('legend', fontsize=14)\n",
        "plt.rc('xtick', labelsize=10)\n",
        "plt.rc('ytick', labelsize=10)"
      ],
      "metadata": {
        "id": "7eZSfSAWCttp"
      },
      "execution_count": 4,
      "outputs": []
    },
    {
      "cell_type": "code",
      "source": [
        "import sys\n",
        "\n",
        "# 노트북이 코랩에서 실행 중인지 체크합니다.\n",
        "if 'google.colab' in sys.modules:\n",
        "    !echo 'debconf debconf/frontend select Noninteractive' | debconf-set-selections\n",
        "\n",
        "    # 나눔 폰트를 설치합니다.\n",
        "    !sudo apt-get -qq -y install fonts-nanum\n",
        "    import matplotlib.font_manager as fm\n",
        "    font_files = fm.findSystemFonts(fontpaths=['/usr/share/fonts/truetype/nanum'])\n",
        "    for fpath in font_files:\n",
        "        fm.fontManager.addfont(fpath)\n",
        "\n",
        "#     # 나눔바른고딕 폰트로 설정합니다.\n",
        "    import matplotlib.pyplot as plt\n",
        "    plt.rc('font', family='NanumBarunGothic')\n",
        "\n",
        "#     # 마이너스 기호 표시 오류 수정\n",
        "    import matplotlib\n",
        "    matplotlib.rcParams['axes.unicode_minus'] = False"
      ],
      "metadata": {
        "id": "KIgznkF5Dd4S",
        "colab": {
          "base_uri": "https://localhost:8080/"
        },
        "outputId": "95cf104a-b3fa-417f-9e07-4e863572c3e9"
      },
      "execution_count": 5,
      "outputs": [
        {
          "output_type": "stream",
          "name": "stdout",
          "text": [
            "Selecting previously unselected package fonts-nanum.\n",
            "(Reading database ... 123586 files and directories currently installed.)\n",
            "Preparing to unpack .../fonts-nanum_20200506-1_all.deb ...\n",
            "Unpacking fonts-nanum (20200506-1) ...\n",
            "Setting up fonts-nanum (20200506-1) ...\n",
            "Processing triggers for fontconfig (2.13.1-4.2ubuntu5) ...\n"
          ]
        }
      ]
    },
    {
      "cell_type": "code",
      "source": [
        "# 경고 문제 출력 제한\n",
        "import warnings\n",
        "\n",
        "warnings.filterwarnings( 'ignore' )"
      ],
      "metadata": {
        "id": "7qgQpdtgCwHF"
      },
      "execution_count": 6,
      "outputs": []
    },
    {
      "cell_type": "code",
      "source": [
        "# Tensorflow\n",
        "import tensorflow as tf\n",
        "\n",
        "tf.__version__"
      ],
      "metadata": {
        "colab": {
          "base_uri": "https://localhost:8080/",
          "height": 36
        },
        "id": "BwTdSE44NZAb",
        "outputId": "d60e9066-e2f1-4c89-b261-958ffaf6fc47"
      },
      "execution_count": 7,
      "outputs": [
        {
          "output_type": "execute_result",
          "data": {
            "text/plain": [
              "'2.15.0'"
            ],
            "application/vnd.google.colaboratory.intrinsic+json": {
              "type": "string"
            }
          },
          "metadata": {},
          "execution_count": 7
        }
      ]
    },
    {
      "cell_type": "code",
      "metadata": {
        "id": "8BZ0m9oOgoqy"
      },
      "source": [
        "# Tensorflow Sequential model\n",
        "from tensorflow.keras.models import Sequential, Model\n",
        "from tensorflow.keras.layers import Dense, Input, Concatenate\n",
        "from tensorflow.keras.layers import Flatten, Dropout, BatchNormalization\n",
        "\n",
        "from tensorflow.keras import optimizers, regularizers\n",
        "\n",
        "from tensorflow.keras.callbacks import EarlyStopping, ModelCheckpoint, TensorBoard\n",
        "\n",
        "from tensorflow.keras.utils import plot_model"
      ],
      "execution_count": 8,
      "outputs": []
    },
    {
      "cell_type": "code",
      "source": [
        "# 데이터 분리를 위한 함수\n",
        "from sklearn.model_selection import train_test_split"
      ],
      "metadata": {
        "id": "Y06XKfwWVa-E"
      },
      "execution_count": 9,
      "outputs": []
    },
    {
      "cell_type": "code",
      "execution_count": 10,
      "metadata": {
        "id": "NeO7RXhad5EE"
      },
      "outputs": [],
      "source": [
        "def disp_training( history ):\n",
        "    accuracy = history.history[\"accuracy\"]\n",
        "    val_accuracy = history.history[\"val_accuracy\"]\n",
        "    loss = history.history[\"loss\"]\n",
        "    val_loss = history.history[\"val_loss\"]\n",
        "    epochs = range( 1, len( accuracy ) + 1 )\n",
        "\n",
        "    plt.title( '훈련 및 검증 정확도' )\n",
        "    plt.plot( epochs, history.history[ 'accuracy' ], label = 'accuracy' )\n",
        "    plt.plot( epochs, history.history[ 'val_accuracy' ], label = 'val_accuracy' )\n",
        "    plt.grid()\n",
        "    plt.legend()\n",
        "    plt.xlabel( 'Epochs' )\n",
        "\n",
        "    plt.figure()\n",
        "    plt.title( '훈련 및 검증 오차' )\n",
        "\n",
        "    plt.plot( epochs, history.history[ 'loss' ], label = 'loss' )\n",
        "    plt.plot( epochs, history.history[ 'val_loss' ], label = 'val_loss' )\n",
        "    plt.grid()\n",
        "    plt.legend()\n",
        "    plt.xlabel( 'Epochs' )\n",
        "\n",
        "    plt.show()"
      ]
    },
    {
      "cell_type": "code",
      "source": [
        "def disp_loss( history ):\n",
        "    loss = history.history[\"loss\"]\n",
        "    val_loss = history.history[\"val_loss\"]\n",
        "    epochs = range( 1, len( loss ) + 1 )\n",
        "\n",
        "    plt.title( '훈련 및 검증 오차' )\n",
        "\n",
        "    plt.plot( epochs, history.history[ 'loss' ], label = 'loss' )\n",
        "    plt.plot( epochs, history.history[ 'val_loss' ], label = 'val_loss' )\n",
        "    plt.grid()\n",
        "    plt.legend()\n",
        "    plt.xlabel( 'Epochs' )\n",
        "\n",
        "    plt.show()"
      ],
      "metadata": {
        "id": "vcabEL0r38QN"
      },
      "execution_count": 11,
      "outputs": []
    },
    {
      "cell_type": "markdown",
      "source": [
        "## Wine quality 예측 모델"
      ],
      "metadata": {
        "id": "Fmf6lOzDA1hg"
      }
    },
    {
      "cell_type": "markdown",
      "source": [
        "### 1. 데이터 수집\n",
        "* DataFrame 생성\n",
        "* DataFrame 기본 정보 생성"
      ],
      "metadata": {
        "id": "9Hcc3cMVA50p"
      }
    },
    {
      "cell_type": "code",
      "source": [
        "wine = pd.read_csv ('wine.csv', index_col = 0)"
      ],
      "metadata": {
        "id": "MOV-FOaXA8gi"
      },
      "execution_count": 12,
      "outputs": []
    },
    {
      "cell_type": "code",
      "source": [
        "wine.head()"
      ],
      "metadata": {
        "colab": {
          "base_uri": "https://localhost:8080/",
          "height": 237
        },
        "id": "tdjBmbTyBNJr",
        "outputId": "87e86680-ef45-45e0-f066-5278a251df20"
      },
      "execution_count": 13,
      "outputs": [
        {
          "output_type": "execute_result",
          "data": {
            "text/plain": [
              "       quality  fixed acidity  volatile acidity  citric acid  residual sugar  \\\n",
              "index                                                                          \n",
              "0            5            5.6             0.695         0.06             6.8   \n",
              "1            5            8.8             0.610         0.14             2.4   \n",
              "2            5            7.9             0.210         0.39             2.0   \n",
              "3            6            7.0             0.210         0.31             6.0   \n",
              "4            6            7.8             0.400         0.26             9.5   \n",
              "\n",
              "       chlorides  free sulfur dioxide  total sulfur dioxide  density    pH  \\\n",
              "index                                                                        \n",
              "0          0.042                  9.0                 84.0   0.99432  3.44   \n",
              "1          0.067                 10.0                 42.0   0.99690  3.19   \n",
              "2          0.057                 21.0                138.0   0.99176  3.05   \n",
              "3          0.046                 29.0                108.0   0.99390  3.26   \n",
              "4          0.059                 32.0                178.0   0.99550  3.04   \n",
              "\n",
              "       sulphates  alcohol   type  \n",
              "index                             \n",
              "0           0.44     10.2  white  \n",
              "1           0.59      9.5    red  \n",
              "2           0.52     10.9  white  \n",
              "3           0.50     10.8  white  \n",
              "4           0.43     10.9  white  "
            ],
            "text/html": [
              "\n",
              "  <div id=\"df-bdc73a64-97d2-443d-a97f-52170fdd9b99\" class=\"colab-df-container\">\n",
              "    <div>\n",
              "<style scoped>\n",
              "    .dataframe tbody tr th:only-of-type {\n",
              "        vertical-align: middle;\n",
              "    }\n",
              "\n",
              "    .dataframe tbody tr th {\n",
              "        vertical-align: top;\n",
              "    }\n",
              "\n",
              "    .dataframe thead th {\n",
              "        text-align: right;\n",
              "    }\n",
              "</style>\n",
              "<table border=\"1\" class=\"dataframe\">\n",
              "  <thead>\n",
              "    <tr style=\"text-align: right;\">\n",
              "      <th></th>\n",
              "      <th>quality</th>\n",
              "      <th>fixed acidity</th>\n",
              "      <th>volatile acidity</th>\n",
              "      <th>citric acid</th>\n",
              "      <th>residual sugar</th>\n",
              "      <th>chlorides</th>\n",
              "      <th>free sulfur dioxide</th>\n",
              "      <th>total sulfur dioxide</th>\n",
              "      <th>density</th>\n",
              "      <th>pH</th>\n",
              "      <th>sulphates</th>\n",
              "      <th>alcohol</th>\n",
              "      <th>type</th>\n",
              "    </tr>\n",
              "    <tr>\n",
              "      <th>index</th>\n",
              "      <th></th>\n",
              "      <th></th>\n",
              "      <th></th>\n",
              "      <th></th>\n",
              "      <th></th>\n",
              "      <th></th>\n",
              "      <th></th>\n",
              "      <th></th>\n",
              "      <th></th>\n",
              "      <th></th>\n",
              "      <th></th>\n",
              "      <th></th>\n",
              "      <th></th>\n",
              "    </tr>\n",
              "  </thead>\n",
              "  <tbody>\n",
              "    <tr>\n",
              "      <th>0</th>\n",
              "      <td>5</td>\n",
              "      <td>5.6</td>\n",
              "      <td>0.695</td>\n",
              "      <td>0.06</td>\n",
              "      <td>6.8</td>\n",
              "      <td>0.042</td>\n",
              "      <td>9.0</td>\n",
              "      <td>84.0</td>\n",
              "      <td>0.99432</td>\n",
              "      <td>3.44</td>\n",
              "      <td>0.44</td>\n",
              "      <td>10.2</td>\n",
              "      <td>white</td>\n",
              "    </tr>\n",
              "    <tr>\n",
              "      <th>1</th>\n",
              "      <td>5</td>\n",
              "      <td>8.8</td>\n",
              "      <td>0.610</td>\n",
              "      <td>0.14</td>\n",
              "      <td>2.4</td>\n",
              "      <td>0.067</td>\n",
              "      <td>10.0</td>\n",
              "      <td>42.0</td>\n",
              "      <td>0.99690</td>\n",
              "      <td>3.19</td>\n",
              "      <td>0.59</td>\n",
              "      <td>9.5</td>\n",
              "      <td>red</td>\n",
              "    </tr>\n",
              "    <tr>\n",
              "      <th>2</th>\n",
              "      <td>5</td>\n",
              "      <td>7.9</td>\n",
              "      <td>0.210</td>\n",
              "      <td>0.39</td>\n",
              "      <td>2.0</td>\n",
              "      <td>0.057</td>\n",
              "      <td>21.0</td>\n",
              "      <td>138.0</td>\n",
              "      <td>0.99176</td>\n",
              "      <td>3.05</td>\n",
              "      <td>0.52</td>\n",
              "      <td>10.9</td>\n",
              "      <td>white</td>\n",
              "    </tr>\n",
              "    <tr>\n",
              "      <th>3</th>\n",
              "      <td>6</td>\n",
              "      <td>7.0</td>\n",
              "      <td>0.210</td>\n",
              "      <td>0.31</td>\n",
              "      <td>6.0</td>\n",
              "      <td>0.046</td>\n",
              "      <td>29.0</td>\n",
              "      <td>108.0</td>\n",
              "      <td>0.99390</td>\n",
              "      <td>3.26</td>\n",
              "      <td>0.50</td>\n",
              "      <td>10.8</td>\n",
              "      <td>white</td>\n",
              "    </tr>\n",
              "    <tr>\n",
              "      <th>4</th>\n",
              "      <td>6</td>\n",
              "      <td>7.8</td>\n",
              "      <td>0.400</td>\n",
              "      <td>0.26</td>\n",
              "      <td>9.5</td>\n",
              "      <td>0.059</td>\n",
              "      <td>32.0</td>\n",
              "      <td>178.0</td>\n",
              "      <td>0.99550</td>\n",
              "      <td>3.04</td>\n",
              "      <td>0.43</td>\n",
              "      <td>10.9</td>\n",
              "      <td>white</td>\n",
              "    </tr>\n",
              "  </tbody>\n",
              "</table>\n",
              "</div>\n",
              "    <div class=\"colab-df-buttons\">\n",
              "\n",
              "  <div class=\"colab-df-container\">\n",
              "    <button class=\"colab-df-convert\" onclick=\"convertToInteractive('df-bdc73a64-97d2-443d-a97f-52170fdd9b99')\"\n",
              "            title=\"Convert this dataframe to an interactive table.\"\n",
              "            style=\"display:none;\">\n",
              "\n",
              "  <svg xmlns=\"http://www.w3.org/2000/svg\" height=\"24px\" viewBox=\"0 -960 960 960\">\n",
              "    <path d=\"M120-120v-720h720v720H120Zm60-500h600v-160H180v160Zm220 220h160v-160H400v160Zm0 220h160v-160H400v160ZM180-400h160v-160H180v160Zm440 0h160v-160H620v160ZM180-180h160v-160H180v160Zm440 0h160v-160H620v160Z\"/>\n",
              "  </svg>\n",
              "    </button>\n",
              "\n",
              "  <style>\n",
              "    .colab-df-container {\n",
              "      display:flex;\n",
              "      gap: 12px;\n",
              "    }\n",
              "\n",
              "    .colab-df-convert {\n",
              "      background-color: #E8F0FE;\n",
              "      border: none;\n",
              "      border-radius: 50%;\n",
              "      cursor: pointer;\n",
              "      display: none;\n",
              "      fill: #1967D2;\n",
              "      height: 32px;\n",
              "      padding: 0 0 0 0;\n",
              "      width: 32px;\n",
              "    }\n",
              "\n",
              "    .colab-df-convert:hover {\n",
              "      background-color: #E2EBFA;\n",
              "      box-shadow: 0px 1px 2px rgba(60, 64, 67, 0.3), 0px 1px 3px 1px rgba(60, 64, 67, 0.15);\n",
              "      fill: #174EA6;\n",
              "    }\n",
              "\n",
              "    .colab-df-buttons div {\n",
              "      margin-bottom: 4px;\n",
              "    }\n",
              "\n",
              "    [theme=dark] .colab-df-convert {\n",
              "      background-color: #3B4455;\n",
              "      fill: #D2E3FC;\n",
              "    }\n",
              "\n",
              "    [theme=dark] .colab-df-convert:hover {\n",
              "      background-color: #434B5C;\n",
              "      box-shadow: 0px 1px 3px 1px rgba(0, 0, 0, 0.15);\n",
              "      filter: drop-shadow(0px 1px 2px rgba(0, 0, 0, 0.3));\n",
              "      fill: #FFFFFF;\n",
              "    }\n",
              "  </style>\n",
              "\n",
              "    <script>\n",
              "      const buttonEl =\n",
              "        document.querySelector('#df-bdc73a64-97d2-443d-a97f-52170fdd9b99 button.colab-df-convert');\n",
              "      buttonEl.style.display =\n",
              "        google.colab.kernel.accessAllowed ? 'block' : 'none';\n",
              "\n",
              "      async function convertToInteractive(key) {\n",
              "        const element = document.querySelector('#df-bdc73a64-97d2-443d-a97f-52170fdd9b99');\n",
              "        const dataTable =\n",
              "          await google.colab.kernel.invokeFunction('convertToInteractive',\n",
              "                                                    [key], {});\n",
              "        if (!dataTable) return;\n",
              "\n",
              "        const docLinkHtml = 'Like what you see? Visit the ' +\n",
              "          '<a target=\"_blank\" href=https://colab.research.google.com/notebooks/data_table.ipynb>data table notebook</a>'\n",
              "          + ' to learn more about interactive tables.';\n",
              "        element.innerHTML = '';\n",
              "        dataTable['output_type'] = 'display_data';\n",
              "        await google.colab.output.renderOutput(dataTable, element);\n",
              "        const docLink = document.createElement('div');\n",
              "        docLink.innerHTML = docLinkHtml;\n",
              "        element.appendChild(docLink);\n",
              "      }\n",
              "    </script>\n",
              "  </div>\n",
              "\n",
              "\n",
              "<div id=\"df-b58e9f54-04e4-4ea1-8649-9dc63094b49a\">\n",
              "  <button class=\"colab-df-quickchart\" onclick=\"quickchart('df-b58e9f54-04e4-4ea1-8649-9dc63094b49a')\"\n",
              "            title=\"Suggest charts\"\n",
              "            style=\"display:none;\">\n",
              "\n",
              "<svg xmlns=\"http://www.w3.org/2000/svg\" height=\"24px\"viewBox=\"0 0 24 24\"\n",
              "     width=\"24px\">\n",
              "    <g>\n",
              "        <path d=\"M19 3H5c-1.1 0-2 .9-2 2v14c0 1.1.9 2 2 2h14c1.1 0 2-.9 2-2V5c0-1.1-.9-2-2-2zM9 17H7v-7h2v7zm4 0h-2V7h2v10zm4 0h-2v-4h2v4z\"/>\n",
              "    </g>\n",
              "</svg>\n",
              "  </button>\n",
              "\n",
              "<style>\n",
              "  .colab-df-quickchart {\n",
              "      --bg-color: #E8F0FE;\n",
              "      --fill-color: #1967D2;\n",
              "      --hover-bg-color: #E2EBFA;\n",
              "      --hover-fill-color: #174EA6;\n",
              "      --disabled-fill-color: #AAA;\n",
              "      --disabled-bg-color: #DDD;\n",
              "  }\n",
              "\n",
              "  [theme=dark] .colab-df-quickchart {\n",
              "      --bg-color: #3B4455;\n",
              "      --fill-color: #D2E3FC;\n",
              "      --hover-bg-color: #434B5C;\n",
              "      --hover-fill-color: #FFFFFF;\n",
              "      --disabled-bg-color: #3B4455;\n",
              "      --disabled-fill-color: #666;\n",
              "  }\n",
              "\n",
              "  .colab-df-quickchart {\n",
              "    background-color: var(--bg-color);\n",
              "    border: none;\n",
              "    border-radius: 50%;\n",
              "    cursor: pointer;\n",
              "    display: none;\n",
              "    fill: var(--fill-color);\n",
              "    height: 32px;\n",
              "    padding: 0;\n",
              "    width: 32px;\n",
              "  }\n",
              "\n",
              "  .colab-df-quickchart:hover {\n",
              "    background-color: var(--hover-bg-color);\n",
              "    box-shadow: 0 1px 2px rgba(60, 64, 67, 0.3), 0 1px 3px 1px rgba(60, 64, 67, 0.15);\n",
              "    fill: var(--button-hover-fill-color);\n",
              "  }\n",
              "\n",
              "  .colab-df-quickchart-complete:disabled,\n",
              "  .colab-df-quickchart-complete:disabled:hover {\n",
              "    background-color: var(--disabled-bg-color);\n",
              "    fill: var(--disabled-fill-color);\n",
              "    box-shadow: none;\n",
              "  }\n",
              "\n",
              "  .colab-df-spinner {\n",
              "    border: 2px solid var(--fill-color);\n",
              "    border-color: transparent;\n",
              "    border-bottom-color: var(--fill-color);\n",
              "    animation:\n",
              "      spin 1s steps(1) infinite;\n",
              "  }\n",
              "\n",
              "  @keyframes spin {\n",
              "    0% {\n",
              "      border-color: transparent;\n",
              "      border-bottom-color: var(--fill-color);\n",
              "      border-left-color: var(--fill-color);\n",
              "    }\n",
              "    20% {\n",
              "      border-color: transparent;\n",
              "      border-left-color: var(--fill-color);\n",
              "      border-top-color: var(--fill-color);\n",
              "    }\n",
              "    30% {\n",
              "      border-color: transparent;\n",
              "      border-left-color: var(--fill-color);\n",
              "      border-top-color: var(--fill-color);\n",
              "      border-right-color: var(--fill-color);\n",
              "    }\n",
              "    40% {\n",
              "      border-color: transparent;\n",
              "      border-right-color: var(--fill-color);\n",
              "      border-top-color: var(--fill-color);\n",
              "    }\n",
              "    60% {\n",
              "      border-color: transparent;\n",
              "      border-right-color: var(--fill-color);\n",
              "    }\n",
              "    80% {\n",
              "      border-color: transparent;\n",
              "      border-right-color: var(--fill-color);\n",
              "      border-bottom-color: var(--fill-color);\n",
              "    }\n",
              "    90% {\n",
              "      border-color: transparent;\n",
              "      border-bottom-color: var(--fill-color);\n",
              "    }\n",
              "  }\n",
              "</style>\n",
              "\n",
              "  <script>\n",
              "    async function quickchart(key) {\n",
              "      const quickchartButtonEl =\n",
              "        document.querySelector('#' + key + ' button');\n",
              "      quickchartButtonEl.disabled = true;  // To prevent multiple clicks.\n",
              "      quickchartButtonEl.classList.add('colab-df-spinner');\n",
              "      try {\n",
              "        const charts = await google.colab.kernel.invokeFunction(\n",
              "            'suggestCharts', [key], {});\n",
              "      } catch (error) {\n",
              "        console.error('Error during call to suggestCharts:', error);\n",
              "      }\n",
              "      quickchartButtonEl.classList.remove('colab-df-spinner');\n",
              "      quickchartButtonEl.classList.add('colab-df-quickchart-complete');\n",
              "    }\n",
              "    (() => {\n",
              "      let quickchartButtonEl =\n",
              "        document.querySelector('#df-b58e9f54-04e4-4ea1-8649-9dc63094b49a button');\n",
              "      quickchartButtonEl.style.display =\n",
              "        google.colab.kernel.accessAllowed ? 'block' : 'none';\n",
              "    })();\n",
              "  </script>\n",
              "</div>\n",
              "\n",
              "    </div>\n",
              "  </div>\n"
            ],
            "application/vnd.google.colaboratory.intrinsic+json": {
              "type": "dataframe",
              "variable_name": "wine",
              "summary": "{\n  \"name\": \"wine\",\n  \"rows\": 5497,\n  \"fields\": [\n    {\n      \"column\": \"index\",\n      \"properties\": {\n        \"dtype\": \"number\",\n        \"std\": 1586,\n        \"min\": 0,\n        \"max\": 5496,\n        \"num_unique_values\": 5497,\n        \"samples\": [\n          1859,\n          691,\n          1858\n        ],\n        \"semantic_type\": \"\",\n        \"description\": \"\"\n      }\n    },\n    {\n      \"column\": \"quality\",\n      \"properties\": {\n        \"dtype\": \"number\",\n        \"std\": 0,\n        \"min\": 3,\n        \"max\": 9,\n        \"num_unique_values\": 7,\n        \"samples\": [\n          5,\n          6,\n          3\n        ],\n        \"semantic_type\": \"\",\n        \"description\": \"\"\n      }\n    },\n    {\n      \"column\": \"fixed acidity\",\n      \"properties\": {\n        \"dtype\": \"number\",\n        \"std\": 1.287579057916517,\n        \"min\": 3.8,\n        \"max\": 15.9,\n        \"num_unique_values\": 106,\n        \"samples\": [\n          14.2,\n          6.2,\n          7.8\n        ],\n        \"semantic_type\": \"\",\n        \"description\": \"\"\n      }\n    },\n    {\n      \"column\": \"volatile acidity\",\n      \"properties\": {\n        \"dtype\": \"number\",\n        \"std\": 0.16322430818532996,\n        \"min\": 0.08,\n        \"max\": 1.58,\n        \"num_unique_values\": 179,\n        \"samples\": [\n          0.57,\n          0.23,\n          0.84\n        ],\n        \"semantic_type\": \"\",\n        \"description\": \"\"\n      }\n    },\n    {\n      \"column\": \"citric acid\",\n      \"properties\": {\n        \"dtype\": \"number\",\n        \"std\": 0.14510388047272013,\n        \"min\": 0.0,\n        \"max\": 1.66,\n        \"num_unique_values\": 89,\n        \"samples\": [\n          0.04,\n          0.08,\n          0.38\n        ],\n        \"semantic_type\": \"\",\n        \"description\": \"\"\n      }\n    },\n    {\n      \"column\": \"residual sugar\",\n      \"properties\": {\n        \"dtype\": \"number\",\n        \"std\": 4.756676163979441,\n        \"min\": 0.6,\n        \"max\": 65.8,\n        \"num_unique_values\": 309,\n        \"samples\": [\n          10.65,\n          11.6,\n          1.45\n        ],\n        \"semantic_type\": \"\",\n        \"description\": \"\"\n      }\n    },\n    {\n      \"column\": \"chlorides\",\n      \"properties\": {\n        \"dtype\": \"number\",\n        \"std\": 0.03465330609406237,\n        \"min\": 0.009,\n        \"max\": 0.61,\n        \"num_unique_values\": 205,\n        \"samples\": [\n          0.073,\n          0.049,\n          0.208\n        ],\n        \"semantic_type\": \"\",\n        \"description\": \"\"\n      }\n    },\n    {\n      \"column\": \"free sulfur dioxide\",\n      \"properties\": {\n        \"dtype\": \"number\",\n        \"std\": 17.673881425898955,\n        \"min\": 1.0,\n        \"max\": 289.0,\n        \"num_unique_values\": 127,\n        \"samples\": [\n          110.0,\n          59.5,\n          78.0\n        ],\n        \"semantic_type\": \"\",\n        \"description\": \"\"\n      }\n    },\n    {\n      \"column\": \"total sulfur dioxide\",\n      \"properties\": {\n        \"dtype\": \"number\",\n        \"std\": 56.288223221528696,\n        \"min\": 6.0,\n        \"max\": 440.0,\n        \"num_unique_values\": 271,\n        \"samples\": [\n          160.0,\n          33.0,\n          61.0\n        ],\n        \"semantic_type\": \"\",\n        \"description\": \"\"\n      }\n    },\n    {\n      \"column\": \"density\",\n      \"properties\": {\n        \"dtype\": \"number\",\n        \"std\": 0.003013884381425396,\n        \"min\": 0.98711,\n        \"max\": 1.03898,\n        \"num_unique_values\": 970,\n        \"samples\": [\n          0.98948,\n          0.99804,\n          0.99236\n        ],\n        \"semantic_type\": \"\",\n        \"description\": \"\"\n      }\n    },\n    {\n      \"column\": \"pH\",\n      \"properties\": {\n        \"dtype\": \"number\",\n        \"std\": 0.16071281482663669,\n        \"min\": 2.74,\n        \"max\": 4.01,\n        \"num_unique_values\": 107,\n        \"samples\": [\n          3.59,\n          3.03,\n          3.04\n        ],\n        \"semantic_type\": \"\",\n        \"description\": \"\"\n      }\n    },\n    {\n      \"column\": \"sulphates\",\n      \"properties\": {\n        \"dtype\": \"number\",\n        \"std\": 0.14939585462775093,\n        \"min\": 0.22,\n        \"max\": 2.0,\n        \"num_unique_values\": 106,\n        \"samples\": [\n          1.16,\n          0.3,\n          0.43\n        ],\n        \"semantic_type\": \"\",\n        \"description\": \"\"\n      }\n    },\n    {\n      \"column\": \"alcohol\",\n      \"properties\": {\n        \"dtype\": \"number\",\n        \"std\": 1.1945236523157814,\n        \"min\": 8.0,\n        \"max\": 14.9,\n        \"num_unique_values\": 103,\n        \"samples\": [\n          13.7,\n          11.333333333333302,\n          13.6\n        ],\n        \"semantic_type\": \"\",\n        \"description\": \"\"\n      }\n    },\n    {\n      \"column\": \"type\",\n      \"properties\": {\n        \"dtype\": \"category\",\n        \"num_unique_values\": 2,\n        \"samples\": [\n          \"red\",\n          \"white\"\n        ],\n        \"semantic_type\": \"\",\n        \"description\": \"\"\n      }\n    }\n  ]\n}"
            }
          },
          "metadata": {},
          "execution_count": 13
        }
      ]
    },
    {
      "cell_type": "code",
      "source": [
        "wine.tail()"
      ],
      "metadata": {
        "colab": {
          "base_uri": "https://localhost:8080/",
          "height": 237
        },
        "id": "JWw5lI3rCFsm",
        "outputId": "b3052e72-4154-4722-ae28-d6a1f5b7eb49"
      },
      "execution_count": 14,
      "outputs": [
        {
          "output_type": "execute_result",
          "data": {
            "text/plain": [
              "       quality  fixed acidity  volatile acidity  citric acid  residual sugar  \\\n",
              "index                                                                          \n",
              "5492         5            7.7              0.15         0.29             1.3   \n",
              "5493         6            6.3              0.18         0.36             1.2   \n",
              "5494         7            7.8              0.15         0.34             1.1   \n",
              "5495         5            6.6              0.41         0.31             1.6   \n",
              "5496         6            7.0              0.35         0.17             1.1   \n",
              "\n",
              "       chlorides  free sulfur dioxide  total sulfur dioxide  density    pH  \\\n",
              "index                                                                        \n",
              "5492       0.029                 10.0                 64.0   0.99320  3.35   \n",
              "5493       0.034                 26.0                111.0   0.99074  3.16   \n",
              "5494       0.035                 31.0                 93.0   0.99096  3.07   \n",
              "5495       0.042                 18.0                101.0   0.99195  3.13   \n",
              "5496       0.049                  7.0                119.0   0.99297  3.13   \n",
              "\n",
              "       sulphates  alcohol   type  \n",
              "index                             \n",
              "5492        0.39     10.1  white  \n",
              "5493        0.51     11.0  white  \n",
              "5494        0.72     11.3  white  \n",
              "5495        0.41     10.5  white  \n",
              "5496        0.36      9.7  white  "
            ],
            "text/html": [
              "\n",
              "  <div id=\"df-fe536fca-c242-463d-a994-f0050dabd3d5\" class=\"colab-df-container\">\n",
              "    <div>\n",
              "<style scoped>\n",
              "    .dataframe tbody tr th:only-of-type {\n",
              "        vertical-align: middle;\n",
              "    }\n",
              "\n",
              "    .dataframe tbody tr th {\n",
              "        vertical-align: top;\n",
              "    }\n",
              "\n",
              "    .dataframe thead th {\n",
              "        text-align: right;\n",
              "    }\n",
              "</style>\n",
              "<table border=\"1\" class=\"dataframe\">\n",
              "  <thead>\n",
              "    <tr style=\"text-align: right;\">\n",
              "      <th></th>\n",
              "      <th>quality</th>\n",
              "      <th>fixed acidity</th>\n",
              "      <th>volatile acidity</th>\n",
              "      <th>citric acid</th>\n",
              "      <th>residual sugar</th>\n",
              "      <th>chlorides</th>\n",
              "      <th>free sulfur dioxide</th>\n",
              "      <th>total sulfur dioxide</th>\n",
              "      <th>density</th>\n",
              "      <th>pH</th>\n",
              "      <th>sulphates</th>\n",
              "      <th>alcohol</th>\n",
              "      <th>type</th>\n",
              "    </tr>\n",
              "    <tr>\n",
              "      <th>index</th>\n",
              "      <th></th>\n",
              "      <th></th>\n",
              "      <th></th>\n",
              "      <th></th>\n",
              "      <th></th>\n",
              "      <th></th>\n",
              "      <th></th>\n",
              "      <th></th>\n",
              "      <th></th>\n",
              "      <th></th>\n",
              "      <th></th>\n",
              "      <th></th>\n",
              "      <th></th>\n",
              "    </tr>\n",
              "  </thead>\n",
              "  <tbody>\n",
              "    <tr>\n",
              "      <th>5492</th>\n",
              "      <td>5</td>\n",
              "      <td>7.7</td>\n",
              "      <td>0.15</td>\n",
              "      <td>0.29</td>\n",
              "      <td>1.3</td>\n",
              "      <td>0.029</td>\n",
              "      <td>10.0</td>\n",
              "      <td>64.0</td>\n",
              "      <td>0.99320</td>\n",
              "      <td>3.35</td>\n",
              "      <td>0.39</td>\n",
              "      <td>10.1</td>\n",
              "      <td>white</td>\n",
              "    </tr>\n",
              "    <tr>\n",
              "      <th>5493</th>\n",
              "      <td>6</td>\n",
              "      <td>6.3</td>\n",
              "      <td>0.18</td>\n",
              "      <td>0.36</td>\n",
              "      <td>1.2</td>\n",
              "      <td>0.034</td>\n",
              "      <td>26.0</td>\n",
              "      <td>111.0</td>\n",
              "      <td>0.99074</td>\n",
              "      <td>3.16</td>\n",
              "      <td>0.51</td>\n",
              "      <td>11.0</td>\n",
              "      <td>white</td>\n",
              "    </tr>\n",
              "    <tr>\n",
              "      <th>5494</th>\n",
              "      <td>7</td>\n",
              "      <td>7.8</td>\n",
              "      <td>0.15</td>\n",
              "      <td>0.34</td>\n",
              "      <td>1.1</td>\n",
              "      <td>0.035</td>\n",
              "      <td>31.0</td>\n",
              "      <td>93.0</td>\n",
              "      <td>0.99096</td>\n",
              "      <td>3.07</td>\n",
              "      <td>0.72</td>\n",
              "      <td>11.3</td>\n",
              "      <td>white</td>\n",
              "    </tr>\n",
              "    <tr>\n",
              "      <th>5495</th>\n",
              "      <td>5</td>\n",
              "      <td>6.6</td>\n",
              "      <td>0.41</td>\n",
              "      <td>0.31</td>\n",
              "      <td>1.6</td>\n",
              "      <td>0.042</td>\n",
              "      <td>18.0</td>\n",
              "      <td>101.0</td>\n",
              "      <td>0.99195</td>\n",
              "      <td>3.13</td>\n",
              "      <td>0.41</td>\n",
              "      <td>10.5</td>\n",
              "      <td>white</td>\n",
              "    </tr>\n",
              "    <tr>\n",
              "      <th>5496</th>\n",
              "      <td>6</td>\n",
              "      <td>7.0</td>\n",
              "      <td>0.35</td>\n",
              "      <td>0.17</td>\n",
              "      <td>1.1</td>\n",
              "      <td>0.049</td>\n",
              "      <td>7.0</td>\n",
              "      <td>119.0</td>\n",
              "      <td>0.99297</td>\n",
              "      <td>3.13</td>\n",
              "      <td>0.36</td>\n",
              "      <td>9.7</td>\n",
              "      <td>white</td>\n",
              "    </tr>\n",
              "  </tbody>\n",
              "</table>\n",
              "</div>\n",
              "    <div class=\"colab-df-buttons\">\n",
              "\n",
              "  <div class=\"colab-df-container\">\n",
              "    <button class=\"colab-df-convert\" onclick=\"convertToInteractive('df-fe536fca-c242-463d-a994-f0050dabd3d5')\"\n",
              "            title=\"Convert this dataframe to an interactive table.\"\n",
              "            style=\"display:none;\">\n",
              "\n",
              "  <svg xmlns=\"http://www.w3.org/2000/svg\" height=\"24px\" viewBox=\"0 -960 960 960\">\n",
              "    <path d=\"M120-120v-720h720v720H120Zm60-500h600v-160H180v160Zm220 220h160v-160H400v160Zm0 220h160v-160H400v160ZM180-400h160v-160H180v160Zm440 0h160v-160H620v160ZM180-180h160v-160H180v160Zm440 0h160v-160H620v160Z\"/>\n",
              "  </svg>\n",
              "    </button>\n",
              "\n",
              "  <style>\n",
              "    .colab-df-container {\n",
              "      display:flex;\n",
              "      gap: 12px;\n",
              "    }\n",
              "\n",
              "    .colab-df-convert {\n",
              "      background-color: #E8F0FE;\n",
              "      border: none;\n",
              "      border-radius: 50%;\n",
              "      cursor: pointer;\n",
              "      display: none;\n",
              "      fill: #1967D2;\n",
              "      height: 32px;\n",
              "      padding: 0 0 0 0;\n",
              "      width: 32px;\n",
              "    }\n",
              "\n",
              "    .colab-df-convert:hover {\n",
              "      background-color: #E2EBFA;\n",
              "      box-shadow: 0px 1px 2px rgba(60, 64, 67, 0.3), 0px 1px 3px 1px rgba(60, 64, 67, 0.15);\n",
              "      fill: #174EA6;\n",
              "    }\n",
              "\n",
              "    .colab-df-buttons div {\n",
              "      margin-bottom: 4px;\n",
              "    }\n",
              "\n",
              "    [theme=dark] .colab-df-convert {\n",
              "      background-color: #3B4455;\n",
              "      fill: #D2E3FC;\n",
              "    }\n",
              "\n",
              "    [theme=dark] .colab-df-convert:hover {\n",
              "      background-color: #434B5C;\n",
              "      box-shadow: 0px 1px 3px 1px rgba(0, 0, 0, 0.15);\n",
              "      filter: drop-shadow(0px 1px 2px rgba(0, 0, 0, 0.3));\n",
              "      fill: #FFFFFF;\n",
              "    }\n",
              "  </style>\n",
              "\n",
              "    <script>\n",
              "      const buttonEl =\n",
              "        document.querySelector('#df-fe536fca-c242-463d-a994-f0050dabd3d5 button.colab-df-convert');\n",
              "      buttonEl.style.display =\n",
              "        google.colab.kernel.accessAllowed ? 'block' : 'none';\n",
              "\n",
              "      async function convertToInteractive(key) {\n",
              "        const element = document.querySelector('#df-fe536fca-c242-463d-a994-f0050dabd3d5');\n",
              "        const dataTable =\n",
              "          await google.colab.kernel.invokeFunction('convertToInteractive',\n",
              "                                                    [key], {});\n",
              "        if (!dataTable) return;\n",
              "\n",
              "        const docLinkHtml = 'Like what you see? Visit the ' +\n",
              "          '<a target=\"_blank\" href=https://colab.research.google.com/notebooks/data_table.ipynb>data table notebook</a>'\n",
              "          + ' to learn more about interactive tables.';\n",
              "        element.innerHTML = '';\n",
              "        dataTable['output_type'] = 'display_data';\n",
              "        await google.colab.output.renderOutput(dataTable, element);\n",
              "        const docLink = document.createElement('div');\n",
              "        docLink.innerHTML = docLinkHtml;\n",
              "        element.appendChild(docLink);\n",
              "      }\n",
              "    </script>\n",
              "  </div>\n",
              "\n",
              "\n",
              "<div id=\"df-f02ee873-b9d3-46e7-ac81-a0cbae1dc23d\">\n",
              "  <button class=\"colab-df-quickchart\" onclick=\"quickchart('df-f02ee873-b9d3-46e7-ac81-a0cbae1dc23d')\"\n",
              "            title=\"Suggest charts\"\n",
              "            style=\"display:none;\">\n",
              "\n",
              "<svg xmlns=\"http://www.w3.org/2000/svg\" height=\"24px\"viewBox=\"0 0 24 24\"\n",
              "     width=\"24px\">\n",
              "    <g>\n",
              "        <path d=\"M19 3H5c-1.1 0-2 .9-2 2v14c0 1.1.9 2 2 2h14c1.1 0 2-.9 2-2V5c0-1.1-.9-2-2-2zM9 17H7v-7h2v7zm4 0h-2V7h2v10zm4 0h-2v-4h2v4z\"/>\n",
              "    </g>\n",
              "</svg>\n",
              "  </button>\n",
              "\n",
              "<style>\n",
              "  .colab-df-quickchart {\n",
              "      --bg-color: #E8F0FE;\n",
              "      --fill-color: #1967D2;\n",
              "      --hover-bg-color: #E2EBFA;\n",
              "      --hover-fill-color: #174EA6;\n",
              "      --disabled-fill-color: #AAA;\n",
              "      --disabled-bg-color: #DDD;\n",
              "  }\n",
              "\n",
              "  [theme=dark] .colab-df-quickchart {\n",
              "      --bg-color: #3B4455;\n",
              "      --fill-color: #D2E3FC;\n",
              "      --hover-bg-color: #434B5C;\n",
              "      --hover-fill-color: #FFFFFF;\n",
              "      --disabled-bg-color: #3B4455;\n",
              "      --disabled-fill-color: #666;\n",
              "  }\n",
              "\n",
              "  .colab-df-quickchart {\n",
              "    background-color: var(--bg-color);\n",
              "    border: none;\n",
              "    border-radius: 50%;\n",
              "    cursor: pointer;\n",
              "    display: none;\n",
              "    fill: var(--fill-color);\n",
              "    height: 32px;\n",
              "    padding: 0;\n",
              "    width: 32px;\n",
              "  }\n",
              "\n",
              "  .colab-df-quickchart:hover {\n",
              "    background-color: var(--hover-bg-color);\n",
              "    box-shadow: 0 1px 2px rgba(60, 64, 67, 0.3), 0 1px 3px 1px rgba(60, 64, 67, 0.15);\n",
              "    fill: var(--button-hover-fill-color);\n",
              "  }\n",
              "\n",
              "  .colab-df-quickchart-complete:disabled,\n",
              "  .colab-df-quickchart-complete:disabled:hover {\n",
              "    background-color: var(--disabled-bg-color);\n",
              "    fill: var(--disabled-fill-color);\n",
              "    box-shadow: none;\n",
              "  }\n",
              "\n",
              "  .colab-df-spinner {\n",
              "    border: 2px solid var(--fill-color);\n",
              "    border-color: transparent;\n",
              "    border-bottom-color: var(--fill-color);\n",
              "    animation:\n",
              "      spin 1s steps(1) infinite;\n",
              "  }\n",
              "\n",
              "  @keyframes spin {\n",
              "    0% {\n",
              "      border-color: transparent;\n",
              "      border-bottom-color: var(--fill-color);\n",
              "      border-left-color: var(--fill-color);\n",
              "    }\n",
              "    20% {\n",
              "      border-color: transparent;\n",
              "      border-left-color: var(--fill-color);\n",
              "      border-top-color: var(--fill-color);\n",
              "    }\n",
              "    30% {\n",
              "      border-color: transparent;\n",
              "      border-left-color: var(--fill-color);\n",
              "      border-top-color: var(--fill-color);\n",
              "      border-right-color: var(--fill-color);\n",
              "    }\n",
              "    40% {\n",
              "      border-color: transparent;\n",
              "      border-right-color: var(--fill-color);\n",
              "      border-top-color: var(--fill-color);\n",
              "    }\n",
              "    60% {\n",
              "      border-color: transparent;\n",
              "      border-right-color: var(--fill-color);\n",
              "    }\n",
              "    80% {\n",
              "      border-color: transparent;\n",
              "      border-right-color: var(--fill-color);\n",
              "      border-bottom-color: var(--fill-color);\n",
              "    }\n",
              "    90% {\n",
              "      border-color: transparent;\n",
              "      border-bottom-color: var(--fill-color);\n",
              "    }\n",
              "  }\n",
              "</style>\n",
              "\n",
              "  <script>\n",
              "    async function quickchart(key) {\n",
              "      const quickchartButtonEl =\n",
              "        document.querySelector('#' + key + ' button');\n",
              "      quickchartButtonEl.disabled = true;  // To prevent multiple clicks.\n",
              "      quickchartButtonEl.classList.add('colab-df-spinner');\n",
              "      try {\n",
              "        const charts = await google.colab.kernel.invokeFunction(\n",
              "            'suggestCharts', [key], {});\n",
              "      } catch (error) {\n",
              "        console.error('Error during call to suggestCharts:', error);\n",
              "      }\n",
              "      quickchartButtonEl.classList.remove('colab-df-spinner');\n",
              "      quickchartButtonEl.classList.add('colab-df-quickchart-complete');\n",
              "    }\n",
              "    (() => {\n",
              "      let quickchartButtonEl =\n",
              "        document.querySelector('#df-f02ee873-b9d3-46e7-ac81-a0cbae1dc23d button');\n",
              "      quickchartButtonEl.style.display =\n",
              "        google.colab.kernel.accessAllowed ? 'block' : 'none';\n",
              "    })();\n",
              "  </script>\n",
              "</div>\n",
              "\n",
              "    </div>\n",
              "  </div>\n"
            ],
            "application/vnd.google.colaboratory.intrinsic+json": {
              "type": "dataframe",
              "summary": "{\n  \"name\": \"wine\",\n  \"rows\": 5,\n  \"fields\": [\n    {\n      \"column\": \"index\",\n      \"properties\": {\n        \"dtype\": \"number\",\n        \"std\": 1,\n        \"min\": 5492,\n        \"max\": 5496,\n        \"num_unique_values\": 5,\n        \"samples\": [\n          5493,\n          5496,\n          5494\n        ],\n        \"semantic_type\": \"\",\n        \"description\": \"\"\n      }\n    },\n    {\n      \"column\": \"quality\",\n      \"properties\": {\n        \"dtype\": \"number\",\n        \"std\": 0,\n        \"min\": 5,\n        \"max\": 7,\n        \"num_unique_values\": 3,\n        \"samples\": [\n          5,\n          6,\n          7\n        ],\n        \"semantic_type\": \"\",\n        \"description\": \"\"\n      }\n    },\n    {\n      \"column\": \"fixed acidity\",\n      \"properties\": {\n        \"dtype\": \"number\",\n        \"std\": 0.6610597552415365,\n        \"min\": 6.3,\n        \"max\": 7.8,\n        \"num_unique_values\": 5,\n        \"samples\": [\n          6.3,\n          7.0,\n          7.8\n        ],\n        \"semantic_type\": \"\",\n        \"description\": \"\"\n      }\n    },\n    {\n      \"column\": \"volatile acidity\",\n      \"properties\": {\n        \"dtype\": \"number\",\n        \"std\": 0.12296340919151517,\n        \"min\": 0.15,\n        \"max\": 0.41,\n        \"num_unique_values\": 4,\n        \"samples\": [\n          0.18,\n          0.35,\n          0.15\n        ],\n        \"semantic_type\": \"\",\n        \"description\": \"\"\n      }\n    },\n    {\n      \"column\": \"citric acid\",\n      \"properties\": {\n        \"dtype\": \"number\",\n        \"std\": 0.07436396977031283,\n        \"min\": 0.17,\n        \"max\": 0.36,\n        \"num_unique_values\": 5,\n        \"samples\": [\n          0.36,\n          0.17,\n          0.34\n        ],\n        \"semantic_type\": \"\",\n        \"description\": \"\"\n      }\n    },\n    {\n      \"column\": \"residual sugar\",\n      \"properties\": {\n        \"dtype\": \"number\",\n        \"std\": 0.20736441353327723,\n        \"min\": 1.1,\n        \"max\": 1.6,\n        \"num_unique_values\": 4,\n        \"samples\": [\n          1.2,\n          1.6,\n          1.3\n        ],\n        \"semantic_type\": \"\",\n        \"description\": \"\"\n      }\n    },\n    {\n      \"column\": \"chlorides\",\n      \"properties\": {\n        \"dtype\": \"number\",\n        \"std\": 0.007791020472313011,\n        \"min\": 0.0289999999999999,\n        \"max\": 0.049,\n        \"num_unique_values\": 5,\n        \"samples\": [\n          0.034,\n          0.049,\n          0.035\n        ],\n        \"semantic_type\": \"\",\n        \"description\": \"\"\n      }\n    },\n    {\n      \"column\": \"free sulfur dioxide\",\n      \"properties\": {\n        \"dtype\": \"number\",\n        \"std\": 10.21273714534943,\n        \"min\": 7.0,\n        \"max\": 31.0,\n        \"num_unique_values\": 5,\n        \"samples\": [\n          26.0,\n          7.0,\n          31.0\n        ],\n        \"semantic_type\": \"\",\n        \"description\": \"\"\n      }\n    },\n    {\n      \"column\": \"total sulfur dioxide\",\n      \"properties\": {\n        \"dtype\": \"number\",\n        \"std\": 21.208488866489287,\n        \"min\": 64.0,\n        \"max\": 119.0,\n        \"num_unique_values\": 5,\n        \"samples\": [\n          111.0,\n          119.0,\n          93.0\n        ],\n        \"semantic_type\": \"\",\n        \"description\": \"\"\n      }\n    },\n    {\n      \"column\": \"density\",\n      \"properties\": {\n        \"dtype\": \"number\",\n        \"std\": 0.0011231785254357583,\n        \"min\": 0.99074,\n        \"max\": 0.9932,\n        \"num_unique_values\": 5,\n        \"samples\": [\n          0.99074,\n          0.99297,\n          0.99096\n        ],\n        \"semantic_type\": \"\",\n        \"description\": \"\"\n      }\n    },\n    {\n      \"column\": \"pH\",\n      \"properties\": {\n        \"dtype\": \"number\",\n        \"std\": 0.10686440005914047,\n        \"min\": 3.07,\n        \"max\": 3.35,\n        \"num_unique_values\": 4,\n        \"samples\": [\n          3.16,\n          3.13,\n          3.35\n        ],\n        \"semantic_type\": \"\",\n        \"description\": \"\"\n      }\n    },\n    {\n      \"column\": \"sulphates\",\n      \"properties\": {\n        \"dtype\": \"number\",\n        \"std\": 0.14652644812456211,\n        \"min\": 0.36,\n        \"max\": 0.72,\n        \"num_unique_values\": 5,\n        \"samples\": [\n          0.51,\n          0.36,\n          0.72\n        ],\n        \"semantic_type\": \"\",\n        \"description\": \"\"\n      }\n    },\n    {\n      \"column\": \"alcohol\",\n      \"properties\": {\n        \"dtype\": \"number\",\n        \"std\": 0.6496152707564691,\n        \"min\": 9.7,\n        \"max\": 11.3,\n        \"num_unique_values\": 5,\n        \"samples\": [\n          11.0,\n          9.7,\n          11.3\n        ],\n        \"semantic_type\": \"\",\n        \"description\": \"\"\n      }\n    },\n    {\n      \"column\": \"type\",\n      \"properties\": {\n        \"dtype\": \"category\",\n        \"num_unique_values\": 1,\n        \"samples\": [\n          \"white\"\n        ],\n        \"semantic_type\": \"\",\n        \"description\": \"\"\n      }\n    }\n  ]\n}"
            }
          },
          "metadata": {},
          "execution_count": 14
        }
      ]
    },
    {
      "cell_type": "code",
      "source": [
        "wine.info()"
      ],
      "metadata": {
        "colab": {
          "base_uri": "https://localhost:8080/"
        },
        "id": "mpSk8pQ6CJPh",
        "outputId": "53524cc6-43aa-45a4-b494-85152b7f6c0c"
      },
      "execution_count": 15,
      "outputs": [
        {
          "output_type": "stream",
          "name": "stdout",
          "text": [
            "<class 'pandas.core.frame.DataFrame'>\n",
            "Index: 5497 entries, 0 to 5496\n",
            "Data columns (total 13 columns):\n",
            " #   Column                Non-Null Count  Dtype  \n",
            "---  ------                --------------  -----  \n",
            " 0   quality               5497 non-null   int64  \n",
            " 1   fixed acidity         5497 non-null   float64\n",
            " 2   volatile acidity      5497 non-null   float64\n",
            " 3   citric acid           5497 non-null   float64\n",
            " 4   residual sugar        5497 non-null   float64\n",
            " 5   chlorides             5497 non-null   float64\n",
            " 6   free sulfur dioxide   5497 non-null   float64\n",
            " 7   total sulfur dioxide  5497 non-null   float64\n",
            " 8   density               5497 non-null   float64\n",
            " 9   pH                    5497 non-null   float64\n",
            " 10  sulphates             5497 non-null   float64\n",
            " 11  alcohol               5497 non-null   float64\n",
            " 12  type                  5497 non-null   object \n",
            "dtypes: float64(11), int64(1), object(1)\n",
            "memory usage: 601.2+ KB\n"
          ]
        }
      ]
    },
    {
      "cell_type": "code",
      "source": [
        "wine.info()"
      ],
      "metadata": {
        "colab": {
          "base_uri": "https://localhost:8080/"
        },
        "id": "0RTFn8Q6CMRi",
        "outputId": "dd6a4043-5d34-428f-ea72-e779ac1cff52"
      },
      "execution_count": 16,
      "outputs": [
        {
          "output_type": "stream",
          "name": "stdout",
          "text": [
            "<class 'pandas.core.frame.DataFrame'>\n",
            "Index: 5497 entries, 0 to 5496\n",
            "Data columns (total 13 columns):\n",
            " #   Column                Non-Null Count  Dtype  \n",
            "---  ------                --------------  -----  \n",
            " 0   quality               5497 non-null   int64  \n",
            " 1   fixed acidity         5497 non-null   float64\n",
            " 2   volatile acidity      5497 non-null   float64\n",
            " 3   citric acid           5497 non-null   float64\n",
            " 4   residual sugar        5497 non-null   float64\n",
            " 5   chlorides             5497 non-null   float64\n",
            " 6   free sulfur dioxide   5497 non-null   float64\n",
            " 7   total sulfur dioxide  5497 non-null   float64\n",
            " 8   density               5497 non-null   float64\n",
            " 9   pH                    5497 non-null   float64\n",
            " 10  sulphates             5497 non-null   float64\n",
            " 11  alcohol               5497 non-null   float64\n",
            " 12  type                  5497 non-null   object \n",
            "dtypes: float64(11), int64(1), object(1)\n",
            "memory usage: 601.2+ KB\n"
          ]
        }
      ]
    },
    {
      "cell_type": "code",
      "source": [
        "wine.dtypes"
      ],
      "metadata": {
        "colab": {
          "base_uri": "https://localhost:8080/"
        },
        "id": "PByXasn_CPGY",
        "outputId": "8701ae66-bf70-4a97-a296-171d82545e4e"
      },
      "execution_count": 17,
      "outputs": [
        {
          "output_type": "execute_result",
          "data": {
            "text/plain": [
              "quality                   int64\n",
              "fixed acidity           float64\n",
              "volatile acidity        float64\n",
              "citric acid             float64\n",
              "residual sugar          float64\n",
              "chlorides               float64\n",
              "free sulfur dioxide     float64\n",
              "total sulfur dioxide    float64\n",
              "density                 float64\n",
              "pH                      float64\n",
              "sulphates               float64\n",
              "alcohol                 float64\n",
              "type                     object\n",
              "dtype: object"
            ]
          },
          "metadata": {},
          "execution_count": 17
        }
      ]
    },
    {
      "cell_type": "markdown",
      "source": [
        "### 2. 데이터 전처리"
      ],
      "metadata": {
        "id": "K5ZRlGZfDQxd"
      }
    },
    {
      "cell_type": "markdown",
      "source": [
        "* 결측치 확인"
      ],
      "metadata": {
        "id": "tK6rwv-EDXr3"
      }
    },
    {
      "cell_type": "code",
      "source": [
        "wine.isnull().sum()"
      ],
      "metadata": {
        "colab": {
          "base_uri": "https://localhost:8080/"
        },
        "id": "DP4LPOqNDSMT",
        "outputId": "0edba494-8c00-4912-b02b-025f703da2c9"
      },
      "execution_count": 18,
      "outputs": [
        {
          "output_type": "execute_result",
          "data": {
            "text/plain": [
              "quality                 0\n",
              "fixed acidity           0\n",
              "volatile acidity        0\n",
              "citric acid             0\n",
              "residual sugar          0\n",
              "chlorides               0\n",
              "free sulfur dioxide     0\n",
              "total sulfur dioxide    0\n",
              "density                 0\n",
              "pH                      0\n",
              "sulphates               0\n",
              "alcohol                 0\n",
              "type                    0\n",
              "dtype: int64"
            ]
          },
          "metadata": {},
          "execution_count": 18
        }
      ]
    },
    {
      "cell_type": "markdown",
      "source": [
        "* 중복값 확인"
      ],
      "metadata": {
        "id": "iP7t7uR5Dfx1"
      }
    },
    {
      "cell_type": "code",
      "source": [
        "wine.duplicated().sum()"
      ],
      "metadata": {
        "colab": {
          "base_uri": "https://localhost:8080/"
        },
        "id": "NISaRyf-DcY2",
        "outputId": "d6c2d4ae-c4c2-402a-cb7d-14970c969930"
      },
      "execution_count": 19,
      "outputs": [
        {
          "output_type": "execute_result",
          "data": {
            "text/plain": [
              "858"
            ]
          },
          "metadata": {},
          "execution_count": 19
        }
      ]
    },
    {
      "cell_type": "markdown",
      "source": [
        "* 이상치 확인"
      ],
      "metadata": {
        "id": "_8ktt_f5DpNT"
      }
    },
    {
      "cell_type": "code",
      "source": [
        "# 이상치는 중앙값을 크게 벗어난 값 (중앙값 기준 1.5배 넘어가는 값)\n",
        "# IQR : 1사분위수와 3사분위수의 차이값\n",
        "\n",
        "# 1사분위수 - (1.5)IQR\n",
        "# 3사분위수 + (1.5)IQR\n",
        "\n",
        "# 이상치 기준값 제공 함수\n",
        "def outlier_criteria(x,column):\n",
        "  # 01(1사분위수), 03(3사분위수) 구하기\n",
        "  q1 = x[column].quantile(0.25)\n",
        "  q3 = x[column].quantile(0.75)\n",
        "\n",
        "  # 이상치 : 1.5 * IQT (Q3 - Q1)\n",
        "  iqr = 1.5 * ( q3 - q1 )\n",
        "\n",
        "  iqr1 = q1 - iqr\n",
        "  iqr3 = q3 + iqr\n",
        "\n",
        "  return(iqr1,iqr3)\n",
        "\n",
        "# 이상치 대체값 설정 함수\n",
        "def change_outlier(data,column):\n",
        "  x = data.copy()\n",
        "\n",
        "  # 이상치 기준값 계산\n",
        "  iqr1, iqr3 = outlier_criteria(x,column)\n",
        "\n",
        "  # 이상치 대체값 설정\n",
        "  standard_min = 0\n",
        "  if iqr1 > 0:\n",
        "    change_min = iqr1\n",
        "  standard_max =iqr3\n",
        "\n",
        "  # 이상치 대체\n",
        "  x.loc[(x[column] > standard_max), column] =standard_max\n",
        "  x.loc[(x[column] < standard_min),column] = standard_min\n",
        "\n",
        "  return x\n",
        "\n",
        "def print_outlier(x,column):\n",
        "  # 이상치 기준값 개선\n",
        "  iqr1, iqr3 = outlier_criteria(x,column)\n",
        "\n",
        "  print(f'이상치 기준값 : {round(iqr1,3)},{round(iqr3,3)}\\n')\n",
        "  outlier = list(x[(x[column] > iqr3) | (x[column]<iqr1)][column])\n",
        "\n",
        "  print(f'{column} 변수 이상치\\n')\n",
        "  print(outlier)\n",
        "  print(f'\\n{column} 변수 이상치 개수 : {len(outlier)}개')"
      ],
      "metadata": {
        "id": "BzDLnkChDn_E"
      },
      "execution_count": 20,
      "outputs": []
    },
    {
      "cell_type": "markdown",
      "source": [
        "* quality : 품질\n",
        "\n",
        "\n"
      ],
      "metadata": {
        "id": "sjP1SHnyDur-"
      }
    },
    {
      "cell_type": "code",
      "source": [
        "wine['quality'].describe()"
      ],
      "metadata": {
        "colab": {
          "base_uri": "https://localhost:8080/"
        },
        "id": "D90RWK57a57w",
        "outputId": "432b9056-f080-4834-f129-8a53a88053b2"
      },
      "execution_count": 21,
      "outputs": [
        {
          "output_type": "execute_result",
          "data": {
            "text/plain": [
              "count    5497.000000\n",
              "mean        5.818992\n",
              "std         0.870311\n",
              "min         3.000000\n",
              "25%         5.000000\n",
              "50%         6.000000\n",
              "75%         6.000000\n",
              "max         9.000000\n",
              "Name: quality, dtype: float64"
            ]
          },
          "metadata": {},
          "execution_count": 21
        }
      ]
    },
    {
      "cell_type": "code",
      "source": [
        "wine['quality'].value_counts()"
      ],
      "metadata": {
        "colab": {
          "base_uri": "https://localhost:8080/"
        },
        "id": "i440F2XzbE4m",
        "outputId": "308692ff-8203-4ff2-d83c-096329740ec8"
      },
      "execution_count": 22,
      "outputs": [
        {
          "output_type": "execute_result",
          "data": {
            "text/plain": [
              "quality\n",
              "6    2416\n",
              "5    1788\n",
              "7     924\n",
              "4     186\n",
              "8     152\n",
              "3      26\n",
              "9       5\n",
              "Name: count, dtype: int64"
            ]
          },
          "metadata": {},
          "execution_count": 22
        }
      ]
    },
    {
      "cell_type": "code",
      "source": [
        "wine['quality'].plot(kind='box')"
      ],
      "metadata": {
        "colab": {
          "base_uri": "https://localhost:8080/",
          "height": 449
        },
        "id": "3nm-Q9NdbP5h",
        "outputId": "7580c468-81ae-4027-ba13-adb1791e15e9"
      },
      "execution_count": 23,
      "outputs": [
        {
          "output_type": "execute_result",
          "data": {
            "text/plain": [
              "<Axes: >"
            ]
          },
          "metadata": {},
          "execution_count": 23
        },
        {
          "output_type": "display_data",
          "data": {
            "text/plain": [
              "<Figure size 640x480 with 1 Axes>"
            ],
            "image/png": "[encoded data removed]"
          },
          "metadata": {}
        }
      ]
    },
    {
      "cell_type": "code",
      "source": [
        "print_outlier(wine,'quality')"
      ],
      "metadata": {
        "colab": {
          "base_uri": "https://localhost:8080/"
        },
        "id": "M7bea6cwcVwn",
        "outputId": "d9752671-a85f-4327-e905-bc0dcde86b21"
      },
      "execution_count": 24,
      "outputs": [
        {
          "output_type": "stream",
          "name": "stdout",
          "text": [
            "이상치 기준값 : 3.5,7.5\n",
            "\n",
            "quality 변수 이상치\n",
            "\n",
            "[8, 8, 8, 8, 8, 8, 8, 3, 8, 8, 8, 8, 8, 8, 8, 8, 8, 8, 8, 8, 8, 9, 8, 8, 8, 8, 3, 3, 8, 8, 8, 8, 8, 8, 3, 8, 8, 8, 8, 8, 3, 3, 8, 8, 8, 8, 8, 8, 3, 8, 8, 8, 8, 8, 8, 8, 8, 8, 8, 8, 8, 8, 8, 3, 8, 8, 8, 8, 8, 8, 8, 3, 8, 8, 8, 8, 8, 8, 8, 8, 8, 8, 8, 8, 8, 3, 9, 8, 8, 8, 8, 9, 8, 8, 8, 8, 8, 3, 3, 8, 8, 3, 8, 8, 8, 8, 8, 8, 8, 3, 3, 8, 8, 8, 8, 9, 3, 8, 8, 8, 8, 8, 8, 8, 8, 9, 8, 8, 3, 8, 8, 8, 8, 8, 8, 8, 8, 8, 8, 3, 8, 3, 8, 8, 8, 8, 3, 8, 8, 8, 8, 8, 8, 3, 8, 8, 8, 8, 8, 8, 8, 8, 8, 3, 8, 8, 8, 8, 8, 8, 8, 3, 8, 8, 8, 8, 3, 3, 8, 8, 3, 8, 8]\n",
            "\n",
            "quality 변수 이상치 개수 : 183개\n"
          ]
        }
      ]
    },
    {
      "cell_type": "markdown",
      "source": [
        "* fixed acidity : 결합산도"
      ],
      "metadata": {
        "id": "h4u4rhENdKF8"
      }
    },
    {
      "cell_type": "code",
      "source": [
        "wine['fixed acidity'].describe()"
      ],
      "metadata": {
        "colab": {
          "base_uri": "https://localhost:8080/"
        },
        "id": "AyzWv7pOdJzd",
        "outputId": "042df8c8-98e0-4751-e63e-c3e75a98701a"
      },
      "execution_count": 25,
      "outputs": [
        {
          "output_type": "execute_result",
          "data": {
            "text/plain": [
              "count    5497.000000\n",
              "mean        7.210115\n",
              "std         1.287579\n",
              "min         3.800000\n",
              "25%         6.400000\n",
              "50%         7.000000\n",
              "75%         7.700000\n",
              "max        15.900000\n",
              "Name: fixed acidity, dtype: float64"
            ]
          },
          "metadata": {},
          "execution_count": 25
        }
      ]
    },
    {
      "cell_type": "code",
      "source": [
        "wine['fixed acidity'].unique()"
      ],
      "metadata": {
        "colab": {
          "base_uri": "https://localhost:8080/"
        },
        "id": "e1PZCMnLdTBb",
        "outputId": "c9c7c089-d0f6-41e0-d199-12398fb59bab"
      },
      "execution_count": 26,
      "outputs": [
        {
          "output_type": "execute_result",
          "data": {
            "text/plain": [
              "array([ 5.6 ,  8.8 ,  7.9 ,  7.  ,  7.8 ,  6.  ,  6.1 ,  7.1 ,  6.8 ,\n",
              "        8.  ,  6.2 ,  7.3 , 12.5 ,  6.5 ,  8.2 ,  7.6 ,  7.2 ,  7.7 ,\n",
              "        8.9 ,  6.6 ,  6.3 ,  6.4 ,  5.9 ,  9.9 ,  8.7 ,  7.5 ,  7.4 ,\n",
              "        6.9 , 10.2 , 10.7 ,  8.4 ,  8.3 , 10.  ,  5.2 ,  8.6 ,  5.7 ,\n",
              "        5.  ,  9.3 , 11.9 ,  8.5 ,  5.5 ,  4.9 ,  5.8 ,  6.7 ,  9.1 ,\n",
              "       10.4 ,  9.5 ,  5.4 , 15.5 , 12.6 ,  5.3 ,  4.7 ,  8.1 , 11.3 ,\n",
              "       11.6 ,  9.2 , 10.6 , 10.9 ,  4.6 ,  9.7 ,  9.  ,  9.8 , 11.1 ,\n",
              "       11.8 , 11.5 ,  9.6 ,  5.1 , 14.3 , 10.1 , 10.8 , 10.3 , 11.  ,\n",
              "        6.45, 12.8 , 12.1 , 12.9 , 13.3 ,  9.4 ,  4.4 , 12.7 , 13.7 ,\n",
              "       10.5 ,  4.8 , 12.3 , 12.  , 15.6 , 12.2 , 13.5 , 11.2 , 12.4 ,\n",
              "       14.  ,  6.15, 15.  , 13.4 , 13.8 , 11.7 , 13.  , 15.9 , 13.2 ,\n",
              "       11.4 , 14.2 ,  3.9 ,  3.8 ,  7.15,  4.2 ,  4.5 ])"
            ]
          },
          "metadata": {},
          "execution_count": 26
        }
      ]
    },
    {
      "cell_type": "code",
      "source": [
        "wine['fixed acidity'].plot(kind='box')"
      ],
      "metadata": {
        "colab": {
          "base_uri": "https://localhost:8080/",
          "height": 450
        },
        "id": "zFHbcuJVdc4j",
        "outputId": "c9187ad0-b072-471f-acce-c1381bc6edc5"
      },
      "execution_count": 27,
      "outputs": [
        {
          "output_type": "execute_result",
          "data": {
            "text/plain": [
              "<Axes: >"
            ]
          },
          "metadata": {},
          "execution_count": 27
        },
        {
          "output_type": "display_data",
          "data": {
            "text/plain": [
              "<Figure size 640x480 with 1 Axes>"
            ],
            "image/png": "[encoded data removed]"
          },
          "metadata": {}
        }
      ]
    },
    {
      "cell_type": "code",
      "source": [
        "print_outlier(wine,'fixed acidity')"
      ],
      "metadata": {
        "colab": {
          "base_uri": "https://localhost:8080/"
        },
        "id": "AmqxhbFIdkWn",
        "outputId": "7cd80b5c-6ec3-45ad-9bb5-2ebcf60a680b"
      },
      "execution_count": 28,
      "outputs": [
        {
          "output_type": "stream",
          "name": "stdout",
          "text": [
            "이상치 기준값 : 4.45,9.65\n",
            "\n",
            "fixed acidity 변수 이상치\n",
            "\n",
            "[12.5, 9.9, 10.2, 10.7, 10.0, 11.9, 10.4, 9.9, 15.5, 12.6, 9.9, 11.3, 11.6, 10.6, 10.9, 12.5, 10.0, 9.7, 10.4, 11.9, 10.6, 9.8, 11.1, 10.2, 11.8, 11.5, 11.5, 9.9, 11.5, 9.9, 10.0, 14.3, 10.1, 10.8, 11.1, 10.4, 12.6, 10.2, 10.3, 10.0, 10.3, 9.8, 11.0, 10.9, 9.8, 12.8, 12.1, 12.9, 13.3, 9.9, 10.8, 9.7, 11.6, 10.4, 4.4, 10.4, 9.9, 11.6, 10.4, 9.8, 12.7, 11.1, 13.7, 11.5, 10.0, 10.5, 10.4, 10.5, 9.9, 12.3, 12.0, 10.0, 9.7, 10.4, 9.8, 10.7, 9.8, 11.1, 15.6, 10.7, 10.5, 10.4, 11.1, 11.9, 12.0, 10.3, 12.2, 13.5, 11.6, 10.4, 4.4, 11.9, 9.8, 10.4, 9.8, 12.0, 11.2, 10.5, 9.8, 9.9, 10.3, 12.4, 10.0, 9.7, 10.2, 10.2, 10.0, 9.9, 10.1, 11.8, 9.7, 10.3, 10.6, 12.2, 9.7, 10.2, 11.1, 9.7, 12.8, 10.0, 10.2, 12.4, 11.5, 11.9, 10.7, 14.0, 9.8, 11.9, 13.3, 10.6, 15.0, 10.9, 9.9, 4.4, 10.9, 10.3, 10.8, 12.9, 13.4, 10.7, 9.8, 9.8, 10.7, 13.7, 15.0, 9.9, 13.8, 11.7, 11.0, 10.0, 10.5, 10.5, 10.4, 10.1, 13.0, 15.9, 13.2, 10.6, 13.2, 12.7, 10.2, 10.9, 10.0, 11.4, 10.4, 10.0, 12.3, 10.2, 10.0, 11.6, 12.2, 10.0, 14.2, 9.7, 10.2, 10.3, 12.5, 11.5, 11.9, 10.3, 10.3, 11.5, 9.9, 10.5, 10.5, 11.3, 9.8, 15.5, 11.7, 9.7, 10.6, 3.9, 10.5, 10.6, 10.1, 10.2, 10.3, 11.5, 10.2, 11.8, 11.2, 9.8, 11.8, 11.2, 10.4, 10.0, 10.2, 12.3, 9.9, 10.5, 12.6, 11.9, 12.8, 11.5, 11.9, 11.3, 10.2, 9.9, 11.6, 11.2, 9.8, 3.8, 10.0, 10.8, 10.1, 10.2, 10.8, 12.8, 10.2, 12.3, 11.4, 11.9, 12.7, 9.9, 9.8, 9.9, 4.2, 12.3, 10.4, 12.4, 10.9, 11.6, 12.0, 11.6, 13.2, 10.0, 11.4, 10.3, 11.0, 10.0, 10.4, 9.8, 10.8, 9.8, 10.7, 10.0, 10.1, 12.4, 11.1, 10.4, 9.7, 10.0, 9.8, 9.9, 10.0, 10.8, 11.7, 11.5, 10.2, 9.8, 10.6, 10.4, 10.1, 11.6, 10.7, 10.1, 10.3, 9.7, 10.5, 9.7, 12.7, 11.1, 10.6, 10.7, 10.0, 11.3, 9.9, 9.9, 10.6, 10.3, 9.9, 10.2, 10.8, 11.1]\n",
            "\n",
            "fixed acidity 변수 이상치 개수 : 294개\n"
          ]
        }
      ]
    },
    {
      "cell_type": "markdown",
      "source": [
        "* volatile acidity : 휘발성산"
      ],
      "metadata": {
        "id": "dgOKWUgNeqiz"
      }
    },
    {
      "cell_type": "code",
      "source": [
        "wine['volatile acidity'].describe()"
      ],
      "metadata": {
        "colab": {
          "base_uri": "https://localhost:8080/"
        },
        "id": "76VtJS-MevmQ",
        "outputId": "240d5224-f35a-4a59-9eef-47d8197669e2"
      },
      "execution_count": 29,
      "outputs": [
        {
          "output_type": "execute_result",
          "data": {
            "text/plain": [
              "count    5497.000000\n",
              "mean        0.338163\n",
              "std         0.163224\n",
              "min         0.080000\n",
              "25%         0.230000\n",
              "50%         0.290000\n",
              "75%         0.400000\n",
              "max         1.580000\n",
              "Name: volatile acidity, dtype: float64"
            ]
          },
          "metadata": {},
          "execution_count": 29
        }
      ]
    },
    {
      "cell_type": "code",
      "source": [
        "wine['volatile acidity'].unique()"
      ],
      "metadata": {
        "colab": {
          "base_uri": "https://localhost:8080/"
        },
        "id": "HLbANOQXe4hX",
        "outputId": "334eaacb-524e-457a-8afc-e920bfed7e19"
      },
      "execution_count": 30,
      "outputs": [
        {
          "output_type": "execute_result",
          "data": {
            "text/plain": [
              "array([0.695, 0.61 , 0.21 , 0.4  , 0.19 , 0.22 , 0.38 , 0.24 , 0.39 ,\n",
              "       0.18 , 0.16 , 0.33 , 0.31 , 0.49 , 0.37 , 0.28 , 0.23 , 0.56 ,\n",
              "       0.715, 0.75 , 0.29 , 0.36 , 0.41 , 0.26 , 0.44 , 0.59 , 0.27 ,\n",
              "       0.735, 0.32 , 0.74 , 0.6  , 0.305, 0.46 , 0.54 , 0.53 , 0.295,\n",
              "       0.43 , 0.34 , 0.69 , 0.1  , 0.405, 0.2  , 0.3  , 0.58 , 0.17 ,\n",
              "       0.25 , 0.785, 0.12 , 0.335, 0.15 , 0.35 , 0.775, 0.64 , 0.5  ,\n",
              "       0.385, 0.68 , 0.145, 0.48 , 0.55 , 0.67 , 0.62 , 0.365, 0.63 ,\n",
              "       0.645, 0.78 , 0.84 , 0.875, 0.13 , 0.125, 0.45 , 0.275, 0.14 ,\n",
              "       0.745, 0.52 , 0.255, 0.76 , 0.83 , 0.345, 0.57 , 0.51 , 0.175,\n",
              "       0.47 , 0.165, 0.11 , 0.7  , 0.265, 0.915, 0.42 , 0.545, 1.04 ,\n",
              "       0.685, 1.13 , 0.89 , 0.66 , 0.565, 0.835, 0.245, 0.82 , 0.475,\n",
              "       0.65 , 0.91 , 1.33 , 0.555, 0.765, 0.72 , 0.795, 0.92 , 0.08 ,\n",
              "       0.895, 0.585, 0.395, 0.77 , 0.8  , 0.615, 0.415, 0.105, 0.815,\n",
              "       0.73 , 0.205, 0.88 , 0.655, 0.98 , 0.965, 1.18 , 0.185, 1.115,\n",
              "       0.725, 0.9  , 0.235, 1.005, 0.705, 0.285, 0.605, 0.885, 0.425,\n",
              "       0.805, 1.02 , 0.81 , 0.315, 0.71 , 0.485, 0.445, 0.85 , 0.225,\n",
              "       0.935, 0.625, 0.635, 1.01 , 0.87 , 0.755, 0.96 , 0.595, 0.115,\n",
              "       0.435, 0.855, 0.135, 0.155, 0.455, 1.58 , 1.1  , 0.375, 1.025,\n",
              "       0.665, 0.865, 0.79 , 0.955, 1.185, 1.   , 0.355, 0.085, 0.86 ,\n",
              "       0.215, 0.325, 1.09 , 1.035, 0.575, 0.09 , 0.675, 0.495])"
            ]
          },
          "metadata": {},
          "execution_count": 30
        }
      ]
    },
    {
      "cell_type": "code",
      "source": [
        "wine ['volatile acidity'].plot(kind = 'box')"
      ],
      "metadata": {
        "colab": {
          "base_uri": "https://localhost:8080/",
          "height": 449
        },
        "id": "Te-gaxBIe_Sj",
        "outputId": "150c35a8-a0ce-4125-91a1-5338ddee3c48"
      },
      "execution_count": 31,
      "outputs": [
        {
          "output_type": "execute_result",
          "data": {
            "text/plain": [
              "<Axes: >"
            ]
          },
          "metadata": {},
          "execution_count": 31
        },
        {
          "output_type": "display_data",
          "data": {
            "text/plain": [
              "<Figure size 640x480 with 1 Axes>"
            ],
            "image/png": "[encoded data removed]"
          },
          "metadata": {}
        }
      ]
    },
    {
      "cell_type": "code",
      "source": [
        "print_outlier(wine, 'volatile acidity')"
      ],
      "metadata": {
        "colab": {
          "base_uri": "https://localhost:8080/"
        },
        "id": "Umn32lrIfGfc",
        "outputId": "a6fbfcbd-4ba4-4cab-f64d-b1fde4ee60a0"
      },
      "execution_count": 32,
      "outputs": [
        {
          "output_type": "stream",
          "name": "stdout",
          "text": [
            "이상치 기준값 : -0.025,0.655\n",
            "\n",
            "volatile acidity 변수 이상치\n",
            "\n",
            "[0.695, 0.715, 0.75, 0.75, 0.735, 0.74, 0.69, 0.695, 0.69, 0.785, 0.775, 0.68, 0.67, 0.78, 0.735, 0.75, 0.785, 0.84, 0.875, 0.67, 0.745, 0.69, 0.76, 0.695, 0.715, 0.83, 0.775, 0.67, 0.69, 0.76, 0.7, 0.915, 0.68, 0.69, 1.04, 0.685, 0.74, 1.13, 0.89, 0.66, 0.835, 0.82, 0.91, 0.66, 1.33, 0.84, 0.765, 0.745, 0.685, 0.72, 0.795, 0.69, 0.67, 0.685, 0.92, 0.895, 0.765, 0.785, 0.67, 0.77, 0.78, 0.68, 0.8, 0.685, 0.82, 0.72, 0.76, 0.67, 0.76, 0.66, 0.685, 0.74, 0.66, 0.815, 0.73, 0.66, 0.785, 0.88, 0.73, 0.98, 0.68, 0.715, 0.68, 0.67, 0.965, 0.78, 1.18, 0.66, 0.685, 1.115, 0.695, 0.725, 0.685, 0.66, 0.69, 0.9, 0.915, 0.7, 0.78, 1.005, 0.66, 0.74, 0.68, 0.715, 0.775, 0.705, 0.66, 0.885, 0.66, 0.78, 0.66, 0.74, 0.66, 0.7, 0.74, 0.67, 0.875, 0.805, 0.88, 1.02, 0.7, 0.69, 0.66, 0.885, 1.005, 0.75, 0.81, 0.67, 0.705, 0.66, 0.69, 0.75, 0.8, 0.71, 0.695, 0.69, 0.715, 0.7, 0.84, 0.82, 0.735, 0.695, 0.67, 0.73, 0.67, 0.685, 0.85, 0.67, 0.935, 1.01, 0.715, 0.885, 0.87, 0.755, 0.735, 0.69, 0.74, 0.96, 0.725, 0.77, 0.685, 0.83, 0.765, 0.88, 0.855, 0.815, 0.66, 1.02, 0.785, 0.84, 0.77, 0.67, 0.73, 0.685, 0.74, 0.88, 0.765, 0.68, 0.815, 0.76, 0.69, 0.7, 0.695, 0.66, 0.78, 0.69, 0.745, 0.725, 1.58, 1.1, 0.725, 0.98, 0.96, 0.705, 0.835, 0.67, 0.73, 0.67, 0.81, 0.84, 0.82, 0.71, 0.98, 0.735, 0.915, 0.74, 0.705, 0.69, 0.67, 0.73, 0.785, 0.77, 0.67, 1.025, 0.87, 0.76, 0.67, 0.9, 0.67, 0.665, 0.69, 0.76, 0.66, 0.7, 0.735, 0.84, 1.33, 0.865, 0.78, 0.7, 0.91, 0.84, 0.79, 0.705, 0.955, 1.185, 0.68, 0.815, 0.67, 0.66, 0.725, 0.74, 0.69, 0.68, 0.725, 1.0, 1.02, 0.68, 0.715, 0.755, 0.67, 0.69, 0.965, 0.69, 0.77, 0.78, 0.66, 0.86, 0.68, 0.82, 0.72, 0.83, 0.715, 0.69, 0.665, 0.75, 1.09, 0.73, 1.035, 0.715, 0.855, 0.79, 0.87, 0.705, 0.685, 0.7, 0.695, 0.86, 0.66, 0.66, 0.66, 0.68, 1.04, 0.705, 0.78, 0.715, 0.67, 0.69, 0.66, 0.8, 0.885, 0.72, 0.665, 0.69, 0.965, 0.66, 0.965, 0.68, 0.74, 0.68, 0.785, 0.675, 0.85, 0.745, 0.91, 0.7, 0.675, 0.69, 0.705, 0.735, 0.725, 0.785, 0.785, 0.835]\n",
            "\n",
            "volatile acidity 변수 이상치 개수 : 314개\n"
          ]
        }
      ]
    },
    {
      "cell_type": "markdown",
      "source": [
        "* citric acid : 시트르산"
      ],
      "metadata": {
        "id": "3zP63WcZfodk"
      }
    },
    {
      "cell_type": "code",
      "source": [
        "wine['citric acid'].describe()"
      ],
      "metadata": {
        "colab": {
          "base_uri": "https://localhost:8080/"
        },
        "id": "ctdKaKrrfslU",
        "outputId": "524560fc-baa4-44a3-8f6f-5f00bb95f820"
      },
      "execution_count": 33,
      "outputs": [
        {
          "output_type": "execute_result",
          "data": {
            "text/plain": [
              "count    5497.000000\n",
              "mean        0.318543\n",
              "std         0.145104\n",
              "min         0.000000\n",
              "25%         0.250000\n",
              "50%         0.310000\n",
              "75%         0.390000\n",
              "max         1.660000\n",
              "Name: citric acid, dtype: float64"
            ]
          },
          "metadata": {},
          "execution_count": 33
        }
      ]
    },
    {
      "cell_type": "code",
      "source": [
        "wine['citric acid'].unique()"
      ],
      "metadata": {
        "colab": {
          "base_uri": "https://localhost:8080/"
        },
        "id": "-99g1XeWfz1i",
        "outputId": "b0c44890-0686-4381-ee82-159216aff47d"
      },
      "execution_count": 34,
      "outputs": [
        {
          "output_type": "execute_result",
          "data": {
            "text/plain": [
              "array([0.06, 0.14, 0.39, 0.31, 0.26, 0.37, 0.49, 0.42, 0.35, 0.33, 0.4 ,\n",
              "       0.17, 0.6 , 0.48, 0.25, 0.01, 0.34, 0.58, 0.  , 0.36, 0.2 , 0.3 ,\n",
              "       0.32, 0.99, 0.27, 0.02, 0.22, 0.74, 0.28, 0.52, 0.38, 0.29, 0.11,\n",
              "       0.43, 0.45, 0.41, 0.44, 0.24, 0.15, 0.03, 0.07, 0.69, 0.19, 0.57,\n",
              "       0.04, 0.55, 0.5 , 0.66, 0.65, 0.47, 0.16, 0.12, 0.46, 0.08, 0.1 ,\n",
              "       0.18, 0.51, 0.21, 0.05, 0.62, 0.23, 0.72, 0.68, 0.56, 0.53, 1.  ,\n",
              "       1.66, 0.71, 0.09, 0.59, 0.73, 0.64, 0.54, 0.7 , 0.13, 0.82, 0.81,\n",
              "       0.63, 0.76, 0.79, 0.8 , 0.91, 0.86, 0.61, 0.75, 0.67, 0.78, 1.23,\n",
              "       0.88])"
            ]
          },
          "metadata": {},
          "execution_count": 34
        }
      ]
    },
    {
      "cell_type": "code",
      "source": [
        "wine['citric acid'].plot(kind='box')"
      ],
      "metadata": {
        "colab": {
          "base_uri": "https://localhost:8080/",
          "height": 449
        },
        "id": "Z9gd3dbsf8ux",
        "outputId": "23408075-b548-4ef5-d8c1-6d0dc8547077"
      },
      "execution_count": 35,
      "outputs": [
        {
          "output_type": "execute_result",
          "data": {
            "text/plain": [
              "<Axes: >"
            ]
          },
          "metadata": {},
          "execution_count": 35
        },
        {
          "output_type": "display_data",
          "data": {
            "text/plain": [
              "<Figure size 640x480 with 1 Axes>"
            ],
            "image/png": "[encoded data removed]"
          },
          "metadata": {}
        }
      ]
    },
    {
      "cell_type": "code",
      "source": [
        "print_outlier(wine,'citric acid')"
      ],
      "metadata": {
        "colab": {
          "base_uri": "https://localhost:8080/"
        },
        "id": "ypHec-htgFFB",
        "outputId": "ea44a0ba-6441-4844-f323-acc0fa1b6f62"
      },
      "execution_count": 36,
      "outputs": [
        {
          "output_type": "stream",
          "name": "stdout",
          "text": [
            "이상치 기준값 : 0.04,0.6\n",
            "\n",
            "citric acid 변수 이상치\n",
            "\n",
            "[0.01, 0.0, 0.99, 0.02, 0.74, 0.0, 0.01, 0.0, 0.03, 0.69, 0.0, 0.0, 0.01, 0.66, 0.65, 0.66, 0.01, 0.0, 0.66, 0.66, 0.62, 0.72, 0.0, 0.65, 0.74, 0.68, 0.01, 1.0, 1.66, 0.0, 0.01, 0.71, 0.68, 0.62, 0.0, 0.74, 0.02, 0.0, 0.0, 0.0, 0.0, 0.65, 0.73, 0.03, 0.64, 0.74, 0.74, 0.0, 0.02, 0.7, 0.0, 1.0, 0.01, 0.02, 0.64, 0.64, 0.0, 0.0, 0.02, 0.66, 0.68, 0.0, 0.0, 0.0, 0.74, 0.74, 0.74, 0.0, 0.0, 0.0, 0.0, 0.74, 0.0, 0.66, 0.74, 0.0, 0.0, 0.0, 0.73, 0.0, 0.62, 0.64, 0.82, 0.0, 0.0, 0.0, 0.68, 0.02, 0.03, 0.03, 0.0, 0.03, 0.0, 0.65, 0.64, 0.7, 0.0, 0.66, 0.02, 0.65, 0.0, 0.64, 0.0, 0.02, 0.01, 0.0, 0.02, 0.02, 0.0, 0.0, 0.0, 0.65, 0.02, 0.62, 0.01, 1.0, 0.02, 0.68, 0.81, 0.0, 0.0, 0.0, 0.63, 0.0, 0.68, 0.76, 0.0, 0.0, 0.74, 0.74, 0.0, 0.65, 0.63, 0.0, 0.65, 0.0, 0.0, 0.02, 0.62, 0.02, 0.02, 1.0, 0.62, 0.02, 0.0, 0.0, 0.79, 0.03, 0.74, 0.02, 0.8, 0.66, 0.0, 0.66, 0.0, 0.02, 0.0, 0.91, 0.02, 0.03, 0.03, 0.69, 0.71, 0.01, 0.0, 0.65, 0.03, 0.0, 0.0, 0.0, 0.02, 0.0, 0.64, 0.02, 0.0, 0.0, 0.0, 0.0, 0.03, 0.0, 0.0, 0.7, 0.74, 0.0, 0.72, 0.0, 0.0, 0.0, 0.74, 0.0, 0.0, 0.63, 0.0, 0.0, 0.01, 0.64, 0.86, 0.8, 0.66, 0.61, 0.63, 0.0, 0.62, 0.66, 0.68, 0.66, 0.03, 0.74, 0.75, 0.0, 0.0, 0.61, 0.01, 0.01, 1.0, 0.02, 0.62, 0.03, 0.74, 0.02, 0.0, 0.62, 0.74, 0.02, 0.68, 0.01, 0.68, 0.67, 0.02, 0.61, 0.63, 0.73, 0.64, 0.66, 0.63, 0.0, 0.0, 0.0, 0.65, 0.63, 0.61, 0.01, 0.0, 0.7, 0.74, 0.0, 0.0, 0.0, 0.03, 0.67, 0.66, 0.03, 0.0, 0.01, 0.03, 0.01, 0.0, 0.01, 0.61, 0.74, 0.0, 0.69, 0.78, 0.74, 0.01, 0.0, 0.0, 0.69, 0.69, 0.78, 0.0, 0.71, 0.64, 0.03, 0.02, 0.0, 0.02, 0.66, 0.0, 0.01, 0.02, 0.02, 0.73, 0.71, 0.02, 0.0, 0.74, 0.01, 0.74, 0.0, 0.0, 0.02, 0.61, 0.74, 0.0, 0.0, 0.01, 0.68, 0.02, 0.0, 0.02, 0.0, 0.63, 0.03, 0.64, 0.0, 0.74, 0.65, 0.03, 0.69, 0.01, 0.63, 0.03, 0.74, 0.72, 0.68, 0.68, 0.0, 0.01, 0.66, 0.0, 0.7, 0.0, 0.02, 0.67, 0.02, 0.0, 0.02, 0.0, 0.0, 0.02, 0.74, 0.66, 0.02, 0.74, 0.02, 0.74, 0.0, 0.0, 0.0, 0.74, 0.02, 0.0, 0.0, 0.0, 0.66, 0.02, 0.69, 0.65, 0.0, 0.74, 0.74, 0.0, 0.74, 0.0, 0.02, 0.62, 0.71, 0.0, 0.63, 0.82, 0.0, 0.01, 0.62, 0.0, 0.01, 0.0, 0.0, 0.74, 0.02, 0.71, 0.73, 0.0, 0.02, 0.02, 0.0, 0.0, 0.0, 0.62, 0.61, 0.0, 1.0, 0.03, 0.66, 0.03, 0.65, 0.73, 0.01, 0.67, 0.03, 0.74, 0.02, 0.74, 0.01, 0.03, 0.03, 0.0, 0.03, 0.0, 0.61, 0.01, 0.79, 0.0, 0.74, 1.23, 0.69, 0.0, 0.0, 0.03, 0.74, 0.91, 0.74, 0.67, 0.02, 0.62, 0.66, 0.0, 0.74, 0.62, 0.01, 0.63, 0.68, 0.0, 0.0, 0.02, 0.88, 0.02, 0.0, 0.01, 0.73]\n",
            "\n",
            "citric acid 변수 이상치 개수 : 430개\n"
          ]
        }
      ]
    },
    {
      "cell_type": "markdown",
      "source": [
        "* residual sugar : 잔당"
      ],
      "metadata": {
        "id": "BKKIcijvhrSI"
      }
    },
    {
      "cell_type": "code",
      "source": [
        "wine['residual sugar'].describe()"
      ],
      "metadata": {
        "colab": {
          "base_uri": "https://localhost:8080/"
        },
        "id": "G53Sn4r6huHj",
        "outputId": "327517af-4b85-4d3c-ee74-66c6affff2f4"
      },
      "execution_count": 37,
      "outputs": [
        {
          "output_type": "execute_result",
          "data": {
            "text/plain": [
              "count    5497.000000\n",
              "mean        5.438075\n",
              "std         4.756676\n",
              "min         0.600000\n",
              "25%         1.800000\n",
              "50%         3.000000\n",
              "75%         8.100000\n",
              "max        65.800000\n",
              "Name: residual sugar, dtype: float64"
            ]
          },
          "metadata": {},
          "execution_count": 37
        }
      ]
    },
    {
      "cell_type": "code",
      "source": [
        "wine['residual sugar'].unique()"
      ],
      "metadata": {
        "colab": {
          "base_uri": "https://localhost:8080/"
        },
        "id": "en5Ins-UhzIL",
        "outputId": "19207013-0d58-40fd-c345-21c95847fddc"
      },
      "execution_count": 39,
      "outputs": [
        {
          "output_type": "execute_result",
          "data": {
            "text/plain": [
              "array([ 6.8 ,  2.4 ,  2.  ,  6.  ,  9.5 ,  9.7 ,  1.5 , 11.8 , 18.3 ,\n",
              "       11.6 ,  0.9 ,  1.1 ,  6.85,  1.  ,  2.6 ,  7.  ,  2.1 ,  4.8 ,\n",
              "        7.5 , 10.5 ,  1.7 ,  1.2 ,  2.5 ,  3.9 ,  2.2 , 15.  ,  1.6 ,\n",
              "       16.  ,  2.3 , 13.  , 10.6 ,  3.8 ,  7.9 , 11.9 , 14.4 ,  7.1 ,\n",
              "        1.4 , 12.8 ,  4.2 , 15.4 , 11.1 , 13.6 ,  1.8 ,  6.1 , 14.6 ,\n",
              "        5.3 ,  2.9 , 12.9 ,  3.6 ,  2.7 , 16.8 ,  1.9 , 14.9 , 11.  ,\n",
              "        7.05,  7.8 , 17.85,  1.45,  1.3 ,  4.1 ,  9.1 ,  2.8 ,  4.5 ,\n",
              "        3.3 ,  8.2 , 12.7 , 14.2 ,  4.7 , 14.3 , 10.4 , 19.35,  5.4 ,\n",
              "        6.3 ,  5.  ,  9.25,  4.75, 16.9 , 12.6 ,  5.9 ,  8.9 , 13.65,\n",
              "        3.7 ,  4.9 , 10.2 ,  9.9 , 18.1 ,  6.2 ,  7.45,  0.8 ,  8.25,\n",
              "        5.45,  4.6 , 18.75, 18.  , 17.2 ,  6.4 ,  8.6 ,  9.3 , 15.5 ,\n",
              "        8.3 , 13.8 , 12.4 , 18.6 ,  7.7 ,  3.4 ,  5.5 ,  5.7 ,  6.6 ,\n",
              "        8.5 , 17.3 ,  3.65,  1.25, 10.7 , 19.8 ,  3.1 ,  7.4 , 16.65,\n",
              "        8.  , 18.95, 14.  ,  4.  ,  8.8 ,  9.4 ,  5.6 ,  4.55, 11.2 ,\n",
              "       10.1 ,  7.2 ,  3.  , 17.8 , 15.7 ,  5.2 ,  5.8 , 13.4 ,  6.9 ,\n",
              "       14.5 , 13.55, 12.  , 10.3 ,  3.85, 13.1 , 11.25,  5.1 ,  9.  ,\n",
              "        3.2 , 12.5 , 15.8 ,  7.6 ,  0.7 ,  9.8 , 11.7 , 10.05, 15.3 ,\n",
              "       16.4 , 14.35, 12.1 , 13.2 , 10.9 , 10.  , 13.7 , 13.9 , 17.45,\n",
              "        6.5 ,  6.7 ,  8.1 , 11.3 , 16.3 ,  7.25,  8.7 , 14.8 , 12.2 ,\n",
              "        5.25, 17.9 ,  9.2 ,  9.6 , 17.  , 20.2 , 19.3 , 15.9 ,  2.55,\n",
              "       11.95,  4.3 , 19.25,  4.35, 15.55,  3.5 , 10.8 , 14.7 ,  2.25,\n",
              "       15.1 , 16.7 , 18.15, 15.6 ,  6.55, 13.3 , 19.9 , 16.85, 16.05,\n",
              "       16.6 ,  2.65,  5.85,  4.4 , 12.05, 10.55, 11.4 , 13.5 , 18.05,\n",
              "       12.55, 18.8 , 14.45, 19.1 ,  8.4 , 15.25, 65.8 , 19.5 , 16.2 ,\n",
              "       14.1 , 11.5 ,  7.3 ,  4.65,  2.15, 12.3 , 17.75, 19.95,  7.75,\n",
              "       12.15,  2.35,  0.6 ,  4.85, 18.35, 18.5 , 16.5 ,  1.35,  9.05,\n",
              "        3.45,  5.15,  2.85,  1.65, 17.5 ,  6.65, 15.2 ,  8.65, 12.85,\n",
              "       16.1 ,  7.35,  8.75, 11.75, 20.7 ,  9.85,  8.15, 15.75,  1.75,\n",
              "       18.2 , 26.05,  2.05,  1.15,  1.95, 17.1 , 19.45,  2.95, 13.15,\n",
              "        1.85,  3.75,  5.95,  8.95, 16.95,  0.95,  9.15, 12.75, 17.6 ,\n",
              "       17.55,  5.35, 20.3 , 20.8 ,  6.75, 15.15, 16.75,  9.65, 19.4 ,\n",
              "       14.95, 23.5 ,  3.95, 20.15,  1.55,  4.25, 22.  , 31.6 , 14.55,\n",
              "       10.65,  6.35, 17.7 , 18.4 , 17.95,  8.55,  7.85,  8.45,  3.15,\n",
              "       19.6 ,  5.55, 16.45, 16.55, 20.4 ,  1.05, 14.75,  4.45,  7.95,\n",
              "        9.55, 18.9 ,  6.95])"
            ]
          },
          "metadata": {},
          "execution_count": 39
        }
      ]
    },
    {
      "cell_type": "code",
      "source": [
        "wine['residual sugar'].plot(kind='box')"
      ],
      "metadata": {
        "colab": {
          "base_uri": "https://localhost:8080/",
          "height": 449
        },
        "id": "1w8vOmt3h6JG",
        "outputId": "657b3629-6e11-4f69-8dd2-970a459d2e9e"
      },
      "execution_count": 40,
      "outputs": [
        {
          "output_type": "execute_result",
          "data": {
            "text/plain": [
              "<Axes: >"
            ]
          },
          "metadata": {},
          "execution_count": 40
        },
        {
          "output_type": "display_data",
          "data": {
            "text/plain": [
              "<Figure size 640x480 with 1 Axes>"
            ],
            "image/png": "[encoded data removed]"
          },
          "metadata": {}
        }
      ]
    },
    {
      "cell_type": "code",
      "source": [
        "print_outlier(wine,'residual sugar')"
      ],
      "metadata": {
        "colab": {
          "base_uri": "https://localhost:8080/"
        },
        "id": "dkiPC7S1iCiy",
        "outputId": "1002dd0a-feb0-45ab-865a-ca137f242a0e"
      },
      "execution_count": 41,
      "outputs": [
        {
          "output_type": "stream",
          "name": "stdout",
          "text": [
            "이상치 기준값 : -7.65,17.55\n",
            "\n",
            "residual sugar 변수 이상치\n",
            "\n",
            "[18.3, 17.85, 19.35, 18.1, 18.75, 18.0, 18.6, 19.8, 18.95, 17.8, 19.8, 17.9, 20.2, 17.8, 17.8, 19.3, 18.75, 19.25, 18.15, 19.9, 18.1, 17.8, 18.05, 18.8, 19.1, 19.8, 65.8, 19.5, 18.15, 19.8, 18.95, 17.75, 19.95, 18.15, 18.35, 18.5, 17.85, 17.8, 18.05, 18.95, 18.35, 18.3, 18.1, 17.8, 19.95, 20.7, 20.2, 18.2, 26.05, 18.15, 18.1, 18.1, 17.8, 19.3, 19.45, 17.75, 18.15, 26.05, 17.85, 19.45, 17.85, 19.3, 17.6, 17.55, 17.8, 20.3, 20.8, 20.8, 19.4, 18.05, 17.8, 23.5, 17.8, 20.15, 18.0, 18.1, 22.0, 31.6, 19.25, 17.55, 31.6, 17.7, 18.4, 17.95, 19.25, 19.3, 18.15, 18.2, 17.85, 18.75, 17.75, 19.6, 17.95, 20.7, 17.75, 20.4, 18.75, 17.8, 19.5, 18.9, 18.8, 19.4, 22.0, 18.35, 17.8, 18.15]\n",
            "\n",
            "residual sugar 변수 이상치 개수 : 106개\n"
          ]
        }
      ]
    },
    {
      "cell_type": "markdown",
      "source": [
        "* chlorides : 염화물"
      ],
      "metadata": {
        "id": "Qeyg7QsijCIF"
      }
    },
    {
      "cell_type": "code",
      "source": [
        "wine['chlorides'].describe()"
      ],
      "metadata": {
        "colab": {
          "base_uri": "https://localhost:8080/"
        },
        "id": "bUoERYsEiNsd",
        "outputId": "8c7ff149-6207-41b5-bc40-d9068047ef2c"
      },
      "execution_count": 42,
      "outputs": [
        {
          "output_type": "execute_result",
          "data": {
            "text/plain": [
              "count    5497.000000\n",
              "mean        0.055808\n",
              "std         0.034653\n",
              "min         0.009000\n",
              "25%         0.038000\n",
              "50%         0.047000\n",
              "75%         0.064000\n",
              "max         0.610000\n",
              "Name: chlorides, dtype: float64"
            ]
          },
          "metadata": {},
          "execution_count": 42
        }
      ]
    },
    {
      "cell_type": "code",
      "source": [
        "wine['chlorides'].unique()"
      ],
      "metadata": {
        "colab": {
          "base_uri": "https://localhost:8080/"
        },
        "id": "k-T9ml7kjLk0",
        "outputId": "3d0e8c35-5819-408e-fd1c-09d341610594"
      },
      "execution_count": 43,
      "outputs": [
        {
          "output_type": "execute_result",
          "data": {
            "text/plain": [
              "array([0.042, 0.067, 0.057, 0.046, 0.059, 0.032, 0.051, 0.041, 0.044,\n",
              "       0.049, 0.038, 0.081, 0.043, 0.097, 0.029, 0.073, 0.083, 0.039,\n",
              "       0.064, 0.086, 0.027, 0.045, 0.063, 0.065, 0.095, 0.047, 0.122,\n",
              "       0.11 , 0.05 , 0.078, 0.054, 0.055, 0.113, 0.053, 0.079, 0.214,\n",
              "       0.125, 0.036, 0.117, 0.048, 0.026, 0.093, 0.037, 0.031, 0.06 ,\n",
              "       0.114, 0.019, 0.035, 0.033, 0.03 , 0.034, 0.08 , 0.028, 0.091,\n",
              "       0.104, 0.07 , 0.056, 0.052, 0.074, 0.022, 0.105, 0.062, 0.024,\n",
              "       0.085, 0.103, 0.387, 0.02 , 0.29 , 0.014, 0.088, 0.077, 0.255,\n",
              "       0.205, 0.058, 0.04 , 0.082, 0.121, 0.023, 0.066, 0.1  , 0.071,\n",
              "       0.118, 0.061, 0.075, 0.169, 0.09 , 0.094, 0.087, 0.068, 0.025,\n",
              "       0.414, 0.144, 0.092, 0.128, 0.154, 0.089, 0.133, 0.076, 0.102,\n",
              "       0.152, 0.208, 0.069, 0.119, 0.021, 0.226, 0.271, 0.124, 0.072,\n",
              "       0.098, 0.209, 0.172, 0.132, 0.185, 0.157, 0.61 , 0.17 , 0.107,\n",
              "       0.25 , 0.111, 0.084, 0.136, 0.115, 0.127, 0.173, 0.243, 0.201,\n",
              "       0.149, 0.123, 0.401, 0.016, 0.112, 0.146, 0.096, 0.106, 0.222,\n",
              "       0.137, 0.415, 0.197, 0.015, 0.174, 0.358, 0.236, 0.212, 0.161,\n",
              "       0.009, 0.175, 0.166, 0.12 , 0.116, 0.126, 0.147, 0.099, 0.2  ,\n",
              "       0.176, 0.109, 0.186, 0.16 , 0.171, 0.156, 0.158, 0.101, 0.012,\n",
              "       0.403, 0.27 , 0.184, 0.369, 0.337, 0.018, 0.267, 0.108, 0.148,\n",
              "       0.017, 0.332, 0.168, 0.18 , 0.167, 0.143, 0.213, 0.36 , 0.422,\n",
              "       0.142, 0.138, 0.241, 0.211, 0.464, 0.19 , 0.368, 0.15 , 0.135,\n",
              "       0.13 , 0.343, 0.178, 0.239, 0.244, 0.013, 0.413, 0.263, 0.153,\n",
              "       0.204, 0.346, 0.216, 0.179, 0.23 , 0.194, 0.159])"
            ]
          },
          "metadata": {},
          "execution_count": 43
        }
      ]
    },
    {
      "cell_type": "code",
      "source": [
        "wine['chlorides'].plot(kind='box')"
      ],
      "metadata": {
        "colab": {
          "base_uri": "https://localhost:8080/",
          "height": 449
        },
        "id": "l4lCxDCdjYw5",
        "outputId": "25857318-f491-4015-cff0-e9e329d7e51d"
      },
      "execution_count": 44,
      "outputs": [
        {
          "output_type": "execute_result",
          "data": {
            "text/plain": [
              "<Axes: >"
            ]
          },
          "metadata": {},
          "execution_count": 44
        },
        {
          "output_type": "display_data",
          "data": {
            "text/plain": [
              "<Figure size 640x480 with 1 Axes>"
            ],
            "image/png": "[encoded data removed]"
          },
          "metadata": {}
        }
      ]
    },
    {
      "cell_type": "code",
      "source": [
        "print_outlier(wine,'chlorides')"
      ],
      "metadata": {
        "colab": {
          "base_uri": "https://localhost:8080/"
        },
        "id": "-uYmqHaXjeEz",
        "outputId": "d266152e-cfba-4834-b1c3-923a9cc3cc6a"
      },
      "execution_count": 45,
      "outputs": [
        {
          "output_type": "stream",
          "name": "stdout",
          "text": [
            "이상치 기준값 : -0.001,0.103\n",
            "\n",
            "chlorides 변수 이상치\n",
            "\n",
            "[0.122, 0.11, 0.122, 0.113, 0.214, 0.125, 0.1169999999999999, 0.114, 0.104, 0.105, 0.387, 0.29, 0.255, 0.205, 0.121, 0.118, 0.1689999999999999, 0.414, 0.144, 0.128, 0.154, 0.133, 0.152, 0.208, 0.119, 0.104, 0.226, 0.271, 0.124, 0.105, 0.209, 0.172, 0.132, 0.185, 0.114, 0.157, 0.61, 0.17, 0.107, 0.25, 0.157, 0.414, 0.111, 0.119, 0.132, 0.111, 0.136, 0.124, 0.107, 0.115, 0.127, 0.173, 0.243, 0.201, 0.149, 0.123, 0.401, 0.104, 0.1119999999999999, 0.105, 0.107, 0.114, 0.146, 0.114, 0.111, 0.106, 0.222, 0.1369999999999999, 0.415, 0.1969999999999999, 0.174, 0.358, 0.1119999999999999, 0.157, 0.236, 0.212, 0.161, 0.175, 0.166, 0.12, 0.11, 0.226, 0.1159999999999999, 0.126, 0.147, 0.1119999999999999, 0.104, 0.2, 0.11, 0.176, 0.109, 0.186, 0.119, 0.16, 0.122, 0.205, 0.104, 0.11, 0.171, 0.152, 0.147, 0.156, 0.174, 0.107, 0.123, 0.1169999999999999, 0.114, 0.158, 0.4029999999999999, 0.27, 0.107, 0.184, 0.119, 0.132, 0.111, 0.369, 0.337, 0.106, 0.109, 0.118, 0.267, 0.107, 0.104, 0.104, 0.1159999999999999, 0.108, 0.115, 0.108, 0.148, 0.201, 0.118, 0.118, 0.123, 0.115, 0.104, 0.175, 0.104, 0.332, 0.176, 0.168, 0.1369999999999999, 0.114, 0.1169999999999999, 0.147, 0.1689999999999999, 0.18, 0.166, 0.176, 0.16, 0.122, 0.1669999999999999, 0.157, 0.122, 0.143, 0.109, 0.213, 0.111, 0.11, 0.36, 0.114, 0.115, 0.122, 0.422, 0.121, 0.1169999999999999, 0.1119999999999999, 0.142, 0.138, 0.105, 0.152, 0.172, 0.11, 0.11, 0.1119999999999999, 0.104, 0.17, 0.11, 0.105, 0.142, 0.118, 0.214, 0.123, 0.106, 0.1969999999999999, 0.111, 0.107, 0.241, 0.1669999999999999, 0.211, 0.415, 0.123, 0.4639999999999999, 0.115, 0.114, 0.172, 0.1169999999999999, 0.11, 0.19, 0.148, 0.114, 0.122, 0.368, 0.126, 0.186, 0.1119999999999999, 0.119, 0.15, 0.11, 0.135, 0.118, 0.152, 0.104, 0.132, 0.115, 0.136, 0.214, 0.138, 0.13, 0.3429999999999999, 0.178, 0.239, 0.106, 0.146, 0.244, 0.1369999999999999, 0.12, 0.413, 0.263, 0.168, 0.415, 0.127, 0.166, 0.104, 0.105, 0.184, 0.123, 0.123, 0.153, 0.204, 0.121, 0.1169999999999999, 0.1119999999999999, 0.346, 0.122, 0.216, 0.157, 0.179, 0.114, 0.126, 0.104, 0.123, 0.23, 0.1939999999999999, 0.114, 0.159, 0.2, 0.104, 0.1169999999999999, 0.171]\n",
            "\n",
            "chlorides 변수 이상치 개수 : 259개\n"
          ]
        }
      ]
    },
    {
      "cell_type": "markdown",
      "source": [
        "* free sulfur dioxide : 독립 이산화항"
      ],
      "metadata": {
        "id": "jm0i7Y-zj16j"
      }
    },
    {
      "cell_type": "code",
      "source": [
        "wine['free sulfur dioxide'].describe()"
      ],
      "metadata": {
        "colab": {
          "base_uri": "https://localhost:8080/"
        },
        "id": "gaajkLfdkIhm",
        "outputId": "86e3fe6b-ca77-44a3-9fa1-58da8a3cb16d"
      },
      "execution_count": 46,
      "outputs": [
        {
          "output_type": "execute_result",
          "data": {
            "text/plain": [
              "count    5497.000000\n",
              "mean       30.417682\n",
              "std        17.673881\n",
              "min         1.000000\n",
              "25%        17.000000\n",
              "50%        29.000000\n",
              "75%        41.000000\n",
              "max       289.000000\n",
              "Name: free sulfur dioxide, dtype: float64"
            ]
          },
          "metadata": {},
          "execution_count": 46
        }
      ]
    },
    {
      "cell_type": "code",
      "source": [
        "wine['free sulfur dioxide'].unique()"
      ],
      "metadata": {
        "colab": {
          "base_uri": "https://localhost:8080/"
        },
        "id": "OXNwXpl1kOVo",
        "outputId": "9442d7eb-cf0f-4769-8a46-d0cf560c55f4"
      },
      "execution_count": 47,
      "outputs": [
        {
          "output_type": "execute_result",
          "data": {
            "text/plain": [
              "array([  9. ,  10. ,  21. ,  29. ,  32. ,  17. ,  18. ,  40. ,  57. ,\n",
              "        36. ,  31. ,  39. ,  54. ,  12. ,  30. ,  13. ,  34. ,  20. ,\n",
              "        42. ,   6. ,  61. ,   5. ,  69. ,  38. ,  45. ,  68. , 110. ,\n",
              "        41. ,   7. ,  48.5,  33. ,  55. ,  15. ,  66. ,  37. ,  62. ,\n",
              "        28. ,  58. ,   3. ,  50. ,  51. ,  22. ,  52. ,  43.5,   4. ,\n",
              "        27. ,  16. ,  53. ,  24. ,  14. ,  19. ,  26. ,  23. ,  67. ,\n",
              "        60. ,  73. ,  49. ,  75. ,  59. ,   8. ,  48. ,  44. ,  56. ,\n",
              "        35. ,  25. , 108. ,  11. ,  70. ,  96. ,  63. ,  47. ,  46. ,\n",
              "        65. ,  43. ,  74. , 105. ,  87. ,  86. ,   2. , 138.5,  83. ,\n",
              "        78. ,  85. ,  81. ,  64. ,  60.5, 146.5,  28.5, 131. , 124. ,\n",
              "         1. ,   5.5,  73.5,  98. ,  76. ,  40.5,  77. ,  39.5,  52.5,\n",
              "        61.5,  41.5,  72. ,  79.5,  38.5,  42.5, 101. ,  11.5,  71. ,\n",
              "        50.5,  79. , 128. ,  59.5,  35.5,  64.5,  82. , 118.5,  44.5,\n",
              "        15.5, 112. ,  77.5,  89. ,  97. ,  19.5,  30.5,  95. ,  88. ,\n",
              "       289. ])"
            ]
          },
          "metadata": {},
          "execution_count": 47
        }
      ]
    },
    {
      "cell_type": "code",
      "source": [
        "wine['free sulfur dioxide'].plot(kind='box')"
      ],
      "metadata": {
        "colab": {
          "base_uri": "https://localhost:8080/",
          "height": 450
        },
        "id": "ezNcdxOTkTd7",
        "outputId": "4297fad1-0084-4882-c104-81660b5df507"
      },
      "execution_count": 48,
      "outputs": [
        {
          "output_type": "execute_result",
          "data": {
            "text/plain": [
              "<Axes: >"
            ]
          },
          "metadata": {},
          "execution_count": 48
        },
        {
          "output_type": "display_data",
          "data": {
            "text/plain": [
              "<Figure size 640x480 with 1 Axes>"
            ],
            "image/png": "[encoded data removed]"
          },
          "metadata": {}
        }
      ]
    },
    {
      "cell_type": "code",
      "source": [
        "print_outlier( wine, 'free sulfur dioxide' )"
      ],
      "metadata": {
        "colab": {
          "base_uri": "https://localhost:8080/"
        },
        "id": "JP9VAk0Ak2Of",
        "outputId": "792e4cf3-5cc2-4f05-b306-144b976201bd"
      },
      "execution_count": 49,
      "outputs": [
        {
          "output_type": "stream",
          "name": "stdout",
          "text": [
            "이상치 기준값 : -19.0,77.0\n",
            "\n",
            "free sulfur dioxide 변수 이상치\n",
            "\n",
            "[110.0, 108.0, 96.0, 105.0, 87.0, 86.0, 138.5, 83.0, 78.0, 85.0, 81.0, 146.5, 131.0, 124.0, 98.0, 87.0, 105.0, 98.0, 79.5, 81.0, 101.0, 79.0, 128.0, 78.0, 83.0, 96.0, 108.0, 79.5, 87.0, 81.0, 82.0, 83.0, 118.5, 112.0, 77.5, 101.0, 78.0, 81.0, 108.0, 87.0, 89.0, 79.5, 79.0, 97.0, 95.0, 88.0, 289.0]\n",
            "\n",
            "free sulfur dioxide 변수 이상치 개수 : 47개\n"
          ]
        }
      ]
    },
    {
      "cell_type": "markdown",
      "source": [
        "* total sulfur dioxide : 총 이산화황"
      ],
      "metadata": {
        "id": "yYh0N7cSlWlk"
      }
    },
    {
      "cell_type": "code",
      "source": [
        "wine['total sulfur dioxide'].describe()"
      ],
      "metadata": {
        "colab": {
          "base_uri": "https://localhost:8080/"
        },
        "id": "v9S6AdiIlZNP",
        "outputId": "07696389-1749-4618-e591-1bbe08e9e6d1"
      },
      "execution_count": 50,
      "outputs": [
        {
          "output_type": "execute_result",
          "data": {
            "text/plain": [
              "count    5497.000000\n",
              "mean      115.566491\n",
              "std        56.288223\n",
              "min         6.000000\n",
              "25%        78.000000\n",
              "50%       118.000000\n",
              "75%       155.000000\n",
              "max       440.000000\n",
              "Name: total sulfur dioxide, dtype: float64"
            ]
          },
          "metadata": {},
          "execution_count": 50
        }
      ]
    },
    {
      "cell_type": "code",
      "source": [
        "wine['total sulfur dioxide'].unique()"
      ],
      "metadata": {
        "colab": {
          "base_uri": "https://localhost:8080/"
        },
        "id": "6tHPCMu_le9N",
        "outputId": "f9715661-0985-4942-b0b3-65268b31cb51"
      },
      "execution_count": 51,
      "outputs": [
        {
          "output_type": "execute_result",
          "data": {
            "text/plain": [
              "array([ 84. ,  42. , 138. , 108. , 178. ,  50. ,  87. , 193. , 142. ,\n",
              "       220. , 109. ,  82. , 144. ,  72. , 149. , 145. , 128. ,  76. ,\n",
              "       165. , 157. , 100. ,  97. ,  43. ,  30. ,  96. ,  77. , 115. ,\n",
              "       106. , 186. ,  22. , 160. , 209. , 129. , 116. ,  89. , 124. ,\n",
              "       198. , 168. , 224. ,  13. ,  37. ,  95. , 212. , 114. ,  49. ,\n",
              "       132. , 231. , 102. , 163. , 181. ,  94. , 113. ,  70. , 134. ,\n",
              "        12. , 173. , 126. , 162. ,  10. , 245. , 188. , 221. ,  65. ,\n",
              "       111. , 185. ,  44. , 184. , 119. , 171. ,  98. ,  46. , 107. ,\n",
              "        55. , 150. ,  21. , 161. ,  35. , 187. , 164. ,  61. ,  92. ,\n",
              "       213. , 131. , 103. , 207. , 130. , 141. ,  67. , 158. , 174. ,\n",
              "       101. ,  48. , 190. ,  53. , 215. , 121. , 170. ,  28. , 118. ,\n",
              "        39. , 189. ,  54. , 122. , 167. ,  75. ,  64. , 151. ,  73. ,\n",
              "        88. , 202. , 205. , 104. , 137. , 196. , 255. , 183. ,  33. ,\n",
              "        23. ,  41. , 152. , 135. ,  19. ,  31. ,  91. , 200. ,  18. ,\n",
              "        29. , 172. , 230. ,  90. ,  15. ,  14. ,  69. ,  11. , 159. ,\n",
              "        40. , 110. , 155. , 153. ,  47. , 125. ,  27. , 148. ,  20. ,\n",
              "       127. ,  63. ,  71. ,  68. , 203. , 123. ,  86. , 179. ,  38. ,\n",
              "       216. , 194. ,  36. , 169. , 136. ,  60. ,  78. , 120. , 147. ,\n",
              "       201. ,   9. , 105. ,  79. ,  93. ,  99. ,  45. ,  17. , 154. ,\n",
              "       143. , 212.5,  80. , 140. , 182. ,  56. , 117. , 133. ,  34. ,\n",
              "       180. , 229. , 139. , 248. , 166. ,  58. , 253. ,   8. ,  81. ,\n",
              "       191. ,  32. , 156. ,  52. ,  25. ,  83. , 177. , 237. ,  59. ,\n",
              "       227. , 112. , 222. ,  24. , 192. , 272. , 197. , 240. , 210. ,\n",
              "       256. , 146. , 164.5, 307.5,  26. , 233. , 259. , 313. , 223. ,\n",
              "       208. , 218. , 204. , 251. ,  77.5, 176. ,  16. ,   7. , 189.5,\n",
              "        74. , 226. , 218.5,  62. , 195. , 238. ,  51. , 175. ,  66. ,\n",
              "       244. ,  85. ,  57. , 236. , 217. , 214. , 199. ,   6. , 206. ,\n",
              "       216.5, 232. , 162.5, 219. , 252. , 241. , 228. , 344. , 243. ,\n",
              "       225. , 366.5, 303. , 242. , 115.5, 249. , 247. , 238.5, 219.5,\n",
              "       176.5, 234. , 211. , 235. , 249.5, 217.5, 282. , 129.5, 294. ,\n",
              "       440. ])"
            ]
          },
          "metadata": {},
          "execution_count": 51
        }
      ]
    },
    {
      "cell_type": "code",
      "source": [
        "wine['total sulfur dioxide'].plot(kind='box')"
      ],
      "metadata": {
        "colab": {
          "base_uri": "https://localhost:8080/",
          "height": 449
        },
        "id": "H2dE5BDhll9k",
        "outputId": "acfb9b85-1b2e-417e-c302-4cba042a3d9c"
      },
      "execution_count": 53,
      "outputs": [
        {
          "output_type": "execute_result",
          "data": {
            "text/plain": [
              "<Axes: >"
            ]
          },
          "metadata": {},
          "execution_count": 53
        },
        {
          "output_type": "display_data",
          "data": {
            "text/plain": [
              "<Figure size 640x480 with 1 Axes>"
            ],
            "image/png": "[encoded data removed]"
          },
          "metadata": {}
        }
      ]
    },
    {
      "cell_type": "code",
      "source": [
        "print_outlier(wine,'total sulfur dioxide')"
      ],
      "metadata": {
        "colab": {
          "base_uri": "https://localhost:8080/"
        },
        "id": "nAn47Gp5l5N2",
        "outputId": "2c6114d7-e958-432a-bcf6-8e74bd761def"
      },
      "execution_count": 54,
      "outputs": [
        {
          "output_type": "stream",
          "name": "stdout",
          "text": [
            "이상치 기준값 : -37.5,270.5\n",
            "\n",
            "total sulfur dioxide 변수 이상치\n",
            "\n",
            "[272.0, 307.5, 313.0, 344.0, 366.5, 303.0, 282.0, 294.0, 440.0]\n",
            "\n",
            "total sulfur dioxide 변수 이상치 개수 : 9개\n"
          ]
        }
      ]
    },
    {
      "cell_type": "markdown",
      "source": [
        "* density : 밀도"
      ],
      "metadata": {
        "id": "quMMyCtBmUCM"
      }
    },
    {
      "cell_type": "code",
      "source": [
        "wine['density'].describe()"
      ],
      "metadata": {
        "colab": {
          "base_uri": "https://localhost:8080/"
        },
        "id": "MoTWaqgWmXwx",
        "outputId": "3482821b-ade1-4bb2-9ef9-c437dd857ad5"
      },
      "execution_count": 56,
      "outputs": [
        {
          "output_type": "execute_result",
          "data": {
            "text/plain": [
              "count    5497.000000\n",
              "mean        0.994673\n",
              "std         0.003014\n",
              "min         0.987110\n",
              "25%         0.992300\n",
              "50%         0.994800\n",
              "75%         0.996930\n",
              "max         1.038980\n",
              "Name: density, dtype: float64"
            ]
          },
          "metadata": {},
          "execution_count": 56
        }
      ]
    },
    {
      "cell_type": "code",
      "source": [
        "wine['density'].unique()"
      ],
      "metadata": {
        "colab": {
          "base_uri": "https://localhost:8080/"
        },
        "id": "M7jv3_DXmnub",
        "outputId": "edfdec39-765c-44e2-9e36-edc4e0ec6578"
      },
      "execution_count": 57,
      "outputs": [
        {
          "output_type": "execute_result",
          "data": {
            "text/plain": [
              "array([0.99432 , 0.9969  , 0.99176 , 0.9939  , 0.9955  , 0.9932  ,\n",
              "       0.9928  , 0.99624 , 1.      , 0.99775 , 0.99007 , 0.991   ,\n",
              "       0.992   , 0.99304 , 0.9996  , 0.9952  , 0.9975  , 0.99074 ,\n",
              "       0.9966  , 0.9972  , 0.9938  , 0.99586 , 0.99112 , 0.99371 ,\n",
              "       0.99824 , 0.99035 , 0.9927  , 0.9978  , 0.9914  , 0.993   ,\n",
              "       0.99884 , 0.9986  , 0.99705 , 0.9981  , 0.9936  , 0.98954 ,\n",
              "       0.99664 , 0.9994  , 0.99437 , 0.99666 , 0.998   , 0.99639 ,\n",
              "       0.99158 , 0.9902  , 0.9968  , 1.00369 , 0.99313 , 0.9977  ,\n",
              "       0.98819 , 0.99118 , 1.0003  , 0.99459 , 0.98998 , 0.99572 ,\n",
              "       0.99362 , 0.9892  , 0.99378 , 0.99544 , 0.99408 , 0.9984  ,\n",
              "       0.99882 , 0.9922  , 0.99    , 0.9983  , 0.99636 , 0.9935  ,\n",
              "       0.99851 , 0.98962 , 0.99125 , 0.99097 , 0.9948  , 0.99084 ,\n",
              "       0.99058 , 0.99592 , 0.9908  , 0.98956 , 0.99652 , 0.9913  ,\n",
              "       0.99256 , 0.996   , 0.9954  , 0.99044 , 0.99535 , 0.9912  ,\n",
              "       0.9991  , 0.99033 , 0.99335 , 0.99164 , 0.99002 , 1.00118 ,\n",
              "       0.99488 , 0.9944  , 0.99273 , 0.99648 , 0.99396 , 0.99212 ,\n",
              "       0.99137 , 0.99224 , 0.9934  , 0.99438 , 0.99232 , 0.9945  ,\n",
              "       0.9976  , 0.995   , 0.9998  , 0.99542 , 0.99092 , 1.0004  ,\n",
              "       0.9963  , 0.9964  , 0.99482 , 0.99352 , 0.99456 , 0.99346 ,\n",
              "       0.99784 , 0.9946  , 0.99808 , 0.99596 , 0.99012 , 0.99941 ,\n",
              "       0.99471 , 0.99201 , 0.99654 , 0.99579 , 0.99748 , 0.99165 ,\n",
              "       0.9982  , 0.98986 , 0.99746 , 0.99166 , 0.99274 , 0.98984 ,\n",
              "       0.9929  , 0.98856 , 0.99556 , 1.00038 , 0.9974  , 0.99946 ,\n",
              "       1.00315 , 0.9937  , 0.9956  , 1.001   , 0.9958  , 1.00242 ,\n",
              "       0.99728 , 0.9985  , 0.99278 , 0.99566 , 0.99242 , 0.9917  ,\n",
              "       0.9924  , 0.9906  , 0.99536 , 0.98981 , 0.9942  , 0.99168 ,\n",
              "       0.99558 , 0.98926 , 0.9988  , 0.99842 , 0.99486 , 0.99888 ,\n",
              "       0.98916 , 0.99121 , 0.99196 , 0.994   , 0.9915  , 0.9965  ,\n",
              "       0.98942 , 1.0006  , 0.98958 , 0.9999  , 0.99038 , 0.99594 ,\n",
              "       0.9979  , 0.9893  , 0.9967  , 0.99185 , 0.99935 , 0.9947  ,\n",
              "       0.9962  , 0.99467 , 0.99194 , 0.99914 , 0.99373 , 0.99787 ,\n",
              "       0.98912 , 0.9898  , 0.997   , 0.99899 , 0.9919  , 0.98949 ,\n",
              "       0.99202 , 0.99307 , 0.99528 , 0.9918  , 0.99708 , 0.9916  ,\n",
              "       0.99475 , 0.9926  , 0.99478 , 0.99692 , 0.9992  , 0.99018 ,\n",
              "       0.99758 , 0.9931  , 0.9953  , 0.99541 , 0.99494 , 0.9987  ,\n",
              "       0.99004 , 0.99568 , 0.99216 , 0.99576 , 0.99458 , 0.99026 ,\n",
              "       0.98906 , 0.99186 , 0.99283 , 0.99178 , 0.9949  , 0.99975 ,\n",
              "       0.99584 , 0.99094 , 0.99153 , 0.99864 , 0.98976 , 0.98993 ,\n",
              "       0.99782 , 0.9923  , 0.99461 , 0.999   , 0.99564 , 0.99189 ,\n",
              "       0.99605 , 0.99546 , 0.9911  , 0.99036 , 0.99237 , 0.99328 ,\n",
              "       0.9897  , 0.99469 , 0.99615 , 0.9925  , 0.99226 , 0.99081 ,\n",
              "       0.99106 , 0.99441 , 0.99411 , 0.99669 , 0.99095 , 0.9997  ,\n",
              "       0.99218 , 0.99161 , 0.9961  , 0.9921  , 0.99008 , 0.9889  ,\n",
              "       0.98995 , 0.99804 , 0.99548 , 0.9971  , 0.98923 , 0.99517 ,\n",
              "       0.99013 , 0.99534 , 0.99325 , 0.99215 , 0.99523 , 0.99281 ,\n",
              "       0.99577 , 0.99356 , 0.99774 , 1.0012  , 0.98915 , 0.99326 ,\n",
              "       0.99817 , 0.99512 , 1.00013 , 0.99674 , 0.99794 , 0.99506 ,\n",
              "       0.9901  , 0.99128 , 0.99752 , 1.0008  , 0.99834 , 0.99976 ,\n",
              "       0.99738 , 0.99672 , 0.99632 , 0.99341 , 0.98894 , 0.99258 ,\n",
              "       0.99091 , 0.99526 , 0.99616 , 0.99388 , 0.99045 , 0.99152 ,\n",
              "       0.99016 , 0.98946 , 0.98867 , 0.99855 , 0.99032 , 0.99823 ,\n",
              "       0.98862 , 0.99712 , 0.99786 , 0.99306 , 0.99085 , 1.0001  ,\n",
              "       0.99497 , 0.99299 , 0.99132 , 0.9959  , 0.98928 , 0.99939 ,\n",
              "       0.99105 , 0.98974 , 0.99055 , 0.99754 , 0.99238 , 0.99659 ,\n",
              "       0.9909  , 0.99368 , 0.99452 , 0.99647 , 0.99727 , 0.99098 ,\n",
              "       0.99398 , 0.99751 , 0.99184 , 0.99677 , 0.99514 , 0.9904  ,\n",
              "       0.99688 , 0.99601 , 0.98876 , 0.98992 , 0.99655 , 0.99298 ,\n",
              "       0.99873 , 0.99418 , 0.99628 , 0.99079 , 0.99527 , 0.99435 ,\n",
              "       0.98952 , 0.99773 , 0.99067 , 0.99736 , 0.99188 , 0.99491 ,\n",
              "       0.9951  , 0.99206 , 0.99449 , 0.98994 , 0.99221 , 0.99589 ,\n",
              "       0.99394 , 0.99911 , 0.99956 , 0.99069 , 0.99294 , 0.99391 ,\n",
              "       0.99687 , 0.98871 , 0.99261 , 0.99076 , 0.99439 , 0.99702 ,\n",
              "       0.99116 , 0.99071 , 0.98968 , 0.99543 , 0.99043 , 0.9943  ,\n",
              "       0.989   , 0.99619 , 0.99734 , 0.99062 , 0.99954 , 0.99739 ,\n",
              "       0.98934 , 0.99706 , 0.98935 , 0.9905  , 0.99236 , 0.99276 ,\n",
              "       0.99126 , 0.98896 , 0.99827 , 1.0014  , 0.99524 , 0.99246 ,\n",
              "       0.99745 , 0.99142 , 0.99862 , 0.99537 , 0.9903  , 0.99138 ,\n",
              "       0.99803 , 0.99312 , 0.99395 , 0.9941  , 0.99683 , 1.0002  ,\n",
              "       0.99792 , 0.99308 , 0.9957  , 0.99419 , 0.99684 , 0.99059 ,\n",
              "       0.99922 , 0.98869 , 0.99815 , 0.99296 , 0.99338 , 0.99582 ,\n",
              "       0.99302 , 0.99264 , 0.99022 , 0.99272 , 0.99334 , 0.99135 ,\n",
              "       0.99509 , 0.99642 , 0.99182 , 0.99462 , 0.99612 , 0.98836 ,\n",
              "       0.99593 , 0.99709 , 0.99845 , 0.99154 , 0.99872 , 0.99768 ,\n",
              "       0.99656 , 0.99779 , 0.99822 , 0.99119 , 0.99122 , 1.00037 ,\n",
              "       0.99807 , 0.99104 , 0.99347 , 0.99229 , 0.99255 , 0.99836 ,\n",
              "       0.9907  , 1.0017  , 0.99354 , 0.99031 , 0.99428 , 0.99689 ,\n",
              "       0.99504 , 0.99604 , 0.99093 , 0.99694 , 0.98963 , 0.99814 ,\n",
              "       0.99613 , 0.98931 , 0.99627 , 0.98878 , 0.98713 , 0.99345 ,\n",
              "       0.99248 , 0.99743 , 0.9895  , 0.99699 , 0.99603 , 0.99507 ,\n",
              "       0.99508 , 0.99856 , 0.99305 , 0.99198 , 0.99545 , 0.9995  ,\n",
              "       0.99726 , 0.99448 , 0.99724 , 0.99698 , 0.99455 , 0.99551 ,\n",
              "       0.9973  , 0.99658 , 0.99203 , 0.99344 , 0.99364 , 0.99324 ,\n",
              "       0.99562 , 0.99489 , 0.99651 , 0.99713 , 0.99157 , 0.99539 ,\n",
              "       0.99253 , 0.99268 , 0.99732 , 0.99386 , 0.99609 , 0.99146 ,\n",
              "       0.99896 , 0.98742 , 0.99733 , 0.99402 , 0.99156 , 0.98865 ,\n",
              "       0.99315 , 0.99574 , 0.99379 , 1.00044 , 0.9993  , 0.99538 ,\n",
              "       0.98944 , 0.98892 , 0.99433 , 1.00051 , 0.99783 , 0.99473 ,\n",
              "       0.99239 , 0.99434 , 0.99516 , 1.03898 , 0.99052 , 0.99498 ,\n",
              "       0.98922 , 0.99358 , 0.99644 , 0.99297 , 0.99444 , 0.99266 ,\n",
              "       0.99623 , 0.99532 , 0.9899  , 0.9989  , 0.99588 , 0.99519 ,\n",
              "       0.99336 , 0.99716 , 0.99622 , 0.99317 , 1.0032  , 1.00289 ,\n",
              "       0.99691 , 0.99321 , 0.98966 , 0.99316 , 0.99287 , 0.99061 ,\n",
              "       0.99701 , 0.99567 , 0.99114 , 0.99578 , 0.99123 , 0.99314 ,\n",
              "       0.99082 , 0.99668 , 0.99014 , 0.98939 , 0.99663 , 0.99064 ,\n",
              "       0.99863 , 0.99521 , 0.99144 , 0.99801 , 0.99925 , 0.99741 ,\n",
              "       0.99587 , 0.99907 , 0.9874  , 0.99505 , 0.99183 , 0.98948 ,\n",
              "       0.99916 , 0.9933  , 0.9894  , 0.99552 , 0.99818 , 0.99225 ,\n",
              "       0.99531 , 0.99366 , 0.99742 , 0.99387 , 0.99525 , 0.99711 ,\n",
              "       0.99569 , 0.99756 , 0.99904 , 0.99136 , 0.99257 , 0.99282 ,\n",
              "       0.99235 , 1.0018  , 0.99244 , 0.99898 , 0.99422 , 0.9896  ,\n",
              "       0.99678 , 0.98985 , 0.99778 , 0.99924 , 0.98774 , 0.98959 ,\n",
              "       0.99383 , 0.99714 , 0.99769 , 0.99011 , 0.99021 , 0.99772 ,\n",
              "       0.99722 , 0.98961 , 0.99382 , 0.99496 , 0.98936 , 0.98904 ,\n",
              "       0.99835 , 0.99174 , 0.99162 , 0.99426 , 0.9888  , 0.99776 ,\n",
              "       0.99048 , 0.99393 , 0.99633 , 0.99111 , 0.99693 , 0.99406 ,\n",
              "       0.99554 , 0.99472 , 0.99072 , 0.98884 , 0.98997 , 0.98964 ,\n",
              "       0.99771 , 0.99445 , 0.99791 , 0.99685 , 0.99798 , 0.98924 ,\n",
              "       0.98889 , 0.99457 , 0.99088 , 0.98834 , 0.99831 , 0.99159 ,\n",
              "       0.99288 , 0.99365 , 0.99479 , 0.99614 , 0.99397 , 0.99222 ,\n",
              "       0.99392 , 0.99057 , 0.98914 , 0.99599 , 0.99795 , 0.99384 ,\n",
              "       0.99193 , 0.99129 , 0.99171 , 0.99474 , 0.98978 , 0.99374 ,\n",
              "       0.99293 , 0.99522 , 0.989465, 0.99581 , 0.99286 , 0.99223 ,\n",
              "       0.99555 , 0.99565 , 0.99089 , 0.99284 , 0.99078 , 0.99054 ,\n",
              "       0.9884  , 1.0011  , 0.99557 , 0.99682 , 0.99424 , 0.99643 ,\n",
              "       0.99533 , 0.99942 , 0.99502 , 0.99115 , 0.99908 , 0.99764 ,\n",
              "       0.99367 , 0.99175 , 0.99464 , 0.98823 , 0.99417 , 0.99403 ,\n",
              "       0.99936 , 0.99005 , 0.99802 , 0.99602 , 0.99173 , 0.99825 ,\n",
              "       0.99195 , 0.99096 , 0.99585 , 0.99163 , 0.99755 , 0.99606 ,\n",
              "       0.98953 , 0.99571 , 0.98965 , 0.99765 , 0.99965 , 0.99806 ,\n",
              "       0.99573 , 0.98854 , 0.99024 , 0.99214 , 0.99234 , 0.99626 ,\n",
              "       0.99318 , 0.99372 , 0.99332 , 0.99241 , 0.99046 , 0.98982 ,\n",
              "       0.99103 , 0.9891  , 0.99066 , 0.99675 , 0.99143 , 0.99561 ,\n",
              "       0.99006 , 0.9887  , 0.99228 , 0.98987 , 0.99357 , 0.99625 ,\n",
              "       0.99124 , 1.00025 , 0.99657 , 0.99322 , 1.00005 , 1.00295 ,\n",
              "       0.99878 , 0.98816 , 0.99892 , 0.9886  , 0.99634 , 0.99192 ,\n",
              "       0.98882 , 0.98951 , 0.99047 , 0.99629 , 0.99704 , 0.99425 ,\n",
              "       0.99495 , 0.99075 , 0.99102 , 1.00012 , 0.99134 , 0.99833 ,\n",
              "       0.99109 , 1.00241 , 0.99729 , 0.99177 , 0.99481 , 0.99841 ,\n",
              "       0.99323 , 0.99501 , 0.99646 , 0.98947 , 0.98988 , 0.99853 ,\n",
              "       0.99974 , 0.99662 , 0.99865 , 0.98919 , 0.99375 , 0.99139 ,\n",
              "       0.99385 , 0.99077 , 1.0021  , 0.99468 , 0.99518 , 0.99207 ,\n",
              "       0.99292 , 0.98872 , 0.99621 , 0.98941 , 0.99155 , 1.00016 ,\n",
              "       1.0015  , 0.98794 , 0.99638 , 0.99133 , 0.99454 , 0.99399 ,\n",
              "       0.99695 , 0.99869 , 0.99737 , 0.99042 , 0.98972 , 0.99243 ,\n",
              "       0.99547 , 0.98746 , 0.99172 , 0.99476 , 0.99886 , 0.99269 ,\n",
              "       0.99148 , 0.99838 , 0.99735 , 0.99918 , 0.99686 , 0.99319 ,\n",
              "       0.99631 , 0.99608 , 0.99747 , 0.98722 , 0.99442 , 0.99649 ,\n",
              "       0.99037 , 0.99499 , 0.99205 , 0.99339 , 1.00047 , 0.99416 ,\n",
              "       0.99068 , 0.99279 , 0.99412 , 0.99788 , 0.99966 , 0.99971 ,\n",
              "       0.99492 , 0.99744 , 0.99719 , 0.99353 , 0.99679 , 1.00022 ,\n",
              "       0.99262 , 0.99001 , 0.99209 , 0.99413 , 0.99718 , 1.0026  ,\n",
              "       0.99696 , 0.99208 , 0.99271 , 0.99767 , 0.99107 , 1.0005  ,\n",
              "       0.98868 , 0.99902 , 0.99828 , 0.99483 , 0.99063 , 0.99019 ,\n",
              "       1.0024  , 0.99477 , 0.98898 , 0.99027 , 1.00196 , 0.99331 ,\n",
              "       0.99665 , 0.99056 , 0.99553 , 0.99275 , 0.99191 , 0.99725 ,\n",
              "       0.989435, 0.99805 , 0.99852 , 0.99151 , 0.99028 , 0.99381 ,\n",
              "       0.99513 , 0.98918 , 1.00024 , 0.99405 , 0.99086 , 0.99901 ,\n",
              "       0.998365, 0.998275, 0.99676 , 1.0103  , 0.99254 , 0.99945 ,\n",
              "       0.98853 , 1.0022  , 0.98822 , 0.99429 , 0.99108 , 0.99697 ,\n",
              "       0.99906 , 0.98883 , 0.99252 , 0.99854 , 0.98938 , 1.00182 ,\n",
              "       0.99179 , 0.99204 , 0.988245, 0.99453 , 0.99427 , 0.99583 ,\n",
              "       0.99549 , 0.99563 , 0.99127 , 0.99199 , 1.00055 , 0.99034 ,\n",
              "       0.99859 , 0.98802 , 0.99311 , 0.99529 , 0.99053 , 0.99858 ,\n",
              "       0.99015 , 0.98895 , 0.99611 , 1.00014 , 0.99848 , 0.99645 ,\n",
              "       0.98975 , 0.99466 , 0.99575 , 0.99681 , 0.99721 , 0.99598 ,\n",
              "       0.99436 , 1.00098 , 0.99376 , 0.99348 , 0.989315, 0.99591 ,\n",
              "       0.99796 , 0.99407 , 0.99484 , 0.99938 , 0.99051 , 0.99245 ,\n",
              "       0.99955 , 0.99463 , 0.99361 , 0.99785 , 0.99595 , 0.99839 ,\n",
              "       0.99099 , 0.99251 , 0.99485 , 0.99265 , 0.99617 , 0.99249 ,\n",
              "       0.99009 , 0.99355 , 0.98758 , 0.99267 , 0.99295 , 0.99414 ,\n",
              "       0.99944 , 0.98886 , 0.99329 , 1.0007  , 0.98779 , 0.99837 ,\n",
              "       0.98711 , 0.98913 , 0.99947 , 0.99404 ])"
            ]
          },
          "metadata": {},
          "execution_count": 57
        }
      ]
    },
    {
      "cell_type": "code",
      "source": [
        "wine['density'].plot(kind='box')"
      ],
      "metadata": {
        "colab": {
          "base_uri": "https://localhost:8080/",
          "height": 449
        },
        "id": "gk1_eCoumsvL",
        "outputId": "ea118add-41e1-4114-c272-401299799d21"
      },
      "execution_count": 58,
      "outputs": [
        {
          "output_type": "execute_result",
          "data": {
            "text/plain": [
              "<Axes: >"
            ]
          },
          "metadata": {},
          "execution_count": 58
        },
        {
          "output_type": "display_data",
          "data": {
            "text/plain": [
              "<Figure size 640x480 with 1 Axes>"
            ],
            "image/png": "[encoded data removed]"
          },
          "metadata": {}
        }
      ]
    },
    {
      "cell_type": "code",
      "source": [
        "print_outlier(wine,'density')"
      ],
      "metadata": {
        "colab": {
          "base_uri": "https://localhost:8080/"
        },
        "id": "TKnmpJp3m1NS",
        "outputId": "d02aef61-646e-422f-a8ee-216dc770ce92"
      },
      "execution_count": 59,
      "outputs": [
        {
          "output_type": "stream",
          "name": "stdout",
          "text": [
            "이상치 기준값 : 0.985,1.004\n",
            "\n",
            "density 변수 이상치\n",
            "\n",
            "[1.03898, 1.0103, 1.0103]\n",
            "\n",
            "density 변수 이상치 개수 : 3개\n"
          ]
        }
      ]
    },
    {
      "cell_type": "markdown",
      "source": [
        "* pH : 수소 이온 농도"
      ],
      "metadata": {
        "id": "uT3k9V8Lndr1"
      }
    },
    {
      "cell_type": "code",
      "source": [
        "wine['pH'].describe()"
      ],
      "metadata": {
        "colab": {
          "base_uri": "https://localhost:8080/"
        },
        "id": "C41Q7OBMngyP",
        "outputId": "1a8a2099-226b-45da-e440-23094987ad90"
      },
      "execution_count": 60,
      "outputs": [
        {
          "output_type": "execute_result",
          "data": {
            "text/plain": [
              "count    5497.000000\n",
              "mean        3.219502\n",
              "std         0.160713\n",
              "min         2.740000\n",
              "25%         3.110000\n",
              "50%         3.210000\n",
              "75%         3.320000\n",
              "max         4.010000\n",
              "Name: pH, dtype: float64"
            ]
          },
          "metadata": {},
          "execution_count": 60
        }
      ]
    },
    {
      "cell_type": "code",
      "source": [
        "wine['pH'].unique()"
      ],
      "metadata": {
        "colab": {
          "base_uri": "https://localhost:8080/"
        },
        "id": "Y-3Na_19nkmc",
        "outputId": "9a8df260-33e5-4d00-8279-bb3d2bea53a3"
      },
      "execution_count": 61,
      "outputs": [
        {
          "output_type": "execute_result",
          "data": {
            "text/plain": [
              "array([3.44, 3.19, 3.05, 3.26, 3.04, 3.08, 3.3 , 3.07, 2.89, 3.32, 3.03,\n",
              "       3.13, 3.1 , 3.21, 3.17, 3.06, 3.36, 3.11, 3.41, 3.34, 3.24, 3.15,\n",
              "       3.27, 3.37, 3.16, 3.47, 3.09, 3.29, 3.58, 3.28, 3.38, 3.25, 3.22,\n",
              "       3.14, 3.18, 2.95, 3.31, 3.2 , 3.4 , 3.35, 3.61, 3.52, 3.48, 3.02,\n",
              "       3.45, 2.97, 3.12, 3.01, 3.  , 3.39, 2.86, 3.6 , 3.54, 3.67, 3.23,\n",
              "       3.42, 3.5 , 2.99, 3.33, 3.51, 2.94, 3.46, 2.98, 2.92, 2.9 , 3.53,\n",
              "       3.85, 3.66, 3.56, 2.96, 2.88, 3.43, 3.9 , 3.49, 3.63, 3.57, 3.59,\n",
              "       4.01, 3.55, 2.93, 3.65, 2.74, 3.71, 2.91, 2.83, 2.85, 3.8 , 2.87,\n",
              "       3.74, 3.68, 3.72, 2.82, 3.62, 2.8 , 3.82, 3.75, 3.69, 3.81, 3.79,\n",
              "       3.77, 2.84, 3.76, 2.79, 2.77, 3.78, 3.7 , 3.64])"
            ]
          },
          "metadata": {},
          "execution_count": 61
        }
      ]
    },
    {
      "cell_type": "code",
      "source": [
        "wine['pH'].plot(kind='box')"
      ],
      "metadata": {
        "colab": {
          "base_uri": "https://localhost:8080/",
          "height": 449
        },
        "id": "4rJ8hxQennmI",
        "outputId": "0f8c4028-e382-4166-a30a-abb844994767"
      },
      "execution_count": 62,
      "outputs": [
        {
          "output_type": "execute_result",
          "data": {
            "text/plain": [
              "<Axes: >"
            ]
          },
          "metadata": {},
          "execution_count": 62
        },
        {
          "output_type": "display_data",
          "data": {
            "text/plain": [
              "<Figure size 640x480 with 1 Axes>"
            ],
            "image/png": "[encoded data removed]"
          },
          "metadata": {}
        }
      ]
    },
    {
      "cell_type": "code",
      "source": [
        "print_outlier(wine,'pH')"
      ],
      "metadata": {
        "colab": {
          "base_uri": "https://localhost:8080/"
        },
        "id": "s1D0-lX3nsfS",
        "outputId": "d0d2664a-8cd8-4fc3-b267-ad81f5f67de0"
      },
      "execution_count": 63,
      "outputs": [
        {
          "output_type": "stream",
          "name": "stdout",
          "text": [
            "이상치 기준값 : 2.795,3.635\n",
            "\n",
            "pH 변수 이상치\n",
            "\n",
            "[3.67, 3.85, 3.66, 3.9, 4.01, 3.65, 2.74, 3.71, 3.8, 3.74, 3.71, 3.71, 3.68, 3.66, 3.9, 3.72, 3.66, 3.67, 3.74, 4.01, 3.82, 3.75, 3.8, 3.69, 2.74, 3.81, 3.68, 3.79, 3.65, 3.77, 3.66, 3.66, 3.68, 3.66, 3.72, 3.68, 3.76, 3.66, 3.66, 3.69, 3.67, 3.69, 3.72, 3.69, 3.75, 2.79, 3.71, 2.77, 3.75, 3.68, 3.78, 3.72, 3.7, 2.79, 3.67, 3.65, 3.76, 3.68, 3.64, 3.69]\n",
            "\n",
            "pH 변수 이상치 개수 : 60개\n"
          ]
        }
      ]
    },
    {
      "cell_type": "markdown",
      "metadata": {
        "id": "a0016dad-df1d-4f14-9089-04420b83acb1"
      },
      "source": [
        "#### sulphates : 황산염"
      ]
    },
    {
      "cell_type": "code",
      "execution_count": null,
      "metadata": {
        "id": "22eb2463-8096-4f0c-93dd-52218af9b53b",
        "outputId": "6f05049d-668a-4b49-e834-1bd045094c97",
        "colab": {
          "base_uri": "https://localhost:8080/"
        }
      },
      "outputs": [
        {
          "output_type": "execute_result",
          "data": {
            "text/plain": [
              "count    5497.000000\n",
              "mean        0.530524\n",
              "std         0.149396\n",
              "min         0.220000\n",
              "25%         0.430000\n",
              "50%         0.510000\n",
              "75%         0.600000\n",
              "max         2.000000\n",
              "Name: sulphates, dtype: float64"
            ]
          },
          "metadata": {},
          "execution_count": 205
        }
      ],
      "source": [
        "wine[ 'sulphates' ].describe()"
      ]
    },
    {
      "cell_type": "code",
      "execution_count": null,
      "metadata": {
        "id": "235690df-6394-483a-a6c4-e9c464247942",
        "outputId": "f5e934ed-c5e8-4d04-ada3-93846feb5fb1",
        "colab": {
          "base_uri": "https://localhost:8080/"
        }
      },
      "outputs": [
        {
          "output_type": "execute_result",
          "data": {
            "text/plain": [
              "array([0.44, 0.59, 0.52, 0.5 , 0.43, 0.66, 0.46, 0.49, 0.41, 0.53, 0.3 ,\n",
              "       0.4 , 0.73, 0.33, 1.03, 0.84, 0.55, 0.75, 0.57, 0.64, 0.6 , 0.51,\n",
              "       0.67, 0.45, 0.58, 0.31, 0.68, 0.56, 0.77, 0.81, 0.39, 0.42, 0.69,\n",
              "       0.37, 0.62, 0.34, 0.61, 0.47, 0.54, 0.65, 0.48, 0.35, 0.63, 0.71,\n",
              "       0.79, 0.82, 0.38, 0.32, 0.78, 0.74, 0.7 , 0.36, 0.92, 0.72, 0.9 ,\n",
              "       0.28, 0.76, 0.98, 0.87, 0.83, 1.33, 0.99, 0.96, 0.86, 0.97, 0.91,\n",
              "       0.88, 0.27, 1.18, 1.02, 2.  , 0.85, 0.29, 0.8 , 1.04, 1.01, 1.34,\n",
              "       0.94, 0.89, 1.13, 1.06, 1.14, 1.36, 0.25, 0.26, 1.17, 1.08, 0.93,\n",
              "       1.05, 1.07, 1.95, 0.95, 1.11, 1.12, 1.15, 1.1 , 1.61, 1.59, 1.98,\n",
              "       1.28, 1.16, 1.62, 1.56, 0.22, 1.  , 1.09])"
            ]
          },
          "metadata": {},
          "execution_count": 206
        }
      ],
      "source": [
        "wine[ 'sulphates' ].unique()"
      ]
    },
    {
      "cell_type": "code",
      "execution_count": null,
      "metadata": {
        "id": "b5ede491-28db-4486-a4fb-ef481b68cc12",
        "outputId": "95e22640-421a-4670-fdbe-f891253d8ae2",
        "colab": {
          "base_uri": "https://localhost:8080/",
          "height": 447
        }
      },
      "outputs": [
        {
          "output_type": "execute_result",
          "data": {
            "text/plain": [
              "<Axes: >"
            ]
          },
          "metadata": {},
          "execution_count": 207
        },
        {
          "output_type": "display_data",
          "data": {
            "text/plain": [
              "<Figure size 640x480 with 1 Axes>"
            ],
            "image/png": "[encoded data removed]"
          },
          "metadata": {}
        }
      ],
      "source": [
        "wine[ 'sulphates' ].plot( kind = 'box' )"
      ]
    },
    {
      "cell_type": "code",
      "execution_count": null,
      "metadata": {
        "id": "ecc0fa77-96ec-462f-8522-3b5c414875a5",
        "outputId": "afda2af3-5d4a-4f39-8ca0-158da705efdd",
        "colab": {
          "base_uri": "https://localhost:8080/"
        }
      },
      "outputs": [
        {
          "output_type": "stream",
          "name": "stdout",
          "text": [
            "이상치 기준값 : 0.175, 0.855\n",
            "\n",
            "sulphates 변수 이상치\n",
            "\n",
            "[1.03, 0.92, 0.9, 0.98, 0.87, 1.33, 0.99, 0.96, 0.86, 0.97, 0.91, 0.88, 1.18, 1.02, 0.86, 0.91, 0.88, 2.0, 1.04, 0.88, 1.01, 0.87, 1.34, 0.94, 0.94, 1.01, 0.87, 0.92, 0.86, 0.94, 0.89, 0.88, 0.98, 1.13, 1.06, 0.96, 0.89, 1.02, 1.14, 0.97, 0.89, 0.87, 1.06, 1.36, 1.17, 1.08, 0.93, 1.05, 1.05, 1.08, 1.13, 1.07, 0.86, 0.98, 0.97, 0.92, 0.86, 0.9, 0.91, 0.87, 1.95, 1.06, 0.87, 0.93, 1.18, 0.86, 0.95, 1.11, 0.98, 0.88, 1.12, 0.87, 1.15, 1.02, 0.86, 1.1, 1.61, 1.17, 0.93, 0.88, 0.93, 0.9, 0.86, 0.97, 0.93, 0.99, 0.9, 1.08, 0.96, 0.9, 0.88, 0.91, 0.86, 0.92, 1.1, 0.9, 1.36, 0.88, 0.9, 0.98, 1.59, 0.9, 1.04, 0.9, 1.17, 0.9, 0.88, 0.88, 1.05, 0.94, 0.89, 0.97, 1.98, 0.93, 0.95, 0.88, 0.91, 0.89, 1.18, 1.06, 1.28, 0.89, 1.16, 1.62, 1.07, 0.94, 0.87, 1.36, 1.56, 1.28, 0.95, 0.96, 0.87, 1.95, 1.0, 0.96, 0.95, 0.86, 0.86, 0.87, 0.92, 0.98, 0.94, 1.06, 1.09, 1.17, 0.97, 0.99, 0.87, 0.89, 0.95, 1.03, 0.91, 0.87, 1.14, 0.97, 0.93, 1.17, 0.9, 0.86, 0.92]\n",
            "\n",
            "sulphates 변수 이상치 개수 : 161개\n"
          ]
        }
      ],
      "source": [
        "print_outlier( wine, 'sulphates' )"
      ]
    },
    {
      "cell_type": "markdown",
      "metadata": {
        "id": "d85c9987-08f8-404b-b019-a7feb395e976"
      },
      "source": [
        "* sulphates 변수 이상치는 황산염에 해당함으로 별다른 처리없이 분석에 사용한다."
      ]
    },
    {
      "cell_type": "markdown",
      "metadata": {
        "id": "5ea47f02-2dfa-4fa9-bf4a-b37552175885"
      },
      "source": [
        "#### alcohol : 도수"
      ]
    },
    {
      "cell_type": "code",
      "execution_count": null,
      "metadata": {
        "id": "7abc7a3d-4f43-40e1-8116-b055adb68eac",
        "outputId": "7466f96e-c9b0-436a-c87f-824ce0ce9ea6",
        "colab": {
          "base_uri": "https://localhost:8080/"
        }
      },
      "outputs": [
        {
          "output_type": "execute_result",
          "data": {
            "text/plain": [
              "count    5497.000000\n",
              "mean       10.504918\n",
              "std         1.194524\n",
              "min         8.000000\n",
              "25%         9.500000\n",
              "50%        10.300000\n",
              "75%        11.300000\n",
              "max        14.900000\n",
              "Name: alcohol, dtype: float64"
            ]
          },
          "metadata": {},
          "execution_count": 209
        }
      ],
      "source": [
        "wine[ 'alcohol' ].describe()"
      ]
    },
    {
      "cell_type": "code",
      "execution_count": null,
      "metadata": {
        "id": "19347566-0c6b-47a3-9fcc-d2c00ed6c2d5",
        "outputId": "ddecc248-10eb-4ddb-fe06-c0831dae430b",
        "colab": {
          "base_uri": "https://localhost:8080/"
        }
      },
      "outputs": [
        {
          "output_type": "execute_result",
          "data": {
            "text/plain": [
              "array([10.2       ,  9.5       , 10.9       , 10.8       , 12.        ,\n",
              "        9.6       , 10.        ,  8.7       ,  9.3       , 12.7       ,\n",
              "       11.9       , 10.5       , 12.2       ,  9.7       , 10.55      ,\n",
              "        9.8       ,  9.9       , 11.2       , 11.8       , 12.6       ,\n",
              "        9.        , 10.4       ,  8.6       , 10.3       , 12.5       ,\n",
              "       10.6       , 10.1       , 11.5       ,  9.1       , 13.        ,\n",
              "       13.7       , 12.4       , 13.1       ,  9.4       , 11.1       ,\n",
              "        8.9       , 11.6       , 11.45      , 11.        , 12.1       ,\n",
              "       11.3       ,  9.2       , 10.7       , 10.46666667, 11.4       ,\n",
              "       12.3       ,  8.8       , 11.7       , 13.2       ,  8.5       ,\n",
              "       12.8       , 13.8       ,  9.25      , 12.9       , 13.5       ,\n",
              "       11.65      ,  8.4       , 13.3       , 11.55      ,  9.73333333,\n",
              "       11.05      ,  9.53333333, 13.6       , 14.        ,  9.95      ,\n",
              "       10.98      , 13.4       , 11.33333333, 13.9       , 12.75      ,\n",
              "       11.36666667, 10.15      , 12.15      , 13.05      , 12.06666667,\n",
              "        9.55      , 11.06666667, 10.13333333, 14.9       , 10.56666667,\n",
              "       11.63333333, 11.46666667, 10.53333333, 11.73333333, 11.35      ,\n",
              "       11.75      , 11.94      , 10.93333333, 11.43333333, 11.95      ,\n",
              "        8.        ,  9.05      , 10.03333333, 10.96666667, 14.05      ,\n",
              "       11.26666667, 13.55      , 11.85      , 12.25      , 14.2       ,\n",
              "        9.75      , 12.89333333,  9.56666667])"
            ]
          },
          "metadata": {},
          "execution_count": 210
        }
      ],
      "source": [
        "wine[ 'alcohol' ].unique()"
      ]
    },
    {
      "cell_type": "code",
      "execution_count": null,
      "metadata": {
        "id": "11e522d8-0a2f-4a31-9418-9309bea0fc20",
        "outputId": "40e54df4-0442-48c9-ba39-41b50b8aa3f8",
        "colab": {
          "base_uri": "https://localhost:8080/",
          "height": 447
        }
      },
      "outputs": [
        {
          "output_type": "execute_result",
          "data": {
            "text/plain": [
              "<Axes: >"
            ]
          },
          "metadata": {},
          "execution_count": 211
        },
        {
          "output_type": "display_data",
          "data": {
            "text/plain": [
              "<Figure size 640x480 with 1 Axes>"
            ],
            "image/png": "[encoded data removed]"
          },
          "metadata": {}
        }
      ],
      "source": [
        "wine[ 'alcohol' ].plot( kind = 'box' )"
      ]
    },
    {
      "cell_type": "code",
      "execution_count": null,
      "metadata": {
        "id": "1227ab51-9dc2-4b6e-9d16-b8e3945e200b",
        "outputId": "19266208-7770-4898-b523-21ad6f8ddafe",
        "colab": {
          "base_uri": "https://localhost:8080/"
        }
      },
      "outputs": [
        {
          "output_type": "stream",
          "name": "stdout",
          "text": [
            "이상치 기준값 : 6.8, 14.0\n",
            "\n",
            "alcohol 변수 이상치\n",
            "\n",
            "[14.9, 14.05, 14.2]\n",
            "\n",
            "alcohol 변수 이상치 개수 : 3개\n"
          ]
        }
      ],
      "source": [
        "print_outlier( wine, 'alcohol' )"
      ]
    },
    {
      "cell_type": "markdown",
      "metadata": {
        "id": "cc364ef4-6056-429a-b481-102cb94585c4"
      },
      "source": [
        "* alcohol 변수 이상치는 도수에 해당함으로 별다른 처리없이 분석에 사용한다."
      ]
    },
    {
      "cell_type": "markdown",
      "source": [
        "### EDA"
      ],
      "metadata": {
        "id": "qWDR-nbfpPG5"
      }
    },
    {
      "cell_type": "markdown",
      "source": [
        "#### 기초 통계"
      ],
      "metadata": {
        "id": "YVRLZjJCpd3p"
      }
    },
    {
      "cell_type": "code",
      "source": [
        "wine[['quality','fixed acidity','volatile acidity','citric acid']].describe()"
      ],
      "metadata": {
        "colab": {
          "base_uri": "https://localhost:8080/",
          "height": 300
        },
        "id": "KEbWKdX2pdhi",
        "outputId": "ef79b3d1-f7d6-4f3d-c802-6f08a78b3a43"
      },
      "execution_count": 64,
      "outputs": [
        {
          "output_type": "execute_result",
          "data": {
            "text/plain": [
              "           quality  fixed acidity  volatile acidity  citric acid\n",
              "count  5497.000000    5497.000000       5497.000000  5497.000000\n",
              "mean      5.818992       7.210115          0.338163     0.318543\n",
              "std       0.870311       1.287579          0.163224     0.145104\n",
              "min       3.000000       3.800000          0.080000     0.000000\n",
              "25%       5.000000       6.400000          0.230000     0.250000\n",
              "50%       6.000000       7.000000          0.290000     0.310000\n",
              "75%       6.000000       7.700000          0.400000     0.390000\n",
              "max       9.000000      15.900000          1.580000     1.660000"
            ],
            "text/html": [
              "\n",
              "  <div id=\"df-55f86fbb-af63-4444-9a81-1d12e02ffb77\" class=\"colab-df-container\">\n",
              "    <div>\n",
              "<style scoped>\n",
              "    .dataframe tbody tr th:only-of-type {\n",
              "        vertical-align: middle;\n",
              "    }\n",
              "\n",
              "    .dataframe tbody tr th {\n",
              "        vertical-align: top;\n",
              "    }\n",
              "\n",
              "    .dataframe thead th {\n",
              "        text-align: right;\n",
              "    }\n",
              "</style>\n",
              "<table border=\"1\" class=\"dataframe\">\n",
              "  <thead>\n",
              "    <tr style=\"text-align: right;\">\n",
              "      <th></th>\n",
              "      <th>quality</th>\n",
              "      <th>fixed acidity</th>\n",
              "      <th>volatile acidity</th>\n",
              "      <th>citric acid</th>\n",
              "    </tr>\n",
              "  </thead>\n",
              "  <tbody>\n",
              "    <tr>\n",
              "      <th>count</th>\n",
              "      <td>5497.000000</td>\n",
              "      <td>5497.000000</td>\n",
              "      <td>5497.000000</td>\n",
              "      <td>5497.000000</td>\n",
              "    </tr>\n",
              "    <tr>\n",
              "      <th>mean</th>\n",
              "      <td>5.818992</td>\n",
              "      <td>7.210115</td>\n",
              "      <td>0.338163</td>\n",
              "      <td>0.318543</td>\n",
              "    </tr>\n",
              "    <tr>\n",
              "      <th>std</th>\n",
              "      <td>0.870311</td>\n",
              "      <td>1.287579</td>\n",
              "      <td>0.163224</td>\n",
              "      <td>0.145104</td>\n",
              "    </tr>\n",
              "    <tr>\n",
              "      <th>min</th>\n",
              "      <td>3.000000</td>\n",
              "      <td>3.800000</td>\n",
              "      <td>0.080000</td>\n",
              "      <td>0.000000</td>\n",
              "    </tr>\n",
              "    <tr>\n",
              "      <th>25%</th>\n",
              "      <td>5.000000</td>\n",
              "      <td>6.400000</td>\n",
              "      <td>0.230000</td>\n",
              "      <td>0.250000</td>\n",
              "    </tr>\n",
              "    <tr>\n",
              "      <th>50%</th>\n",
              "      <td>6.000000</td>\n",
              "      <td>7.000000</td>\n",
              "      <td>0.290000</td>\n",
              "      <td>0.310000</td>\n",
              "    </tr>\n",
              "    <tr>\n",
              "      <th>75%</th>\n",
              "      <td>6.000000</td>\n",
              "      <td>7.700000</td>\n",
              "      <td>0.400000</td>\n",
              "      <td>0.390000</td>\n",
              "    </tr>\n",
              "    <tr>\n",
              "      <th>max</th>\n",
              "      <td>9.000000</td>\n",
              "      <td>15.900000</td>\n",
              "      <td>1.580000</td>\n",
              "      <td>1.660000</td>\n",
              "    </tr>\n",
              "  </tbody>\n",
              "</table>\n",
              "</div>\n",
              "    <div class=\"colab-df-buttons\">\n",
              "\n",
              "  <div class=\"colab-df-container\">\n",
              "    <button class=\"colab-df-convert\" onclick=\"convertToInteractive('df-55f86fbb-af63-4444-9a81-1d12e02ffb77')\"\n",
              "            title=\"Convert this dataframe to an interactive table.\"\n",
              "            style=\"display:none;\">\n",
              "\n",
              "  <svg xmlns=\"http://www.w3.org/2000/svg\" height=\"24px\" viewBox=\"0 -960 960 960\">\n",
              "    <path d=\"M120-120v-720h720v720H120Zm60-500h600v-160H180v160Zm220 220h160v-160H400v160Zm0 220h160v-160H400v160ZM180-400h160v-160H180v160Zm440 0h160v-160H620v160ZM180-180h160v-160H180v160Zm440 0h160v-160H620v160Z\"/>\n",
              "  </svg>\n",
              "    </button>\n",
              "\n",
              "  <style>\n",
              "    .colab-df-container {\n",
              "      display:flex;\n",
              "      gap: 12px;\n",
              "    }\n",
              "\n",
              "    .colab-df-convert {\n",
              "      background-color: #E8F0FE;\n",
              "      border: none;\n",
              "      border-radius: 50%;\n",
              "      cursor: pointer;\n",
              "      display: none;\n",
              "      fill: #1967D2;\n",
              "      height: 32px;\n",
              "      padding: 0 0 0 0;\n",
              "      width: 32px;\n",
              "    }\n",
              "\n",
              "    .colab-df-convert:hover {\n",
              "      background-color: #E2EBFA;\n",
              "      box-shadow: 0px 1px 2px rgba(60, 64, 67, 0.3), 0px 1px 3px 1px rgba(60, 64, 67, 0.15);\n",
              "      fill: #174EA6;\n",
              "    }\n",
              "\n",
              "    .colab-df-buttons div {\n",
              "      margin-bottom: 4px;\n",
              "    }\n",
              "\n",
              "    [theme=dark] .colab-df-convert {\n",
              "      background-color: #3B4455;\n",
              "      fill: #D2E3FC;\n",
              "    }\n",
              "\n",
              "    [theme=dark] .colab-df-convert:hover {\n",
              "      background-color: #434B5C;\n",
              "      box-shadow: 0px 1px 3px 1px rgba(0, 0, 0, 0.15);\n",
              "      filter: drop-shadow(0px 1px 2px rgba(0, 0, 0, 0.3));\n",
              "      fill: #FFFFFF;\n",
              "    }\n",
              "  </style>\n",
              "\n",
              "    <script>\n",
              "      const buttonEl =\n",
              "        document.querySelector('#df-55f86fbb-af63-4444-9a81-1d12e02ffb77 button.colab-df-convert');\n",
              "      buttonEl.style.display =\n",
              "        google.colab.kernel.accessAllowed ? 'block' : 'none';\n",
              "\n",
              "      async function convertToInteractive(key) {\n",
              "        const element = document.querySelector('#df-55f86fbb-af63-4444-9a81-1d12e02ffb77');\n",
              "        const dataTable =\n",
              "          await google.colab.kernel.invokeFunction('convertToInteractive',\n",
              "                                                    [key], {});\n",
              "        if (!dataTable) return;\n",
              "\n",
              "        const docLinkHtml = 'Like what you see? Visit the ' +\n",
              "          '<a target=\"_blank\" href=https://colab.research.google.com/notebooks/data_table.ipynb>data table notebook</a>'\n",
              "          + ' to learn more about interactive tables.';\n",
              "        element.innerHTML = '';\n",
              "        dataTable['output_type'] = 'display_data';\n",
              "        await google.colab.output.renderOutput(dataTable, element);\n",
              "        const docLink = document.createElement('div');\n",
              "        docLink.innerHTML = docLinkHtml;\n",
              "        element.appendChild(docLink);\n",
              "      }\n",
              "    </script>\n",
              "  </div>\n",
              "\n",
              "\n",
              "<div id=\"df-59bf287b-1a86-4844-95ae-f5d5c7c0af55\">\n",
              "  <button class=\"colab-df-quickchart\" onclick=\"quickchart('df-59bf287b-1a86-4844-95ae-f5d5c7c0af55')\"\n",
              "            title=\"Suggest charts\"\n",
              "            style=\"display:none;\">\n",
              "\n",
              "<svg xmlns=\"http://www.w3.org/2000/svg\" height=\"24px\"viewBox=\"0 0 24 24\"\n",
              "     width=\"24px\">\n",
              "    <g>\n",
              "        <path d=\"M19 3H5c-1.1 0-2 .9-2 2v14c0 1.1.9 2 2 2h14c1.1 0 2-.9 2-2V5c0-1.1-.9-2-2-2zM9 17H7v-7h2v7zm4 0h-2V7h2v10zm4 0h-2v-4h2v4z\"/>\n",
              "    </g>\n",
              "</svg>\n",
              "  </button>\n",
              "\n",
              "<style>\n",
              "  .colab-df-quickchart {\n",
              "      --bg-color: #E8F0FE;\n",
              "      --fill-color: #1967D2;\n",
              "      --hover-bg-color: #E2EBFA;\n",
              "      --hover-fill-color: #174EA6;\n",
              "      --disabled-fill-color: #AAA;\n",
              "      --disabled-bg-color: #DDD;\n",
              "  }\n",
              "\n",
              "  [theme=dark] .colab-df-quickchart {\n",
              "      --bg-color: #3B4455;\n",
              "      --fill-color: #D2E3FC;\n",
              "      --hover-bg-color: #434B5C;\n",
              "      --hover-fill-color: #FFFFFF;\n",
              "      --disabled-bg-color: #3B4455;\n",
              "      --disabled-fill-color: #666;\n",
              "  }\n",
              "\n",
              "  .colab-df-quickchart {\n",
              "    background-color: var(--bg-color);\n",
              "    border: none;\n",
              "    border-radius: 50%;\n",
              "    cursor: pointer;\n",
              "    display: none;\n",
              "    fill: var(--fill-color);\n",
              "    height: 32px;\n",
              "    padding: 0;\n",
              "    width: 32px;\n",
              "  }\n",
              "\n",
              "  .colab-df-quickchart:hover {\n",
              "    background-color: var(--hover-bg-color);\n",
              "    box-shadow: 0 1px 2px rgba(60, 64, 67, 0.3), 0 1px 3px 1px rgba(60, 64, 67, 0.15);\n",
              "    fill: var(--button-hover-fill-color);\n",
              "  }\n",
              "\n",
              "  .colab-df-quickchart-complete:disabled,\n",
              "  .colab-df-quickchart-complete:disabled:hover {\n",
              "    background-color: var(--disabled-bg-color);\n",
              "    fill: var(--disabled-fill-color);\n",
              "    box-shadow: none;\n",
              "  }\n",
              "\n",
              "  .colab-df-spinner {\n",
              "    border: 2px solid var(--fill-color);\n",
              "    border-color: transparent;\n",
              "    border-bottom-color: var(--fill-color);\n",
              "    animation:\n",
              "      spin 1s steps(1) infinite;\n",
              "  }\n",
              "\n",
              "  @keyframes spin {\n",
              "    0% {\n",
              "      border-color: transparent;\n",
              "      border-bottom-color: var(--fill-color);\n",
              "      border-left-color: var(--fill-color);\n",
              "    }\n",
              "    20% {\n",
              "      border-color: transparent;\n",
              "      border-left-color: var(--fill-color);\n",
              "      border-top-color: var(--fill-color);\n",
              "    }\n",
              "    30% {\n",
              "      border-color: transparent;\n",
              "      border-left-color: var(--fill-color);\n",
              "      border-top-color: var(--fill-color);\n",
              "      border-right-color: var(--fill-color);\n",
              "    }\n",
              "    40% {\n",
              "      border-color: transparent;\n",
              "      border-right-color: var(--fill-color);\n",
              "      border-top-color: var(--fill-color);\n",
              "    }\n",
              "    60% {\n",
              "      border-color: transparent;\n",
              "      border-right-color: var(--fill-color);\n",
              "    }\n",
              "    80% {\n",
              "      border-color: transparent;\n",
              "      border-right-color: var(--fill-color);\n",
              "      border-bottom-color: var(--fill-color);\n",
              "    }\n",
              "    90% {\n",
              "      border-color: transparent;\n",
              "      border-bottom-color: var(--fill-color);\n",
              "    }\n",
              "  }\n",
              "</style>\n",
              "\n",
              "  <script>\n",
              "    async function quickchart(key) {\n",
              "      const quickchartButtonEl =\n",
              "        document.querySelector('#' + key + ' button');\n",
              "      quickchartButtonEl.disabled = true;  // To prevent multiple clicks.\n",
              "      quickchartButtonEl.classList.add('colab-df-spinner');\n",
              "      try {\n",
              "        const charts = await google.colab.kernel.invokeFunction(\n",
              "            'suggestCharts', [key], {});\n",
              "      } catch (error) {\n",
              "        console.error('Error during call to suggestCharts:', error);\n",
              "      }\n",
              "      quickchartButtonEl.classList.remove('colab-df-spinner');\n",
              "      quickchartButtonEl.classList.add('colab-df-quickchart-complete');\n",
              "    }\n",
              "    (() => {\n",
              "      let quickchartButtonEl =\n",
              "        document.querySelector('#df-59bf287b-1a86-4844-95ae-f5d5c7c0af55 button');\n",
              "      quickchartButtonEl.style.display =\n",
              "        google.colab.kernel.accessAllowed ? 'block' : 'none';\n",
              "    })();\n",
              "  </script>\n",
              "</div>\n",
              "\n",
              "    </div>\n",
              "  </div>\n"
            ],
            "application/vnd.google.colaboratory.intrinsic+json": {
              "type": "dataframe",
              "summary": "{\n  \"name\": \"wine[['quality','fixed acidity','volatile acidity','citric acid']]\",\n  \"rows\": 8,\n  \"fields\": [\n    {\n      \"column\": \"quality\",\n      \"properties\": {\n        \"dtype\": \"number\",\n        \"std\": 1941.6818649378006,\n        \"min\": 0.8703110187786334,\n        \"max\": 5497.0,\n        \"num_unique_values\": 7,\n        \"samples\": [\n          5497.0,\n          5.818992177551392,\n          6.0\n        ],\n        \"semantic_type\": \"\",\n        \"description\": \"\"\n      }\n    },\n    {\n      \"column\": \"fixed acidity\",\n      \"properties\": {\n        \"dtype\": \"number\",\n        \"std\": 1940.9976036000169,\n        \"min\": 1.287579057916517,\n        \"max\": 5497.0,\n        \"num_unique_values\": 8,\n        \"samples\": [\n          7.2101146079679825,\n          7.0,\n          5497.0\n        ],\n        \"semantic_type\": \"\",\n        \"description\": \"\"\n      }\n    },\n    {\n      \"column\": \"volatile acidity\",\n      \"properties\": {\n        \"dtype\": \"number\",\n        \"std\": 1943.3274127831967,\n        \"min\": 0.08,\n        \"max\": 5497.0,\n        \"num_unique_values\": 8,\n        \"samples\": [\n          0.33816263416408954,\n          0.29,\n          5497.0\n        ],\n        \"semantic_type\": \"\",\n        \"description\": \"\"\n      }\n    },\n    {\n      \"column\": \"citric acid\",\n      \"properties\": {\n        \"dtype\": \"number\",\n        \"std\": 1943.327813089992,\n        \"min\": 0.0,\n        \"max\": 5497.0,\n        \"num_unique_values\": 8,\n        \"samples\": [\n          0.31854284154993634,\n          0.31,\n          5497.0\n        ],\n        \"semantic_type\": \"\",\n        \"description\": \"\"\n      }\n    }\n  ]\n}"
            }
          },
          "metadata": {},
          "execution_count": 64
        }
      ]
    },
    {
      "cell_type": "code",
      "source": [
        "wine[ [ 'residual sugar', 'chlorides', 'free sulfur dioxide', 'total sulfur dioxide' ] ].describe()"
      ],
      "metadata": {
        "colab": {
          "base_uri": "https://localhost:8080/",
          "height": 300
        },
        "id": "eJwKkavdpT9h",
        "outputId": "62f505a3-0693-49d0-cb13-1309a915db46"
      },
      "execution_count": 65,
      "outputs": [
        {
          "output_type": "execute_result",
          "data": {
            "text/plain": [
              "       residual sugar    chlorides  free sulfur dioxide  total sulfur dioxide\n",
              "count     5497.000000  5497.000000          5497.000000          5497.000000 \n",
              "mean         5.438075     0.055808            30.417682           115.566491 \n",
              "std          4.756676     0.034653            17.673881            56.288223 \n",
              "min          0.600000     0.009000             1.000000             6.000000 \n",
              "25%          1.800000     0.038000            17.000000            78.000000 \n",
              "50%          3.000000     0.047000            29.000000           118.000000 \n",
              "75%          8.100000     0.064000            41.000000           155.000000 \n",
              "max         65.800000     0.610000           289.000000           440.000000 "
            ],
            "text/html": [
              "\n",
              "  <div id=\"df-fed7c5a7-864a-428a-98cd-d25613a73f3a\" class=\"colab-df-container\">\n",
              "    <div>\n",
              "<style scoped>\n",
              "    .dataframe tbody tr th:only-of-type {\n",
              "        vertical-align: middle;\n",
              "    }\n",
              "\n",
              "    .dataframe tbody tr th {\n",
              "        vertical-align: top;\n",
              "    }\n",
              "\n",
              "    .dataframe thead th {\n",
              "        text-align: right;\n",
              "    }\n",
              "</style>\n",
              "<table border=\"1\" class=\"dataframe\">\n",
              "  <thead>\n",
              "    <tr style=\"text-align: right;\">\n",
              "      <th></th>\n",
              "      <th>residual sugar</th>\n",
              "      <th>chlorides</th>\n",
              "      <th>free sulfur dioxide</th>\n",
              "      <th>total sulfur dioxide</th>\n",
              "    </tr>\n",
              "  </thead>\n",
              "  <tbody>\n",
              "    <tr>\n",
              "      <th>count</th>\n",
              "      <td>5497.000000</td>\n",
              "      <td>5497.000000</td>\n",
              "      <td>5497.000000</td>\n",
              "      <td>5497.000000</td>\n",
              "    </tr>\n",
              "    <tr>\n",
              "      <th>mean</th>\n",
              "      <td>5.438075</td>\n",
              "      <td>0.055808</td>\n",
              "      <td>30.417682</td>\n",
              "      <td>115.566491</td>\n",
              "    </tr>\n",
              "    <tr>\n",
              "      <th>std</th>\n",
              "      <td>4.756676</td>\n",
              "      <td>0.034653</td>\n",
              "      <td>17.673881</td>\n",
              "      <td>56.288223</td>\n",
              "    </tr>\n",
              "    <tr>\n",
              "      <th>min</th>\n",
              "      <td>0.600000</td>\n",
              "      <td>0.009000</td>\n",
              "      <td>1.000000</td>\n",
              "      <td>6.000000</td>\n",
              "    </tr>\n",
              "    <tr>\n",
              "      <th>25%</th>\n",
              "      <td>1.800000</td>\n",
              "      <td>0.038000</td>\n",
              "      <td>17.000000</td>\n",
              "      <td>78.000000</td>\n",
              "    </tr>\n",
              "    <tr>\n",
              "      <th>50%</th>\n",
              "      <td>3.000000</td>\n",
              "      <td>0.047000</td>\n",
              "      <td>29.000000</td>\n",
              "      <td>118.000000</td>\n",
              "    </tr>\n",
              "    <tr>\n",
              "      <th>75%</th>\n",
              "      <td>8.100000</td>\n",
              "      <td>0.064000</td>\n",
              "      <td>41.000000</td>\n",
              "      <td>155.000000</td>\n",
              "    </tr>\n",
              "    <tr>\n",
              "      <th>max</th>\n",
              "      <td>65.800000</td>\n",
              "      <td>0.610000</td>\n",
              "      <td>289.000000</td>\n",
              "      <td>440.000000</td>\n",
              "    </tr>\n",
              "  </tbody>\n",
              "</table>\n",
              "</div>\n",
              "    <div class=\"colab-df-buttons\">\n",
              "\n",
              "  <div class=\"colab-df-container\">\n",
              "    <button class=\"colab-df-convert\" onclick=\"convertToInteractive('df-fed7c5a7-864a-428a-98cd-d25613a73f3a')\"\n",
              "            title=\"Convert this dataframe to an interactive table.\"\n",
              "            style=\"display:none;\">\n",
              "\n",
              "  <svg xmlns=\"http://www.w3.org/2000/svg\" height=\"24px\" viewBox=\"0 -960 960 960\">\n",
              "    <path d=\"M120-120v-720h720v720H120Zm60-500h600v-160H180v160Zm220 220h160v-160H400v160Zm0 220h160v-160H400v160ZM180-400h160v-160H180v160Zm440 0h160v-160H620v160ZM180-180h160v-160H180v160Zm440 0h160v-160H620v160Z\"/>\n",
              "  </svg>\n",
              "    </button>\n",
              "\n",
              "  <style>\n",
              "    .colab-df-container {\n",
              "      display:flex;\n",
              "      gap: 12px;\n",
              "    }\n",
              "\n",
              "    .colab-df-convert {\n",
              "      background-color: #E8F0FE;\n",
              "      border: none;\n",
              "      border-radius: 50%;\n",
              "      cursor: pointer;\n",
              "      display: none;\n",
              "      fill: #1967D2;\n",
              "      height: 32px;\n",
              "      padding: 0 0 0 0;\n",
              "      width: 32px;\n",
              "    }\n",
              "\n",
              "    .colab-df-convert:hover {\n",
              "      background-color: #E2EBFA;\n",
              "      box-shadow: 0px 1px 2px rgba(60, 64, 67, 0.3), 0px 1px 3px 1px rgba(60, 64, 67, 0.15);\n",
              "      fill: #174EA6;\n",
              "    }\n",
              "\n",
              "    .colab-df-buttons div {\n",
              "      margin-bottom: 4px;\n",
              "    }\n",
              "\n",
              "    [theme=dark] .colab-df-convert {\n",
              "      background-color: #3B4455;\n",
              "      fill: #D2E3FC;\n",
              "    }\n",
              "\n",
              "    [theme=dark] .colab-df-convert:hover {\n",
              "      background-color: #434B5C;\n",
              "      box-shadow: 0px 1px 3px 1px rgba(0, 0, 0, 0.15);\n",
              "      filter: drop-shadow(0px 1px 2px rgba(0, 0, 0, 0.3));\n",
              "      fill: #FFFFFF;\n",
              "    }\n",
              "  </style>\n",
              "\n",
              "    <script>\n",
              "      const buttonEl =\n",
              "        document.querySelector('#df-fed7c5a7-864a-428a-98cd-d25613a73f3a button.colab-df-convert');\n",
              "      buttonEl.style.display =\n",
              "        google.colab.kernel.accessAllowed ? 'block' : 'none';\n",
              "\n",
              "      async function convertToInteractive(key) {\n",
              "        const element = document.querySelector('#df-fed7c5a7-864a-428a-98cd-d25613a73f3a');\n",
              "        const dataTable =\n",
              "          await google.colab.kernel.invokeFunction('convertToInteractive',\n",
              "                                                    [key], {});\n",
              "        if (!dataTable) return;\n",
              "\n",
              "        const docLinkHtml = 'Like what you see? Visit the ' +\n",
              "          '<a target=\"_blank\" href=https://colab.research.google.com/notebooks/data_table.ipynb>data table notebook</a>'\n",
              "          + ' to learn more about interactive tables.';\n",
              "        element.innerHTML = '';\n",
              "        dataTable['output_type'] = 'display_data';\n",
              "        await google.colab.output.renderOutput(dataTable, element);\n",
              "        const docLink = document.createElement('div');\n",
              "        docLink.innerHTML = docLinkHtml;\n",
              "        element.appendChild(docLink);\n",
              "      }\n",
              "    </script>\n",
              "  </div>\n",
              "\n",
              "\n",
              "<div id=\"df-2390b49f-ab90-43b9-93e9-65db0f96be49\">\n",
              "  <button class=\"colab-df-quickchart\" onclick=\"quickchart('df-2390b49f-ab90-43b9-93e9-65db0f96be49')\"\n",
              "            title=\"Suggest charts\"\n",
              "            style=\"display:none;\">\n",
              "\n",
              "<svg xmlns=\"http://www.w3.org/2000/svg\" height=\"24px\"viewBox=\"0 0 24 24\"\n",
              "     width=\"24px\">\n",
              "    <g>\n",
              "        <path d=\"M19 3H5c-1.1 0-2 .9-2 2v14c0 1.1.9 2 2 2h14c1.1 0 2-.9 2-2V5c0-1.1-.9-2-2-2zM9 17H7v-7h2v7zm4 0h-2V7h2v10zm4 0h-2v-4h2v4z\"/>\n",
              "    </g>\n",
              "</svg>\n",
              "  </button>\n",
              "\n",
              "<style>\n",
              "  .colab-df-quickchart {\n",
              "      --bg-color: #E8F0FE;\n",
              "      --fill-color: #1967D2;\n",
              "      --hover-bg-color: #E2EBFA;\n",
              "      --hover-fill-color: #174EA6;\n",
              "      --disabled-fill-color: #AAA;\n",
              "      --disabled-bg-color: #DDD;\n",
              "  }\n",
              "\n",
              "  [theme=dark] .colab-df-quickchart {\n",
              "      --bg-color: #3B4455;\n",
              "      --fill-color: #D2E3FC;\n",
              "      --hover-bg-color: #434B5C;\n",
              "      --hover-fill-color: #FFFFFF;\n",
              "      --disabled-bg-color: #3B4455;\n",
              "      --disabled-fill-color: #666;\n",
              "  }\n",
              "\n",
              "  .colab-df-quickchart {\n",
              "    background-color: var(--bg-color);\n",
              "    border: none;\n",
              "    border-radius: 50%;\n",
              "    cursor: pointer;\n",
              "    display: none;\n",
              "    fill: var(--fill-color);\n",
              "    height: 32px;\n",
              "    padding: 0;\n",
              "    width: 32px;\n",
              "  }\n",
              "\n",
              "  .colab-df-quickchart:hover {\n",
              "    background-color: var(--hover-bg-color);\n",
              "    box-shadow: 0 1px 2px rgba(60, 64, 67, 0.3), 0 1px 3px 1px rgba(60, 64, 67, 0.15);\n",
              "    fill: var(--button-hover-fill-color);\n",
              "  }\n",
              "\n",
              "  .colab-df-quickchart-complete:disabled,\n",
              "  .colab-df-quickchart-complete:disabled:hover {\n",
              "    background-color: var(--disabled-bg-color);\n",
              "    fill: var(--disabled-fill-color);\n",
              "    box-shadow: none;\n",
              "  }\n",
              "\n",
              "  .colab-df-spinner {\n",
              "    border: 2px solid var(--fill-color);\n",
              "    border-color: transparent;\n",
              "    border-bottom-color: var(--fill-color);\n",
              "    animation:\n",
              "      spin 1s steps(1) infinite;\n",
              "  }\n",
              "\n",
              "  @keyframes spin {\n",
              "    0% {\n",
              "      border-color: transparent;\n",
              "      border-bottom-color: var(--fill-color);\n",
              "      border-left-color: var(--fill-color);\n",
              "    }\n",
              "    20% {\n",
              "      border-color: transparent;\n",
              "      border-left-color: var(--fill-color);\n",
              "      border-top-color: var(--fill-color);\n",
              "    }\n",
              "    30% {\n",
              "      border-color: transparent;\n",
              "      border-left-color: var(--fill-color);\n",
              "      border-top-color: var(--fill-color);\n",
              "      border-right-color: var(--fill-color);\n",
              "    }\n",
              "    40% {\n",
              "      border-color: transparent;\n",
              "      border-right-color: var(--fill-color);\n",
              "      border-top-color: var(--fill-color);\n",
              "    }\n",
              "    60% {\n",
              "      border-color: transparent;\n",
              "      border-right-color: var(--fill-color);\n",
              "    }\n",
              "    80% {\n",
              "      border-color: transparent;\n",
              "      border-right-color: var(--fill-color);\n",
              "      border-bottom-color: var(--fill-color);\n",
              "    }\n",
              "    90% {\n",
              "      border-color: transparent;\n",
              "      border-bottom-color: var(--fill-color);\n",
              "    }\n",
              "  }\n",
              "</style>\n",
              "\n",
              "  <script>\n",
              "    async function quickchart(key) {\n",
              "      const quickchartButtonEl =\n",
              "        document.querySelector('#' + key + ' button');\n",
              "      quickchartButtonEl.disabled = true;  // To prevent multiple clicks.\n",
              "      quickchartButtonEl.classList.add('colab-df-spinner');\n",
              "      try {\n",
              "        const charts = await google.colab.kernel.invokeFunction(\n",
              "            'suggestCharts', [key], {});\n",
              "      } catch (error) {\n",
              "        console.error('Error during call to suggestCharts:', error);\n",
              "      }\n",
              "      quickchartButtonEl.classList.remove('colab-df-spinner');\n",
              "      quickchartButtonEl.classList.add('colab-df-quickchart-complete');\n",
              "    }\n",
              "    (() => {\n",
              "      let quickchartButtonEl =\n",
              "        document.querySelector('#df-2390b49f-ab90-43b9-93e9-65db0f96be49 button');\n",
              "      quickchartButtonEl.style.display =\n",
              "        google.colab.kernel.accessAllowed ? 'block' : 'none';\n",
              "    })();\n",
              "  </script>\n",
              "</div>\n",
              "\n",
              "    </div>\n",
              "  </div>\n"
            ],
            "application/vnd.google.colaboratory.intrinsic+json": {
              "type": "dataframe",
              "summary": "{\n  \"name\": \"wine[ [ 'residual sugar', 'chlorides', 'free sulfur dioxide', 'total sulfur dioxide' ] ]\",\n  \"rows\": 8,\n  \"fields\": [\n    {\n      \"column\": \"residual sugar\",\n      \"properties\": {\n        \"dtype\": \"number\",\n        \"std\": 1939.0849682110793,\n        \"min\": 0.6,\n        \"max\": 5497.0,\n        \"num_unique_values\": 8,\n        \"samples\": [\n          5.4380753138075315,\n          3.0,\n          5497.0\n        ],\n        \"semantic_type\": \"\",\n        \"description\": \"\"\n      }\n    },\n    {\n      \"column\": \"chlorides\",\n      \"properties\": {\n        \"dtype\": \"number\",\n        \"std\": 1943.4396394967205,\n        \"min\": 0.009,\n        \"max\": 5497.0,\n        \"num_unique_values\": 8,\n        \"samples\": [\n          0.055808077132981616,\n          0.047,\n          5497.0\n        ],\n        \"semantic_type\": \"\",\n        \"description\": \"\"\n      }\n    },\n    {\n      \"column\": \"free sulfur dioxide\",\n      \"properties\": {\n        \"dtype\": \"number\",\n        \"std\": 1924.306314353842,\n        \"min\": 1.0,\n        \"max\": 5497.0,\n        \"num_unique_values\": 8,\n        \"samples\": [\n          30.41768237220302,\n          29.0,\n          5497.0\n        ],\n        \"semantic_type\": \"\",\n        \"description\": \"\"\n      }\n    },\n    {\n      \"column\": \"total sulfur dioxide\",\n      \"properties\": {\n        \"dtype\": \"number\",\n        \"std\": 1899.0709130668802,\n        \"min\": 6.0,\n        \"max\": 5497.0,\n        \"num_unique_values\": 8,\n        \"samples\": [\n          115.56649081317082,\n          118.0,\n          5497.0\n        ],\n        \"semantic_type\": \"\",\n        \"description\": \"\"\n      }\n    }\n  ]\n}"
            }
          },
          "metadata": {},
          "execution_count": 65
        }
      ]
    },
    {
      "cell_type": "code",
      "source": [
        "wine[ [ 'density', 'pH', 'sulphates', 'alcohol' ] ].describe()"
      ],
      "metadata": {
        "colab": {
          "base_uri": "https://localhost:8080/",
          "height": 300
        },
        "id": "pHxpv3lsqAk6",
        "outputId": "c8fcfc21-75a1-45d3-ee6c-cb73394466f2"
      },
      "execution_count": 66,
      "outputs": [
        {
          "output_type": "execute_result",
          "data": {
            "text/plain": [
              "           density           pH    sulphates      alcohol\n",
              "count  5497.000000  5497.000000  5497.000000  5497.000000\n",
              "mean      0.994673     3.219502     0.530524    10.504918\n",
              "std       0.003014     0.160713     0.149396     1.194524\n",
              "min       0.987110     2.740000     0.220000     8.000000\n",
              "25%       0.992300     3.110000     0.430000     9.500000\n",
              "50%       0.994800     3.210000     0.510000    10.300000\n",
              "75%       0.996930     3.320000     0.600000    11.300000\n",
              "max       1.038980     4.010000     2.000000    14.900000"
            ],
            "text/html": [
              "\n",
              "  <div id=\"df-0f4c37c4-d153-41fa-8ea4-4020a2a0bd2e\" class=\"colab-df-container\">\n",
              "    <div>\n",
              "<style scoped>\n",
              "    .dataframe tbody tr th:only-of-type {\n",
              "        vertical-align: middle;\n",
              "    }\n",
              "\n",
              "    .dataframe tbody tr th {\n",
              "        vertical-align: top;\n",
              "    }\n",
              "\n",
              "    .dataframe thead th {\n",
              "        text-align: right;\n",
              "    }\n",
              "</style>\n",
              "<table border=\"1\" class=\"dataframe\">\n",
              "  <thead>\n",
              "    <tr style=\"text-align: right;\">\n",
              "      <th></th>\n",
              "      <th>density</th>\n",
              "      <th>pH</th>\n",
              "      <th>sulphates</th>\n",
              "      <th>alcohol</th>\n",
              "    </tr>\n",
              "  </thead>\n",
              "  <tbody>\n",
              "    <tr>\n",
              "      <th>count</th>\n",
              "      <td>5497.000000</td>\n",
              "      <td>5497.000000</td>\n",
              "      <td>5497.000000</td>\n",
              "      <td>5497.000000</td>\n",
              "    </tr>\n",
              "    <tr>\n",
              "      <th>mean</th>\n",
              "      <td>0.994673</td>\n",
              "      <td>3.219502</td>\n",
              "      <td>0.530524</td>\n",
              "      <td>10.504918</td>\n",
              "    </tr>\n",
              "    <tr>\n",
              "      <th>std</th>\n",
              "      <td>0.003014</td>\n",
              "      <td>0.160713</td>\n",
              "      <td>0.149396</td>\n",
              "      <td>1.194524</td>\n",
              "    </tr>\n",
              "    <tr>\n",
              "      <th>min</th>\n",
              "      <td>0.987110</td>\n",
              "      <td>2.740000</td>\n",
              "      <td>0.220000</td>\n",
              "      <td>8.000000</td>\n",
              "    </tr>\n",
              "    <tr>\n",
              "      <th>25%</th>\n",
              "      <td>0.992300</td>\n",
              "      <td>3.110000</td>\n",
              "      <td>0.430000</td>\n",
              "      <td>9.500000</td>\n",
              "    </tr>\n",
              "    <tr>\n",
              "      <th>50%</th>\n",
              "      <td>0.994800</td>\n",
              "      <td>3.210000</td>\n",
              "      <td>0.510000</td>\n",
              "      <td>10.300000</td>\n",
              "    </tr>\n",
              "    <tr>\n",
              "      <th>75%</th>\n",
              "      <td>0.996930</td>\n",
              "      <td>3.320000</td>\n",
              "      <td>0.600000</td>\n",
              "      <td>11.300000</td>\n",
              "    </tr>\n",
              "    <tr>\n",
              "      <th>max</th>\n",
              "      <td>1.038980</td>\n",
              "      <td>4.010000</td>\n",
              "      <td>2.000000</td>\n",
              "      <td>14.900000</td>\n",
              "    </tr>\n",
              "  </tbody>\n",
              "</table>\n",
              "</div>\n",
              "    <div class=\"colab-df-buttons\">\n",
              "\n",
              "  <div class=\"colab-df-container\">\n",
              "    <button class=\"colab-df-convert\" onclick=\"convertToInteractive('df-0f4c37c4-d153-41fa-8ea4-4020a2a0bd2e')\"\n",
              "            title=\"Convert this dataframe to an interactive table.\"\n",
              "            style=\"display:none;\">\n",
              "\n",
              "  <svg xmlns=\"http://www.w3.org/2000/svg\" height=\"24px\" viewBox=\"0 -960 960 960\">\n",
              "    <path d=\"M120-120v-720h720v720H120Zm60-500h600v-160H180v160Zm220 220h160v-160H400v160Zm0 220h160v-160H400v160ZM180-400h160v-160H180v160Zm440 0h160v-160H620v160ZM180-180h160v-160H180v160Zm440 0h160v-160H620v160Z\"/>\n",
              "  </svg>\n",
              "    </button>\n",
              "\n",
              "  <style>\n",
              "    .colab-df-container {\n",
              "      display:flex;\n",
              "      gap: 12px;\n",
              "    }\n",
              "\n",
              "    .colab-df-convert {\n",
              "      background-color: #E8F0FE;\n",
              "      border: none;\n",
              "      border-radius: 50%;\n",
              "      cursor: pointer;\n",
              "      display: none;\n",
              "      fill: #1967D2;\n",
              "      height: 32px;\n",
              "      padding: 0 0 0 0;\n",
              "      width: 32px;\n",
              "    }\n",
              "\n",
              "    .colab-df-convert:hover {\n",
              "      background-color: #E2EBFA;\n",
              "      box-shadow: 0px 1px 2px rgba(60, 64, 67, 0.3), 0px 1px 3px 1px rgba(60, 64, 67, 0.15);\n",
              "      fill: #174EA6;\n",
              "    }\n",
              "\n",
              "    .colab-df-buttons div {\n",
              "      margin-bottom: 4px;\n",
              "    }\n",
              "\n",
              "    [theme=dark] .colab-df-convert {\n",
              "      background-color: #3B4455;\n",
              "      fill: #D2E3FC;\n",
              "    }\n",
              "\n",
              "    [theme=dark] .colab-df-convert:hover {\n",
              "      background-color: #434B5C;\n",
              "      box-shadow: 0px 1px 3px 1px rgba(0, 0, 0, 0.15);\n",
              "      filter: drop-shadow(0px 1px 2px rgba(0, 0, 0, 0.3));\n",
              "      fill: #FFFFFF;\n",
              "    }\n",
              "  </style>\n",
              "\n",
              "    <script>\n",
              "      const buttonEl =\n",
              "        document.querySelector('#df-0f4c37c4-d153-41fa-8ea4-4020a2a0bd2e button.colab-df-convert');\n",
              "      buttonEl.style.display =\n",
              "        google.colab.kernel.accessAllowed ? 'block' : 'none';\n",
              "\n",
              "      async function convertToInteractive(key) {\n",
              "        const element = document.querySelector('#df-0f4c37c4-d153-41fa-8ea4-4020a2a0bd2e');\n",
              "        const dataTable =\n",
              "          await google.colab.kernel.invokeFunction('convertToInteractive',\n",
              "                                                    [key], {});\n",
              "        if (!dataTable) return;\n",
              "\n",
              "        const docLinkHtml = 'Like what you see? Visit the ' +\n",
              "          '<a target=\"_blank\" href=https://colab.research.google.com/notebooks/data_table.ipynb>data table notebook</a>'\n",
              "          + ' to learn more about interactive tables.';\n",
              "        element.innerHTML = '';\n",
              "        dataTable['output_type'] = 'display_data';\n",
              "        await google.colab.output.renderOutput(dataTable, element);\n",
              "        const docLink = document.createElement('div');\n",
              "        docLink.innerHTML = docLinkHtml;\n",
              "        element.appendChild(docLink);\n",
              "      }\n",
              "    </script>\n",
              "  </div>\n",
              "\n",
              "\n",
              "<div id=\"df-b5f258a2-8de9-4c9c-bba5-482053a84010\">\n",
              "  <button class=\"colab-df-quickchart\" onclick=\"quickchart('df-b5f258a2-8de9-4c9c-bba5-482053a84010')\"\n",
              "            title=\"Suggest charts\"\n",
              "            style=\"display:none;\">\n",
              "\n",
              "<svg xmlns=\"http://www.w3.org/2000/svg\" height=\"24px\"viewBox=\"0 0 24 24\"\n",
              "     width=\"24px\">\n",
              "    <g>\n",
              "        <path d=\"M19 3H5c-1.1 0-2 .9-2 2v14c0 1.1.9 2 2 2h14c1.1 0 2-.9 2-2V5c0-1.1-.9-2-2-2zM9 17H7v-7h2v7zm4 0h-2V7h2v10zm4 0h-2v-4h2v4z\"/>\n",
              "    </g>\n",
              "</svg>\n",
              "  </button>\n",
              "\n",
              "<style>\n",
              "  .colab-df-quickchart {\n",
              "      --bg-color: #E8F0FE;\n",
              "      --fill-color: #1967D2;\n",
              "      --hover-bg-color: #E2EBFA;\n",
              "      --hover-fill-color: #174EA6;\n",
              "      --disabled-fill-color: #AAA;\n",
              "      --disabled-bg-color: #DDD;\n",
              "  }\n",
              "\n",
              "  [theme=dark] .colab-df-quickchart {\n",
              "      --bg-color: #3B4455;\n",
              "      --fill-color: #D2E3FC;\n",
              "      --hover-bg-color: #434B5C;\n",
              "      --hover-fill-color: #FFFFFF;\n",
              "      --disabled-bg-color: #3B4455;\n",
              "      --disabled-fill-color: #666;\n",
              "  }\n",
              "\n",
              "  .colab-df-quickchart {\n",
              "    background-color: var(--bg-color);\n",
              "    border: none;\n",
              "    border-radius: 50%;\n",
              "    cursor: pointer;\n",
              "    display: none;\n",
              "    fill: var(--fill-color);\n",
              "    height: 32px;\n",
              "    padding: 0;\n",
              "    width: 32px;\n",
              "  }\n",
              "\n",
              "  .colab-df-quickchart:hover {\n",
              "    background-color: var(--hover-bg-color);\n",
              "    box-shadow: 0 1px 2px rgba(60, 64, 67, 0.3), 0 1px 3px 1px rgba(60, 64, 67, 0.15);\n",
              "    fill: var(--button-hover-fill-color);\n",
              "  }\n",
              "\n",
              "  .colab-df-quickchart-complete:disabled,\n",
              "  .colab-df-quickchart-complete:disabled:hover {\n",
              "    background-color: var(--disabled-bg-color);\n",
              "    fill: var(--disabled-fill-color);\n",
              "    box-shadow: none;\n",
              "  }\n",
              "\n",
              "  .colab-df-spinner {\n",
              "    border: 2px solid var(--fill-color);\n",
              "    border-color: transparent;\n",
              "    border-bottom-color: var(--fill-color);\n",
              "    animation:\n",
              "      spin 1s steps(1) infinite;\n",
              "  }\n",
              "\n",
              "  @keyframes spin {\n",
              "    0% {\n",
              "      border-color: transparent;\n",
              "      border-bottom-color: var(--fill-color);\n",
              "      border-left-color: var(--fill-color);\n",
              "    }\n",
              "    20% {\n",
              "      border-color: transparent;\n",
              "      border-left-color: var(--fill-color);\n",
              "      border-top-color: var(--fill-color);\n",
              "    }\n",
              "    30% {\n",
              "      border-color: transparent;\n",
              "      border-left-color: var(--fill-color);\n",
              "      border-top-color: var(--fill-color);\n",
              "      border-right-color: var(--fill-color);\n",
              "    }\n",
              "    40% {\n",
              "      border-color: transparent;\n",
              "      border-right-color: var(--fill-color);\n",
              "      border-top-color: var(--fill-color);\n",
              "    }\n",
              "    60% {\n",
              "      border-color: transparent;\n",
              "      border-right-color: var(--fill-color);\n",
              "    }\n",
              "    80% {\n",
              "      border-color: transparent;\n",
              "      border-right-color: var(--fill-color);\n",
              "      border-bottom-color: var(--fill-color);\n",
              "    }\n",
              "    90% {\n",
              "      border-color: transparent;\n",
              "      border-bottom-color: var(--fill-color);\n",
              "    }\n",
              "  }\n",
              "</style>\n",
              "\n",
              "  <script>\n",
              "    async function quickchart(key) {\n",
              "      const quickchartButtonEl =\n",
              "        document.querySelector('#' + key + ' button');\n",
              "      quickchartButtonEl.disabled = true;  // To prevent multiple clicks.\n",
              "      quickchartButtonEl.classList.add('colab-df-spinner');\n",
              "      try {\n",
              "        const charts = await google.colab.kernel.invokeFunction(\n",
              "            'suggestCharts', [key], {});\n",
              "      } catch (error) {\n",
              "        console.error('Error during call to suggestCharts:', error);\n",
              "      }\n",
              "      quickchartButtonEl.classList.remove('colab-df-spinner');\n",
              "      quickchartButtonEl.classList.add('colab-df-quickchart-complete');\n",
              "    }\n",
              "    (() => {\n",
              "      let quickchartButtonEl =\n",
              "        document.querySelector('#df-b5f258a2-8de9-4c9c-bba5-482053a84010 button');\n",
              "      quickchartButtonEl.style.display =\n",
              "        google.colab.kernel.accessAllowed ? 'block' : 'none';\n",
              "    })();\n",
              "  </script>\n",
              "</div>\n",
              "\n",
              "    </div>\n",
              "  </div>\n"
            ],
            "application/vnd.google.colaboratory.intrinsic+json": {
              "type": "dataframe",
              "summary": "{\n  \"name\": \"wine[ [ 'density', 'pH', 'sulphates', 'alcohol' ] ]\",\n  \"rows\": 8,\n  \"fields\": [\n    {\n      \"column\": \"density\",\n      \"properties\": {\n        \"dtype\": \"number\",\n        \"std\": 1943.1795794371737,\n        \"min\": 0.003013884381425396,\n        \"max\": 5497.0,\n        \"num_unique_values\": 8,\n        \"samples\": [\n          0.994673352737857,\n          0.9948,\n          5497.0\n        ],\n        \"semantic_type\": \"\",\n        \"description\": \"\"\n      }\n    },\n    {\n      \"column\": \"pH\",\n      \"properties\": {\n        \"dtype\": \"number\",\n        \"std\": 1942.484777567163,\n        \"min\": 0.16071281482663669,\n        \"max\": 5497.0,\n        \"num_unique_values\": 8,\n        \"samples\": [\n          3.2195015462979804,\n          3.21,\n          5497.0\n        ],\n        \"semantic_type\": \"\",\n        \"description\": \"\"\n      }\n    },\n    {\n      \"column\": \"sulphates\",\n      \"properties\": {\n        \"dtype\": \"number\",\n        \"std\": 1943.2588243283712,\n        \"min\": 0.14939585462775093,\n        \"max\": 5497.0,\n        \"num_unique_values\": 8,\n        \"samples\": [\n          0.5305239221393487,\n          0.51,\n          5497.0\n        ],\n        \"semantic_type\": \"\",\n        \"description\": \"\"\n      }\n    },\n    {\n      \"column\": \"alcohol\",\n      \"properties\": {\n        \"dtype\": \"number\",\n        \"std\": 1940.1685377754436,\n        \"min\": 1.1945236523157814,\n        \"max\": 5497.0,\n        \"num_unique_values\": 8,\n        \"samples\": [\n          10.50491844036141,\n          10.3,\n          5497.0\n        ],\n        \"semantic_type\": \"\",\n        \"description\": \"\"\n      }\n    }\n  ]\n}"
            }
          },
          "metadata": {},
          "execution_count": 66
        }
      ]
    },
    {
      "cell_type": "markdown",
      "source": [
        "* 성분별 데이터 분포"
      ],
      "metadata": {
        "id": "V-Iboll8qlpA"
      }
    },
    {
      "cell_type": "code",
      "source": [
        "numerical_variable = list(set(wine.columns)-set(['type']))\n",
        "numerical_variable = np.sort(numerical_variable)\n",
        "\n",
        "print('수치형 변수 목록\\n')\n",
        "for string in numerical_variable:\n",
        "  print(f'{string}\\t')\n",
        "print(f'\\n{len(numerical_variable)}개')"
      ],
      "metadata": {
        "colab": {
          "base_uri": "https://localhost:8080/"
        },
        "id": "PSrIwRPPqnqw",
        "outputId": "5e776561-bcae-4805-df1d-fb12b24b2466"
      },
      "execution_count": 67,
      "outputs": [
        {
          "output_type": "stream",
          "name": "stdout",
          "text": [
            "수치형 변수 목록\n",
            "\n",
            "alcohol\t\n",
            "chlorides\t\n",
            "citric acid\t\n",
            "density\t\n",
            "fixed acidity\t\n",
            "free sulfur dioxide\t\n",
            "pH\t\n",
            "quality\t\n",
            "residual sugar\t\n",
            "sulphates\t\n",
            "total sulfur dioxide\t\n",
            "volatile acidity\t\n",
            "\n",
            "12개\n"
          ]
        }
      ]
    },
    {
      "cell_type": "code",
      "source": [
        "sns.set_style('whitegrid')\n",
        "\n",
        "plt.figure(figsize = (12,12))\n",
        "for i in range(1, len(numerical_variable)):\n",
        "  plt.subplot(3,4,i)\n",
        "  sns.distplot(wine.loc[:,numerical_variable[i-1]])\n",
        "plt.tight_layout()\n",
        "plt.show()"
      ],
      "metadata": {
        "colab": {
          "base_uri": "https://localhost:8080/",
          "height": 1000
        },
        "id": "wgSWp4rAtPpF",
        "outputId": "6e52ec2b-fc58-491a-ab16-4351767289ec"
      },
      "execution_count": 68,
      "outputs": [
        {
          "output_type": "display_data",
          "data": {
            "text/plain": [
              "<Figure size 1200x1200 with 11 Axes>"
            ],
            "image/png": "[encoded data removed]"
          },
          "metadata": {}
        }
      ]
    }
  ]
}