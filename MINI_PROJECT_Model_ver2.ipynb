{
  "nbformat": 4,
  "nbformat_minor": 0,
  "metadata": {
    "colab": {
      "provenance": [],
      "gpuType": "T4",
      "authorship_tag": "ABX9TyOwkio8LMp1i/7H1ZHP4sI5",
      "include_colab_link": true
    },
    "kernelspec": {
      "name": "python3",
      "display_name": "Python 3"
    },
    "language_info": {
      "name": "python"
    },
    "accelerator": "GPU"
  },
  "cells": [
    {
      "cell_type": "markdown",
      "metadata": {
        "id": "view-in-github",
        "colab_type": "text"
      },
      "source": [
        "<a href=\"https://colab.research.google.com/github/Superkid0714/DeepLearning/blob/main/MINI_PROJECT_Model_ver2.ipynb\" target=\"_parent\"><img src=\"https://colab.research.google.com/assets/colab-badge.svg\" alt=\"Open In Colab\"/></a>"
      ]
    },
    {
      "cell_type": "code",
      "metadata": {
        "id": "LUHqY_HCBXbe"
      },
      "source": [
        "# 배열\n",
        "import numpy as np\n",
        "\n",
        "# 데이터 분석\n",
        "import pandas as pd"
      ],
      "execution_count": null,
      "outputs": []
    },
    {
      "cell_type": "code",
      "source": [
        "# Pandas option 정의\n",
        "pd.set_option( 'display.max_columns', 20 )\n",
        "pd.set_option( 'display.max_colwidth', 20 )\n",
        "pd.set_option( 'display.unicode.east_asian_width', True )"
      ],
      "metadata": {
        "id": "ueW_zBbsC1Ec"
      },
      "execution_count": null,
      "outputs": []
    },
    {
      "cell_type": "code",
      "source": [
        "# 시각화\n",
        "import matplotlib.pyplot as plt\n",
        "import seaborn as sns"
      ],
      "metadata": {
        "id": "sigX2TCdC3w4"
      },
      "execution_count": null,
      "outputs": []
    },
    {
      "cell_type": "code",
      "source": [
        "# Jupyter note상에 그래프 결과 포함 매직 명령\n",
        "%matplotlib inline\n",
        "\n",
        "# Matplotlib 기본 글꼴 정의\n",
        "plt.rc('font', size=14)\n",
        "plt.rc('axes', labelsize=14, titlesize=14)\n",
        "plt.rc('legend', fontsize=14)\n",
        "plt.rc('xtick', labelsize=10)\n",
        "plt.rc('ytick', labelsize=10)"
      ],
      "metadata": {
        "id": "7eZSfSAWCttp"
      },
      "execution_count": null,
      "outputs": []
    },
    {
      "cell_type": "code",
      "source": [
        "import sys\n",
        "\n",
        "# 노트북이 코랩에서 실행 중인지 체크합니다.\n",
        "if 'google.colab' in sys.modules:\n",
        "    !echo 'debconf debconf/frontend select Noninteractive' | debconf-set-selections\n",
        "\n",
        "    # 나눔 폰트를 설치합니다.\n",
        "    !sudo apt-get -qq -y install fonts-nanum\n",
        "    import matplotlib.font_manager as fm\n",
        "    font_files = fm.findSystemFonts(fontpaths=['/usr/share/fonts/truetype/nanum'])\n",
        "    for fpath in font_files:\n",
        "        fm.fontManager.addfont(fpath)\n",
        "\n",
        "#     # 나눔바른고딕 폰트로 설정합니다.\n",
        "    import matplotlib.pyplot as plt\n",
        "    plt.rc('font', family='NanumBarunGothic')\n",
        "\n",
        "#     # 마이너스 기호 표시 오류 수정\n",
        "    import matplotlib\n",
        "    matplotlib.rcParams['axes.unicode_minus'] = False"
      ],
      "metadata": {
        "id": "KIgznkF5Dd4S"
      },
      "execution_count": null,
      "outputs": []
    },
    {
      "cell_type": "code",
      "source": [
        "# 경고 문제 출력 제한\n",
        "import warnings\n",
        "\n",
        "warnings.filterwarnings( 'ignore' )"
      ],
      "metadata": {
        "id": "7qgQpdtgCwHF"
      },
      "execution_count": null,
      "outputs": []
    },
    {
      "cell_type": "code",
      "source": [
        "# Tensorflow\n",
        "import tensorflow as tf\n",
        "\n",
        "tf.__version__"
      ],
      "metadata": {
        "colab": {
          "base_uri": "https://localhost:8080/",
          "height": 35
        },
        "id": "BwTdSE44NZAb",
        "outputId": "840e714f-a0b5-4ae8-938a-45be21583986"
      },
      "execution_count": null,
      "outputs": [
        {
          "output_type": "execute_result",
          "data": {
            "text/plain": [
              "'2.15.0'"
            ],
            "application/vnd.google.colaboratory.intrinsic+json": {
              "type": "string"
            }
          },
          "metadata": {},
          "execution_count": 20
        }
      ]
    },
    {
      "cell_type": "code",
      "metadata": {
        "id": "8BZ0m9oOgoqy"
      },
      "source": [
        "# Tensorflow Sequential model\n",
        "from tensorflow.keras.models import Sequential, Model\n",
        "from tensorflow.keras.layers import Dense, Input, Concatenate,LSTM\n",
        "from tensorflow.keras.layers import Flatten, Dropout, BatchNormalization\n",
        "from tensorflow.keras import optimizers\n",
        "\n",
        "from tensorflow.keras.utils import plot_model"
      ],
      "execution_count": null,
      "outputs": []
    },
    {
      "cell_type": "code",
      "source": [
        "# 데이터 분리를 위한 함수\n",
        "from sklearn.model_selection import train_test_split\n"
      ],
      "metadata": {
        "id": "Y06XKfwWVa-E"
      },
      "execution_count": null,
      "outputs": []
    },
    {
      "cell_type": "code",
      "execution_count": null,
      "metadata": {
        "id": "NeO7RXhad5EE"
      },
      "outputs": [],
      "source": [
        "def disp_training( history ):\n",
        "    accuracy = history.history[\"accuracy\"]\n",
        "    val_accuracy = history.history[\"val_accuracy\"]\n",
        "    loss = history.history[\"loss\"]\n",
        "    val_loss = history.history[\"val_loss\"]\n",
        "    epochs = range( 1, len( accuracy ) + 1 )\n",
        "\n",
        "    plt.title( '훈련 및 검증 정확도' )\n",
        "    plt.plot( epochs, history.history[ 'accuracy' ], label = 'accuracy' )\n",
        "    plt.plot( epochs, history.history[ 'val_accuracy' ], label = 'val_accuracy' )\n",
        "    plt.grid()\n",
        "    plt.legend()\n",
        "    plt.xlabel( 'Epochs' )\n",
        "\n",
        "    plt.figure()\n",
        "    plt.title( '훈련 및 검증 오차' )\n",
        "\n",
        "    plt.plot( epochs, history.history[ 'loss' ], label = 'loss' )\n",
        "    plt.plot( epochs, history.history[ 'val_loss' ], label = 'val_loss' )\n",
        "    plt.grid()\n",
        "    plt.legend()\n",
        "    plt.xlabel( 'Epochs' )\n",
        "\n",
        "    plt.show()"
      ]
    },
    {
      "cell_type": "code",
      "source": [
        "def disp_loss( history ):\n",
        "    loss = history.history[\"loss\"]\n",
        "    val_loss = history.history[\"val_loss\"]\n",
        "    epochs = range( 1, len( loss ) + 1 )\n",
        "\n",
        "    plt.title( '훈련 및 검증 오차' )\n",
        "\n",
        "    plt.plot( epochs, history.history[ 'loss' ], label = 'loss' )\n",
        "    plt.plot( epochs, history.history[ 'val_loss' ], label = 'val_loss' )\n",
        "    plt.grid()\n",
        "    plt.legend()\n",
        "    plt.xlabel( 'Epochs' )\n",
        "\n",
        "    plt.show()"
      ],
      "metadata": {
        "id": "vcabEL0r38QN"
      },
      "execution_count": null,
      "outputs": []
    },
    {
      "cell_type": "markdown",
      "source": [
        "# 모델 제작\n"
      ],
      "metadata": {
        "id": "ETiQJhYE8S_m"
      }
    },
    {
      "cell_type": "code",
      "source": [
        "from sklearn.preprocessing import MinMaxScaler # MinMaxScaler는 입력 데이터를 0과 1 사이의 범위로 변환"
      ],
      "metadata": {
        "id": "gRH-Epaq8Sr0"
      },
      "execution_count": null,
      "outputs": []
    },
    {
      "cell_type": "markdown",
      "source": [
        "\n",
        "### 데이터 가져오기\n",
        "\n",
        "\n"
      ],
      "metadata": {
        "id": "2slT2kAvUisU"
      }
    },
    {
      "cell_type": "code",
      "source": [
        "# 데이터 로드\n",
        "train_df = pd.read_csv('train.csv')\n",
        "test_df = pd.read_csv('test.csv')\n",
        "submission_df = pd.read_csv('sample_submission.csv')"
      ],
      "metadata": {
        "id": "3AySo9hS8rh7"
      },
      "execution_count": null,
      "outputs": []
    },
    {
      "cell_type": "markdown",
      "source": [
        "### 전처리 시작!!"
      ],
      "metadata": {
        "id": "6qGkI_R4Umq6"
      }
    },
    {
      "cell_type": "code",
      "source": [
        "# 날짜 형식 변환 및 정렬\n",
        "train_df['timestamp'] = pd.to_datetime(train_df['timestamp'])\n",
        "test_df['timestamp'] = pd.to_datetime(test_df['timestamp'])\n",
        "train_df = train_df.sort_values(by='timestamp') # LSTM 모델을 쓸건데 시간순서대로 있으면 잘 학습함 그래서 정렬\n",
        "test_df = test_df.sort_values(by='timestamp')"
      ],
      "metadata": {
        "id": "mkXj55wu8_Og"
      },
      "execution_count": null,
      "outputs": []
    },
    {
      "cell_type": "code",
      "source": [
        "# 결측치 처리\n",
        "train_df = train_df.dropna(subset=['supply(kg)', 'price(원/kg)'])  #dropna는 pandas에서 제공하는 결측치 제거 함수"
      ],
      "metadata": {
        "id": "y8WdB6H9Asuw"
      },
      "execution_count": null,
      "outputs": []
    },
    {
      "cell_type": "code",
      "source": [
        "# 공급량이 0인 행 제거\n",
        "train_df = train_df[train_df['supply(kg)'] > 0]"
      ],
      "metadata": {
        "id": "6QBbQvehAwX9"
      },
      "execution_count": null,
      "outputs": []
    },
    {
      "cell_type": "code",
      "source": [
        "# 필요 없는 열 제거 (ID 열 제거)\n",
        "train_df = train_df.drop(columns=['ID'])\n",
        "test_df = test_df.drop(columns=['ID'])"
      ],
      "metadata": {
        "id": "3dSfMI9jiA27"
      },
      "execution_count": null,
      "outputs": []
    },
    {
      "cell_type": "code",
      "source": [
        "# 시간 관련 피쳐 생성 (모델이 시간에 따른 주기적 패턴을 학습할 수 있도록)\n",
        "train_df['month'] = train_df['timestamp'].dt.month\n",
        "train_df['day'] = train_df['timestamp'].dt.day\n",
        "train_df['day_of_week'] = train_df['timestamp'].dt.dayofweek\n",
        "\n",
        "test_df['month'] = test_df['timestamp'].dt.month\n",
        "test_df['day'] = test_df['timestamp'].dt.day\n",
        "test_df['day_of_week'] = test_df['timestamp'].dt.dayofweek"
      ],
      "metadata": {
        "id": "L_NrXGq4W1bg"
      },
      "execution_count": null,
      "outputs": []
    },
    {
      "cell_type": "code",
      "source": [
        "# 범주형 데이터 인코딩\n",
        "train_df = pd.get_dummies(train_df, columns=['item', 'corporation', 'location'], drop_first=True)\n",
        "test_df = pd.get_dummies(test_df, columns=['item', 'corporation', 'location'], drop_first=True)"
      ],
      "metadata": {
        "id": "gmpabqATU162"
      },
      "execution_count": null,
      "outputs": []
    },
    {
      "cell_type": "code",
      "source": [
        "# train_df와 test_df의 열 맞추기\n",
        "missing_cols = set(train_df.columns) - set(test_df.columns)\n",
        "for c in missing_cols:\n",
        "    test_df[c] = 0\n",
        "test_df = test_df[train_df.columns.drop('price(원/kg)')]"
      ],
      "metadata": {
        "id": "OW2TxZfjr_UJ"
      },
      "execution_count": null,
      "outputs": []
    },
    {
      "cell_type": "code",
      "source": [
        "from sklearn.preprocessing import StandardScaler\n",
        "\n",
        "# 스케일링\n",
        "scaler_s = StandardScaler()\n",
        "scaler_p = StandardScaler()\n",
        "train_df['supply(kg)'] = scaler_s.fit_transform(train_df[['supply(kg)']])\n",
        "train_df['price(원/kg)'] = scaler_p.fit_transform(train_df[['price(원/kg)']])"
      ],
      "metadata": {
        "id": "sVy-Ud_TYWSU"
      },
      "execution_count": null,
      "outputs": []
    },
    {
      "cell_type": "code",
      "source": [
        "# 훈련 데이터와 테스트 데이터 분할\n",
        "train_data = train_df[train_df['timestamp'] < '2023-03-04']\n",
        "X = train_data.drop(['timestamp', 'price(원/kg)'], axis=1).values\n",
        "y = train_data['price(원/kg)'].values\n",
        "X_train, X_valid, y_train, y_valid = train_test_split(X, y, test_size=0.2, random_state=42)"
      ],
      "metadata": {
        "id": "5YkcTgmxZ5Pb"
      },
      "execution_count": null,
      "outputs": []
    },
    {
      "cell_type": "code",
      "source": [
        "# 테스트 데이터 분할\n",
        "X_test = test_df.drop(['timestamp'], axis=1).values"
      ],
      "metadata": {
        "id": "n0SB7bbwlU1J"
      },
      "execution_count": null,
      "outputs": []
    },
    {
      "cell_type": "code",
      "source": [
        "# 데이터 타입 변환\n",
        "X_train = X_train.astype(np.float32)\n",
        "y_train = y_train.astype(np.float32)\n",
        "X_valid = X_valid.astype(np.float32)\n",
        "y_valid = y_valid.astype(np.float32)\n",
        "X_test = X_test.astype(np.float32)"
      ],
      "metadata": {
        "id": "3zLcKHR3hiHP"
      },
      "execution_count": null,
      "outputs": []
    },
    {
      "cell_type": "code",
      "source": [
        "# 데이터 reshape (LSTM모델을 쓸건데 LSTM모델은 3차원만 입력받아요)\n",
        "X_train_reshaped = np.reshape(X_train, (X_train.shape[0], X_train.shape[1], 1))\n",
        "X_valid_reshaped = np.reshape(X_valid, (X_valid.shape[0], X_valid.shape[1], 1))\n",
        "X_test_reshaped = np.reshape(X_test, (X_test.shape[0], X_test.shape[1], 1))"
      ],
      "metadata": {
        "id": "01udnzRWcL8M"
      },
      "execution_count": null,
      "outputs": []
    },
    {
      "cell_type": "markdown",
      "source": [
        "### 모델링!!!"
      ],
      "metadata": {
        "id": "9tLX0PkGdxPi"
      }
    },
    {
      "cell_type": "code",
      "source": [
        "# LSTM 모델 구축\n",
        "model = Sequential()\n",
        "model.add(LSTM(50, return_sequences=True, input_shape=(X_train.shape[1], 1)))\n",
        "model.add(Dropout(0.2))\n",
        "model.add(LSTM(50, return_sequences=True))\n",
        "model.add(Dropout(0.2))\n",
        "model.add(LSTM(50, return_sequences=True))\n",
        "model.add(Dropout(0.2))\n",
        "model.add(LSTM(50, return_sequences=False))\n",
        "model.add(Dropout(0.2))\n",
        "model.add(Dense(50, activation='relu'))\n",
        "model.add(Dense(25, activation='relu'))\n",
        "model.add(Dense(1))"
      ],
      "metadata": {
        "id": "jaUlFJrHdrVS"
      },
      "execution_count": null,
      "outputs": []
    },
    {
      "cell_type": "code",
      "source": [
        "model.summary()"
      ],
      "metadata": {
        "colab": {
          "base_uri": "https://localhost:8080/"
        },
        "id": "LWv7tVqUemCq",
        "outputId": "30159eaa-5994-47e7-aa82-2ad4de6f275b"
      },
      "execution_count": null,
      "outputs": [
        {
          "output_type": "stream",
          "name": "stdout",
          "text": [
            "Model: \"sequential\"\n",
            "_________________________________________________________________\n",
            " Layer (type)                Output Shape              Param #   \n",
            "=================================================================\n",
            " lstm (LSTM)                 (None, 14, 50)            10400     \n",
            "                                                                 \n",
            " dropout (Dropout)           (None, 14, 50)            0         \n",
            "                                                                 \n",
            " lstm_1 (LSTM)               (None, 14, 50)            20200     \n",
            "                                                                 \n",
            " dropout_1 (Dropout)         (None, 14, 50)            0         \n",
            "                                                                 \n",
            " lstm_2 (LSTM)               (None, 14, 50)            20200     \n",
            "                                                                 \n",
            " dropout_2 (Dropout)         (None, 14, 50)            0         \n",
            "                                                                 \n",
            " lstm_3 (LSTM)               (None, 50)                20200     \n",
            "                                                                 \n",
            " dropout_3 (Dropout)         (None, 50)                0         \n",
            "                                                                 \n",
            " dense (Dense)               (None, 50)                2550      \n",
            "                                                                 \n",
            " dense_1 (Dense)             (None, 25)                1275      \n",
            "                                                                 \n",
            " dense_2 (Dense)             (None, 1)                 26        \n",
            "                                                                 \n",
            "=================================================================\n",
            "Total params: 74851 (292.39 KB)\n",
            "Trainable params: 74851 (292.39 KB)\n",
            "Non-trainable params: 0 (0.00 Byte)\n",
            "_________________________________________________________________\n"
          ]
        }
      ]
    },
    {
      "cell_type": "code",
      "source": [
        "model.compile(optimizer='adam', loss='mean_squared_error',metrics = ['mean_absolute_error'])"
      ],
      "metadata": {
        "id": "9XlDts2JgHAw"
      },
      "execution_count": null,
      "outputs": []
    },
    {
      "cell_type": "code",
      "source": [
        "# 모델 학습\n",
        "history = model.fit(X_train_reshaped, y_train, validation_data=(X_valid_reshaped, y_valid), batch_size=32, epochs=50)"
      ],
      "metadata": {
        "colab": {
          "base_uri": "https://localhost:8080/"
        },
        "id": "LmSUjr1Sgu8v",
        "outputId": "82d1e279-ff80-4cc0-e5bf-2c0c53974cd7"
      },
      "execution_count": null,
      "outputs": [
        {
          "output_type": "stream",
          "name": "stdout",
          "text": [
            "Epoch 1/50\n",
            "599/599 [==============================] - 41s 36ms/step - loss: 0.9520 - mean_absolute_error: 0.7819 - val_loss: 0.5277 - val_mean_absolute_error: 0.5402\n",
            "Epoch 2/50\n",
            "599/599 [==============================] - 22s 36ms/step - loss: 0.3251 - mean_absolute_error: 0.4111 - val_loss: 0.2858 - val_mean_absolute_error: 0.4029\n",
            "Epoch 3/50\n",
            "599/599 [==============================] - 19s 32ms/step - loss: 0.2301 - mean_absolute_error: 0.3381 - val_loss: 0.2180 - val_mean_absolute_error: 0.3275\n",
            "Epoch 4/50\n",
            "599/599 [==============================] - 20s 34ms/step - loss: 0.2111 - mean_absolute_error: 0.3165 - val_loss: 0.2100 - val_mean_absolute_error: 0.3171\n",
            "Epoch 5/50\n",
            "599/599 [==============================] - 19s 32ms/step - loss: 0.1992 - mean_absolute_error: 0.3036 - val_loss: 0.1922 - val_mean_absolute_error: 0.2978\n",
            "Epoch 6/50\n",
            "599/599 [==============================] - 21s 35ms/step - loss: 0.1942 - mean_absolute_error: 0.2965 - val_loss: 0.1879 - val_mean_absolute_error: 0.3135\n",
            "Epoch 7/50\n",
            "599/599 [==============================] - 20s 34ms/step - loss: 0.1864 - mean_absolute_error: 0.2894 - val_loss: 0.1760 - val_mean_absolute_error: 0.2800\n",
            "Epoch 8/50\n",
            "599/599 [==============================] - 21s 34ms/step - loss: 0.1781 - mean_absolute_error: 0.2812 - val_loss: 0.2074 - val_mean_absolute_error: 0.3011\n",
            "Epoch 9/50\n",
            "599/599 [==============================] - 21s 34ms/step - loss: 0.1802 - mean_absolute_error: 0.2805 - val_loss: 0.1696 - val_mean_absolute_error: 0.2769\n",
            "Epoch 10/50\n",
            "599/599 [==============================] - 21s 34ms/step - loss: 0.1702 - mean_absolute_error: 0.2726 - val_loss: 0.1621 - val_mean_absolute_error: 0.2668\n",
            "Epoch 11/50\n",
            "599/599 [==============================] - 20s 33ms/step - loss: 0.1638 - mean_absolute_error: 0.2664 - val_loss: 0.1646 - val_mean_absolute_error: 0.2712\n",
            "Epoch 12/50\n",
            "599/599 [==============================] - 21s 34ms/step - loss: 0.1603 - mean_absolute_error: 0.2631 - val_loss: 0.1540 - val_mean_absolute_error: 0.2699\n",
            "Epoch 13/50\n",
            "599/599 [==============================] - 19s 32ms/step - loss: 0.1550 - mean_absolute_error: 0.2589 - val_loss: 0.1634 - val_mean_absolute_error: 0.2757\n",
            "Epoch 14/50\n",
            "599/599 [==============================] - 22s 37ms/step - loss: 0.1528 - mean_absolute_error: 0.2579 - val_loss: 0.1468 - val_mean_absolute_error: 0.2622\n",
            "Epoch 15/50\n",
            "599/599 [==============================] - 19s 32ms/step - loss: 0.1495 - mean_absolute_error: 0.2541 - val_loss: 0.1585 - val_mean_absolute_error: 0.2755\n",
            "Epoch 16/50\n",
            "599/599 [==============================] - 22s 37ms/step - loss: 0.1444 - mean_absolute_error: 0.2502 - val_loss: 0.1528 - val_mean_absolute_error: 0.2635\n",
            "Epoch 17/50\n",
            "599/599 [==============================] - 19s 32ms/step - loss: 0.1480 - mean_absolute_error: 0.2523 - val_loss: 0.1646 - val_mean_absolute_error: 0.2779\n",
            "Epoch 18/50\n",
            "599/599 [==============================] - 23s 39ms/step - loss: 0.1452 - mean_absolute_error: 0.2501 - val_loss: 0.1422 - val_mean_absolute_error: 0.2553\n",
            "Epoch 19/50\n",
            "599/599 [==============================] - 19s 32ms/step - loss: 0.1421 - mean_absolute_error: 0.2471 - val_loss: 0.1419 - val_mean_absolute_error: 0.2539\n",
            "Epoch 20/50\n",
            "599/599 [==============================] - 20s 34ms/step - loss: 0.1451 - mean_absolute_error: 0.2497 - val_loss: 0.1451 - val_mean_absolute_error: 0.2507\n",
            "Epoch 21/50\n",
            "599/599 [==============================] - 21s 35ms/step - loss: 0.1400 - mean_absolute_error: 0.2442 - val_loss: 0.1438 - val_mean_absolute_error: 0.2533\n",
            "Epoch 22/50\n",
            "599/599 [==============================] - 20s 34ms/step - loss: 0.1385 - mean_absolute_error: 0.2430 - val_loss: 0.1464 - val_mean_absolute_error: 0.2592\n",
            "Epoch 23/50\n",
            "599/599 [==============================] - 21s 35ms/step - loss: 0.1389 - mean_absolute_error: 0.2426 - val_loss: 0.1414 - val_mean_absolute_error: 0.2614\n",
            "Epoch 24/50\n",
            "599/599 [==============================] - 20s 34ms/step - loss: 0.1374 - mean_absolute_error: 0.2416 - val_loss: 0.1584 - val_mean_absolute_error: 0.2757\n",
            "Epoch 25/50\n",
            "599/599 [==============================] - 19s 32ms/step - loss: 0.1365 - mean_absolute_error: 0.2410 - val_loss: 0.1460 - val_mean_absolute_error: 0.2624\n",
            "Epoch 26/50\n",
            "599/599 [==============================] - 20s 34ms/step - loss: 0.1415 - mean_absolute_error: 0.2441 - val_loss: 0.1541 - val_mean_absolute_error: 0.2707\n",
            "Epoch 27/50\n",
            "599/599 [==============================] - 21s 35ms/step - loss: 0.1366 - mean_absolute_error: 0.2394 - val_loss: 0.1407 - val_mean_absolute_error: 0.2523\n",
            "Epoch 28/50\n",
            "599/599 [==============================] - 21s 35ms/step - loss: 0.1345 - mean_absolute_error: 0.2380 - val_loss: 0.1424 - val_mean_absolute_error: 0.2644\n",
            "Epoch 29/50\n",
            "599/599 [==============================] - 21s 35ms/step - loss: 0.1346 - mean_absolute_error: 0.2387 - val_loss: 0.1414 - val_mean_absolute_error: 0.2546\n",
            "Epoch 30/50\n",
            "599/599 [==============================] - 21s 35ms/step - loss: 0.1346 - mean_absolute_error: 0.2386 - val_loss: 0.1387 - val_mean_absolute_error: 0.2520\n",
            "Epoch 31/50\n",
            "599/599 [==============================] - 21s 35ms/step - loss: 0.1320 - mean_absolute_error: 0.2372 - val_loss: 0.1393 - val_mean_absolute_error: 0.2563\n",
            "Epoch 32/50\n",
            "599/599 [==============================] - 19s 32ms/step - loss: 0.1324 - mean_absolute_error: 0.2373 - val_loss: 0.1371 - val_mean_absolute_error: 0.2488\n",
            "Epoch 33/50\n",
            "599/599 [==============================] - 21s 35ms/step - loss: 0.1311 - mean_absolute_error: 0.2358 - val_loss: 0.1440 - val_mean_absolute_error: 0.2588\n",
            "Epoch 34/50\n",
            "599/599 [==============================] - 20s 33ms/step - loss: 0.1324 - mean_absolute_error: 0.2362 - val_loss: 0.1408 - val_mean_absolute_error: 0.2548\n",
            "Epoch 35/50\n",
            "599/599 [==============================] - 22s 36ms/step - loss: 0.1335 - mean_absolute_error: 0.2370 - val_loss: 0.1401 - val_mean_absolute_error: 0.2551\n",
            "Epoch 36/50\n",
            "599/599 [==============================] - 19s 32ms/step - loss: 0.1329 - mean_absolute_error: 0.2357 - val_loss: 0.1368 - val_mean_absolute_error: 0.2445\n",
            "Epoch 37/50\n",
            "599/599 [==============================] - 22s 37ms/step - loss: 0.1307 - mean_absolute_error: 0.2343 - val_loss: 0.1472 - val_mean_absolute_error: 0.2580\n",
            "Epoch 38/50\n",
            "599/599 [==============================] - 21s 35ms/step - loss: 0.1303 - mean_absolute_error: 0.2340 - val_loss: 0.1441 - val_mean_absolute_error: 0.2641\n",
            "Epoch 39/50\n",
            "599/599 [==============================] - 19s 32ms/step - loss: 0.1304 - mean_absolute_error: 0.2344 - val_loss: 0.1412 - val_mean_absolute_error: 0.2617\n",
            "Epoch 40/50\n",
            "599/599 [==============================] - 20s 34ms/step - loss: 0.1299 - mean_absolute_error: 0.2340 - val_loss: 0.1400 - val_mean_absolute_error: 0.2618\n",
            "Epoch 41/50\n",
            "599/599 [==============================] - 20s 33ms/step - loss: 0.1282 - mean_absolute_error: 0.2322 - val_loss: 0.1403 - val_mean_absolute_error: 0.2541\n",
            "Epoch 42/50\n",
            "599/599 [==============================] - 23s 38ms/step - loss: 0.1283 - mean_absolute_error: 0.2324 - val_loss: 0.1374 - val_mean_absolute_error: 0.2491\n",
            "Epoch 43/50\n",
            "599/599 [==============================] - 20s 33ms/step - loss: 0.1293 - mean_absolute_error: 0.2336 - val_loss: 0.1497 - val_mean_absolute_error: 0.2607\n",
            "Epoch 44/50\n",
            "599/599 [==============================] - 23s 38ms/step - loss: 0.1282 - mean_absolute_error: 0.2320 - val_loss: 0.1392 - val_mean_absolute_error: 0.2555\n",
            "Epoch 45/50\n",
            "599/599 [==============================] - 20s 34ms/step - loss: 0.1265 - mean_absolute_error: 0.2307 - val_loss: 0.1431 - val_mean_absolute_error: 0.2544\n",
            "Epoch 46/50\n",
            "599/599 [==============================] - 20s 34ms/step - loss: 0.1268 - mean_absolute_error: 0.2302 - val_loss: 0.1489 - val_mean_absolute_error: 0.2762\n",
            "Epoch 47/50\n",
            "599/599 [==============================] - 20s 34ms/step - loss: 0.1271 - mean_absolute_error: 0.2309 - val_loss: 0.1357 - val_mean_absolute_error: 0.2503\n",
            "Epoch 48/50\n",
            "599/599 [==============================] - 20s 34ms/step - loss: 0.1281 - mean_absolute_error: 0.2311 - val_loss: 0.1313 - val_mean_absolute_error: 0.2381\n",
            "Epoch 49/50\n",
            "599/599 [==============================] - 22s 37ms/step - loss: 0.1261 - mean_absolute_error: 0.2309 - val_loss: 0.1518 - val_mean_absolute_error: 0.2678\n",
            "Epoch 50/50\n",
            "599/599 [==============================] - 19s 32ms/step - loss: 0.1404 - mean_absolute_error: 0.2392 - val_loss: 0.1394 - val_mean_absolute_error: 0.2646\n"
          ]
        }
      ]
    },
    {
      "cell_type": "markdown",
      "source": [
        "### 평가하자"
      ],
      "metadata": {
        "id": "VoZbmCm6quDq"
      }
    },
    {
      "cell_type": "code",
      "source": [
        "# 훈련 및 검증 과정 중의 MSE 값 확인\n",
        "train_mse = history.history['loss']\n",
        "valid_mse = history.history['val_loss']\n",
        "train_mae = history.history['mean_absolute_error']\n",
        "valid_mae = history.history['val_mean_absolute_error']"
      ],
      "metadata": {
        "id": "h2fr5n4ScDyM"
      },
      "execution_count": null,
      "outputs": []
    },
    {
      "cell_type": "code",
      "source": [
        "# MSE 시각화\n",
        "plt.plot(train_mse, label='Train MSE')\n",
        "plt.plot(valid_mse, label='Validation MSE')\n",
        "plt.xlabel('Epoch')\n",
        "plt.ylabel('Mean Squared Error (MSE)')\n",
        "plt.title('Training and Validation Mean Squared Error (MSE)')\n",
        "plt.legend()"
      ],
      "metadata": {
        "colab": {
          "base_uri": "https://localhost:8080/",
          "height": 497
        },
        "id": "241H0zugb9fu",
        "outputId": "1f217c28-1f6a-46a0-c205-9caf9f0b63e8"
      },
      "execution_count": null,
      "outputs": [
        {
          "output_type": "execute_result",
          "data": {
            "text/plain": [
              "<matplotlib.legend.Legend at 0x7cdd97565c90>"
            ]
          },
          "metadata": {},
          "execution_count": 53
        },
        {
          "output_type": "display_data",
          "data": {
            "text/plain": [
              "<Figure size 640x480 with 1 Axes>"
            ],
            "image/png": "[encoded data removed]"
          },
          "metadata": {}
        }
      ]
    },
    {
      "cell_type": "code",
      "source": [
        "# MAE 시각화\n",
        "plt.plot(train_mae, label='Train MAE')\n",
        "plt.plot(valid_mae, label='Validation MAE')\n",
        "plt.xlabel('Epoch')\n",
        "plt.ylabel('Mean Absolute Error (MAE)')\n",
        "plt.title('Training Mean Absolute Error (MAE)')\n",
        "plt.legend()"
      ],
      "metadata": {
        "colab": {
          "base_uri": "https://localhost:8080/",
          "height": 497
        },
        "id": "0GR4D_wTshQh",
        "outputId": "48eba52e-7a53-406d-93a1-93066705e6f3"
      },
      "execution_count": null,
      "outputs": [
        {
          "output_type": "execute_result",
          "data": {
            "text/plain": [
              "<matplotlib.legend.Legend at 0x7cdd97454df0>"
            ]
          },
          "metadata": {},
          "execution_count": 62
        },
        {
          "output_type": "display_data",
          "data": {
            "text/plain": [
              "<Figure size 640x480 with 1 Axes>"
            ],
            "image/png": "[encoded data removed]"
          },
          "metadata": {}
        }
      ]
    },
    {
      "cell_type": "code",
      "source": [
        "# 마지막 에포크의 MSE 값 출력\n",
        "print(\"Final Mean Squared Error (MSE):\", train_mse[-1])\n",
        "print(\"Final Mean Absolute Error (MAE):\", train_mae[-1])"
      ],
      "metadata": {
        "colab": {
          "base_uri": "https://localhost:8080/"
        },
        "id": "Clve_4cSPV51",
        "outputId": "eff5c801-8570-47a4-8e26-bedc4b0096e8"
      },
      "execution_count": null,
      "outputs": [
        {
          "output_type": "stream",
          "name": "stdout",
          "text": [
            "Final Mean Squared Error (MSE): 0.1403616964817047\n",
            "Final Mean Absolute Error (MAE): 0.23920272290706635\n"
          ]
        }
      ]
    },
    {
      "cell_type": "code",
      "source": [
        "# 평가 함수 사용\n",
        "mse, mae = model.evaluate(X_train_reshaped, y_train)\n",
        "print(\"Mean Squared Error (MSE) on training data:\", mse)\n",
        "print(\"Mean Absolute Error (MAE) on training data:\", mae)\n"
      ],
      "metadata": {
        "colab": {
          "base_uri": "https://localhost:8080/"
        },
        "id": "6YSVIoc0PbyI",
        "outputId": "b8078ad2-af4e-4976-b17b-275a61062333"
      },
      "execution_count": null,
      "outputs": [
        {
          "output_type": "stream",
          "name": "stdout",
          "text": [
            "599/599 [==============================] - 13s 22ms/step - loss: 0.1276 - mean_absolute_error: 0.2548\n",
            "Mean Squared Error (MSE) on training data: 0.12760142982006073\n",
            "Mean Absolute Error (MAE) on training data: 0.2548064887523651\n"
          ]
        }
      ]
    },
    {
      "cell_type": "code",
      "source": [
        "# 예측\n",
        "predictions = model.predict(X_test_reshaped)\n"
      ],
      "metadata": {
        "colab": {
          "base_uri": "https://localhost:8080/"
        },
        "id": "8EBZeXE2PfWr",
        "outputId": "a6d86162-28bb-4b44-e9d4-08877e92a8c2"
      },
      "execution_count": null,
      "outputs": [
        {
          "output_type": "stream",
          "name": "stdout",
          "text": [
            "35/35 [==============================] - 1s 19ms/step\n"
          ]
        }
      ]
    },
    {
      "cell_type": "code",
      "source": [
        "# 예측 값 역변환 (inverse_transform)\n",
        "predictions = scaler_p.inverse_transform(predictions)"
      ],
      "metadata": {
        "id": "1n-wYt60Pks3"
      },
      "execution_count": null,
      "outputs": []
    },
    {
      "cell_type": "code",
      "source": [
        "# 예측 결과 저장\n",
        "submission_df['answer'] = predictions\n",
        "submission_df.to_csv('submission.csv', index=False)"
      ],
      "metadata": {
        "id": "tKRVrITPsONK"
      },
      "execution_count": null,
      "outputs": []
    },
    {
      "cell_type": "code",
      "source": [
        "# 저장된 파일 읽기\n",
        "submission_df = pd.read_csv('submission.csv')"
      ],
      "metadata": {
        "id": "7yPx04WsUTRq"
      },
      "execution_count": null,
      "outputs": []
    },
    {
      "cell_type": "code",
      "source": [
        "from google.colab import files\n",
        "\n",
        "# 파일 다운로드\n",
        "files.download('submission.csv')"
      ],
      "metadata": {
        "colab": {
          "base_uri": "https://localhost:8080/",
          "height": 17
        },
        "id": "OzOk8ag8UZpU",
        "outputId": "6634df55-c2ec-4d6d-c485-47bf90ba2355"
      },
      "execution_count": null,
      "outputs": [
        {
          "output_type": "display_data",
          "data": {
            "text/plain": [
              "<IPython.core.display.Javascript object>"
            ],
            "application/javascript": [
              "\n",
              "    async function download(id, filename, size) {\n",
              "      if (!google.colab.kernel.accessAllowed) {\n",
              "        return;\n",
              "      }\n",
              "      const div = document.createElement('div');\n",
              "      const label = document.createElement('label');\n",
              "      label.textContent = `Downloading \"${filename}\": `;\n",
              "      div.appendChild(label);\n",
              "      const progress = document.createElement('progress');\n",
              "      progress.max = size;\n",
              "      div.appendChild(progress);\n",
              "      document.body.appendChild(div);\n",
              "\n",
              "      const buffers = [];\n",
              "      let downloaded = 0;\n",
              "\n",
              "      const channel = await google.colab.kernel.comms.open(id);\n",
              "      // Send a message to notify the kernel that we're ready.\n",
              "      channel.send({})\n",
              "\n",
              "      for await (const message of channel.messages) {\n",
              "        // Send a message to notify the kernel that we're ready.\n",
              "        channel.send({})\n",
              "        if (message.buffers) {\n",
              "          for (const buffer of message.buffers) {\n",
              "            buffers.push(buffer);\n",
              "            downloaded += buffer.byteLength;\n",
              "            progress.value = downloaded;\n",
              "          }\n",
              "        }\n",
              "      }\n",
              "      const blob = new Blob(buffers, {type: 'application/binary'});\n",
              "      const a = document.createElement('a');\n",
              "      a.href = window.URL.createObjectURL(blob);\n",
              "      a.download = filename;\n",
              "      div.appendChild(a);\n",
              "      a.click();\n",
              "      div.remove();\n",
              "    }\n",
              "  "
            ]
          },
          "metadata": {}
        },
        {
          "output_type": "display_data",
          "data": {
            "text/plain": [
              "<IPython.core.display.Javascript object>"
            ],
            "application/javascript": [
              "download(\"download_2b4ef5bb-9e8d-4702-8dd5-156d3ca6fe06\", \"submission.csv\", 28029)"
            ]
          },
          "metadata": {}
        }
      ]
    }
  ]
}