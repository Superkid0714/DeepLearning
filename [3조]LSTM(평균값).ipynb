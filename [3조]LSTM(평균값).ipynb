{
  "cells": [
    {
      "cell_type": "code",
      "execution_count": null,
      "metadata": {
        "id": "LUHqY_HCBXbe"
      },
      "outputs": [],
      "source": [
        "# 배열\n",
        "import numpy as np\n",
        "\n",
        "# 데이터 분석\n",
        "import pandas as pd"
      ]
    },
    {
      "cell_type": "code",
      "execution_count": null,
      "metadata": {
        "id": "ueW_zBbsC1Ec"
      },
      "outputs": [],
      "source": [
        "# Pandas option 정의\n",
        "pd.set_option( 'display.max_columns', 20 )\n",
        "pd.set_option( 'display.max_colwidth', 20 )\n",
        "pd.set_option( 'display.unicode.east_asian_width', True )"
      ]
    },
    {
      "cell_type": "code",
      "execution_count": null,
      "metadata": {
        "id": "sigX2TCdC3w4"
      },
      "outputs": [],
      "source": [
        "# 시각화\n",
        "import matplotlib.pyplot as plt\n",
        "import seaborn as sns"
      ]
    },
    {
      "cell_type": "code",
      "execution_count": null,
      "metadata": {
        "id": "7eZSfSAWCttp"
      },
      "outputs": [],
      "source": [
        "# Jupyter note상에 그래프 결과 포함 매직 명령\n",
        "%matplotlib inline\n",
        "\n",
        "# Matplotlib 기본 글꼴 정의\n",
        "plt.rc('font', size=14)\n",
        "plt.rc('axes', labelsize=14, titlesize=14)\n",
        "plt.rc('legend', fontsize=14)\n",
        "plt.rc('xtick', labelsize=10)\n",
        "plt.rc('ytick', labelsize=10)"
      ]
    },
    {
      "cell_type": "code",
      "execution_count": null,
      "metadata": {
        "id": "KIgznkF5Dd4S",
        "colab": {
          "base_uri": "https://localhost:8080/"
        },
        "outputId": "0f27ae5f-b1a6-4cdf-c135-fea9d0eac5d0"
      },
      "outputs": [
        {
          "output_type": "stream",
          "name": "stdout",
          "text": [
            "Selecting previously unselected package fonts-nanum.\n",
            "(Reading database ... 123586 files and directories currently installed.)\n",
            "Preparing to unpack .../fonts-nanum_20200506-1_all.deb ...\n",
            "Unpacking fonts-nanum (20200506-1) ...\n",
            "Setting up fonts-nanum (20200506-1) ...\n",
            "Processing triggers for fontconfig (2.13.1-4.2ubuntu5) ...\n"
          ]
        }
      ],
      "source": [
        "import sys\n",
        "\n",
        "# 노트북이 코랩에서 실행 중인지 체크합니다.\n",
        "if 'google.colab' in sys.modules:\n",
        "    !echo 'debconf debconf/frontend select Noninteractive' | debconf-set-selections\n",
        "\n",
        "    # 나눔 폰트를 설치합니다.\n",
        "    !sudo apt-get -qq -y install fonts-nanum\n",
        "    import matplotlib.font_manager as fm\n",
        "    font_files = fm.findSystemFonts(fontpaths=['/usr/share/fonts/truetype/nanum'])\n",
        "    for fpath in font_files:\n",
        "        fm.fontManager.addfont(fpath)\n",
        "\n",
        "#     # 나눔바른고딕 폰트로 설정합니다.\n",
        "    import matplotlib.pyplot as plt\n",
        "    plt.rc('font', family='NanumBarunGothic')\n",
        "\n",
        "#     # 마이너스 기호 표시 오류 수정\n",
        "    import matplotlib\n",
        "    matplotlib.rcParams['axes.unicode_minus'] = False"
      ]
    },
    {
      "cell_type": "code",
      "execution_count": null,
      "metadata": {
        "id": "7qgQpdtgCwHF"
      },
      "outputs": [],
      "source": [
        "# 경고 문제 출력 제한\n",
        "import warnings\n",
        "\n",
        "warnings.filterwarnings( 'ignore' )"
      ]
    },
    {
      "cell_type": "code",
      "execution_count": null,
      "metadata": {
        "colab": {
          "base_uri": "https://localhost:8080/",
          "height": 35
        },
        "id": "BwTdSE44NZAb",
        "outputId": "35755be9-3f64-4828-ed20-2f7d3a6ac9c5"
      },
      "outputs": [
        {
          "output_type": "execute_result",
          "data": {
            "text/plain": [
              "'2.15.0'"
            ],
            "application/vnd.google.colaboratory.intrinsic+json": {
              "type": "string"
            }
          },
          "metadata": {},
          "execution_count": 7
        }
      ],
      "source": [
        "# Tensorflow\n",
        "import tensorflow as tf\n",
        "\n",
        "tf.__version__"
      ]
    },
    {
      "cell_type": "code",
      "execution_count": null,
      "metadata": {
        "id": "8BZ0m9oOgoqy"
      },
      "outputs": [],
      "source": [
        "# Tensorflow Sequential model\n",
        "from tensorflow.keras.models import Sequential, Model\n",
        "from tensorflow.keras.layers import Dense, Input, Concatenate\n",
        "from tensorflow.keras.layers import Flatten, Dropout, BatchNormalization\n",
        "from tensorflow.keras.layers import Conv2D, MaxPooling2D, Conv2DTranspose\n",
        "from tensorflow.keras.layers import Rescaling\n",
        "from tensorflow.keras.layers import SimpleRNN, LSTM, Bidirectional, GRU\n",
        "\n",
        "from tensorflow.keras import optimizers, regularizers\n",
        "\n",
        "from tensorflow.keras.callbacks import EarlyStopping, ModelCheckpoint, TensorBoard\n",
        "\n",
        "from tensorflow.keras.utils import plot_model"
      ]
    },
    {
      "cell_type": "code",
      "execution_count": null,
      "metadata": {
        "id": "Y06XKfwWVa-E"
      },
      "outputs": [],
      "source": [
        "# 데이터 분리를 위한 함수\n",
        "from sklearn.model_selection import train_test_split"
      ]
    },
    {
      "cell_type": "code",
      "execution_count": null,
      "metadata": {
        "id": "NeO7RXhad5EE"
      },
      "outputs": [],
      "source": [
        "def disp_training( history ):\n",
        "    accuracy = history.history[\"accuracy\"]\n",
        "    val_accuracy = history.history[\"val_accuracy\"]\n",
        "    loss = history.history[\"loss\"]\n",
        "    val_loss = history.history[\"val_loss\"]\n",
        "    epochs = range( 1, len( accuracy ) + 1 )\n",
        "\n",
        "    plt.title( '훈련 및 검증 정확도' )\n",
        "    plt.plot( epochs, history.history[ 'accuracy' ], label = 'accuracy' )\n",
        "    plt.plot( epochs, history.history[ 'val_accuracy' ], label = 'val_accuracy' )\n",
        "    plt.grid()\n",
        "    plt.legend()\n",
        "    plt.xlabel( 'Epochs' )\n",
        "\n",
        "    plt.figure()\n",
        "    plt.title( '훈련 및 검증 오차' )\n",
        "\n",
        "    plt.plot( epochs, history.history[ 'loss' ], label = 'loss' )\n",
        "    plt.plot( epochs, history.history[ 'val_loss' ], label = 'val_loss' )\n",
        "    plt.grid()\n",
        "    plt.legend()\n",
        "    plt.xlabel( 'Epochs' )\n",
        "\n",
        "    plt.show()"
      ]
    },
    {
      "cell_type": "code",
      "execution_count": null,
      "metadata": {
        "id": "vcabEL0r38QN"
      },
      "outputs": [],
      "source": [
        "def disp_loss( history ):\n",
        "    loss = history.history[\"loss\"]\n",
        "    val_loss = history.history[\"val_loss\"]\n",
        "    epochs = range( 1, len( loss ) + 1 )\n",
        "\n",
        "    plt.title( '훈련 및 검증 오차' )\n",
        "\n",
        "    plt.plot( epochs, history.history[ 'loss' ], label = 'loss' )\n",
        "    plt.plot( epochs, history.history[ 'val_loss' ], label = 'val_loss' )\n",
        "    plt.grid()\n",
        "    plt.legend()\n",
        "    plt.xlabel( 'Epochs' )\n",
        "\n",
        "    plt.show()"
      ]
    },
    {
      "cell_type": "code",
      "source": [
        "from sklearn.preprocessing import MinMaxScaler # MinMaxScaler는 입력 데이터를 0과 1 사이의 범위로 변환"
      ],
      "metadata": {
        "id": "gRH-Epaq8Sr0"
      },
      "execution_count": null,
      "outputs": []
    },
    {
      "cell_type": "markdown",
      "source": [
        "\n",
        "### 데이터 가져오기\n",
        "\n",
        "\n"
      ],
      "metadata": {
        "id": "2slT2kAvUisU"
      }
    },
    {
      "cell_type": "code",
      "source": [
        "# 데이터 로드\n",
        "train_df = pd.read_csv('open/train.csv')\n",
        "test_df = pd.read_csv('open/test.csv')\n",
        "submission_df = pd.read_csv('open/sample_submission.csv')"
      ],
      "metadata": {
        "id": "3AySo9hS8rh7"
      },
      "execution_count": null,
      "outputs": []
    },
    {
      "cell_type": "markdown",
      "source": [
        "### 전처리 시작!!"
      ],
      "metadata": {
        "id": "6qGkI_R4Umq6"
      }
    },
    {
      "cell_type": "code",
      "execution_count": null,
      "metadata": {
        "id": "sIF21p55r3Ht"
      },
      "outputs": [],
      "source": [
        "train_df['timestamp'] = pd.to_datetime(train_df['timestamp'])\n",
        "\n",
        "train_df['year'] = train_df['timestamp'].dt.year\n",
        "train_df['month'] = train_df['timestamp'].dt.month\n",
        "train_df['day'] = train_df['timestamp'].dt.day"
      ]
    },
    {
      "cell_type": "code",
      "source": [
        "train_df[(train_df['month'] == 1) & (train_df['day'] == 1) & (train_df['price(원/kg)'] == 0.0)]"
      ],
      "metadata": {
        "colab": {
          "base_uri": "https://localhost:8080/",
          "height": 423
        },
        "outputId": "84c336d5-5e64-443c-cce3-42522111a644",
        "id": "65E9HZWVr3Ht"
      },
      "execution_count": null,
      "outputs": [
        {
          "output_type": "execute_result",
          "data": {
            "text/plain": [
              "                    ID  timestamp item corporation location  supply(kg)  \\\n",
              "0      TG_A_J_20190101 2019-01-01   TG           A        J         0.0   \n",
              "365    TG_A_J_20200101 2020-01-01   TG           A        J         0.0   \n",
              "731    TG_A_J_20210101 2021-01-01   TG           A        J         0.0   \n",
              "1096   TG_A_J_20220101 2022-01-01   TG           A        J         0.0   \n",
              "1461   TG_A_J_20230101 2023-01-01   TG           A        J         0.0   \n",
              "...                ...        ...  ...         ...      ...         ...   \n",
              "57874  RD_F_J_20190101 2019-01-01   RD           F        J         0.0   \n",
              "58239  RD_F_J_20200101 2020-01-01   RD           F        J         0.0   \n",
              "58605  RD_F_J_20210101 2021-01-01   RD           F        J         0.0   \n",
              "58970  RD_F_J_20220101 2022-01-01   RD           F        J         0.0   \n",
              "59335  RD_F_J_20230101 2023-01-01   RD           F        J         0.0   \n",
              "\n",
              "       price(원/kg)  year  month  day  \n",
              "0               0.0  2019      1    1  \n",
              "365             0.0  2020      1    1  \n",
              "731             0.0  2021      1    1  \n",
              "1096            0.0  2022      1    1  \n",
              "1461            0.0  2023      1    1  \n",
              "...             ...   ...    ...  ...  \n",
              "57874           0.0  2019      1    1  \n",
              "58239           0.0  2020      1    1  \n",
              "58605           0.0  2021      1    1  \n",
              "58970           0.0  2022      1    1  \n",
              "59335           0.0  2023      1    1  \n",
              "\n",
              "[195 rows x 10 columns]"
            ],
            "text/html": [
              "\n",
              "  <div id=\"df-9dfd3304-d78d-4679-b2b1-56ef4be493d2\" class=\"colab-df-container\">\n",
              "    <div>\n",
              "<style scoped>\n",
              "    .dataframe tbody tr th:only-of-type {\n",
              "        vertical-align: middle;\n",
              "    }\n",
              "\n",
              "    .dataframe tbody tr th {\n",
              "        vertical-align: top;\n",
              "    }\n",
              "\n",
              "    .dataframe thead th {\n",
              "        text-align: right;\n",
              "    }\n",
              "</style>\n",
              "<table border=\"1\" class=\"dataframe\">\n",
              "  <thead>\n",
              "    <tr style=\"text-align: right;\">\n",
              "      <th></th>\n",
              "      <th>ID</th>\n",
              "      <th>timestamp</th>\n",
              "      <th>item</th>\n",
              "      <th>corporation</th>\n",
              "      <th>location</th>\n",
              "      <th>supply(kg)</th>\n",
              "      <th>price(원/kg)</th>\n",
              "      <th>year</th>\n",
              "      <th>month</th>\n",
              "      <th>day</th>\n",
              "    </tr>\n",
              "  </thead>\n",
              "  <tbody>\n",
              "    <tr>\n",
              "      <th>0</th>\n",
              "      <td>TG_A_J_20190101</td>\n",
              "      <td>2019-01-01</td>\n",
              "      <td>TG</td>\n",
              "      <td>A</td>\n",
              "      <td>J</td>\n",
              "      <td>0.0</td>\n",
              "      <td>0.0</td>\n",
              "      <td>2019</td>\n",
              "      <td>1</td>\n",
              "      <td>1</td>\n",
              "    </tr>\n",
              "    <tr>\n",
              "      <th>365</th>\n",
              "      <td>TG_A_J_20200101</td>\n",
              "      <td>2020-01-01</td>\n",
              "      <td>TG</td>\n",
              "      <td>A</td>\n",
              "      <td>J</td>\n",
              "      <td>0.0</td>\n",
              "      <td>0.0</td>\n",
              "      <td>2020</td>\n",
              "      <td>1</td>\n",
              "      <td>1</td>\n",
              "    </tr>\n",
              "    <tr>\n",
              "      <th>731</th>\n",
              "      <td>TG_A_J_20210101</td>\n",
              "      <td>2021-01-01</td>\n",
              "      <td>TG</td>\n",
              "      <td>A</td>\n",
              "      <td>J</td>\n",
              "      <td>0.0</td>\n",
              "      <td>0.0</td>\n",
              "      <td>2021</td>\n",
              "      <td>1</td>\n",
              "      <td>1</td>\n",
              "    </tr>\n",
              "    <tr>\n",
              "      <th>1096</th>\n",
              "      <td>TG_A_J_20220101</td>\n",
              "      <td>2022-01-01</td>\n",
              "      <td>TG</td>\n",
              "      <td>A</td>\n",
              "      <td>J</td>\n",
              "      <td>0.0</td>\n",
              "      <td>0.0</td>\n",
              "      <td>2022</td>\n",
              "      <td>1</td>\n",
              "      <td>1</td>\n",
              "    </tr>\n",
              "    <tr>\n",
              "      <th>1461</th>\n",
              "      <td>TG_A_J_20230101</td>\n",
              "      <td>2023-01-01</td>\n",
              "      <td>TG</td>\n",
              "      <td>A</td>\n",
              "      <td>J</td>\n",
              "      <td>0.0</td>\n",
              "      <td>0.0</td>\n",
              "      <td>2023</td>\n",
              "      <td>1</td>\n",
              "      <td>1</td>\n",
              "    </tr>\n",
              "    <tr>\n",
              "      <th>...</th>\n",
              "      <td>...</td>\n",
              "      <td>...</td>\n",
              "      <td>...</td>\n",
              "      <td>...</td>\n",
              "      <td>...</td>\n",
              "      <td>...</td>\n",
              "      <td>...</td>\n",
              "      <td>...</td>\n",
              "      <td>...</td>\n",
              "      <td>...</td>\n",
              "    </tr>\n",
              "    <tr>\n",
              "      <th>57874</th>\n",
              "      <td>RD_F_J_20190101</td>\n",
              "      <td>2019-01-01</td>\n",
              "      <td>RD</td>\n",
              "      <td>F</td>\n",
              "      <td>J</td>\n",
              "      <td>0.0</td>\n",
              "      <td>0.0</td>\n",
              "      <td>2019</td>\n",
              "      <td>1</td>\n",
              "      <td>1</td>\n",
              "    </tr>\n",
              "    <tr>\n",
              "      <th>58239</th>\n",
              "      <td>RD_F_J_20200101</td>\n",
              "      <td>2020-01-01</td>\n",
              "      <td>RD</td>\n",
              "      <td>F</td>\n",
              "      <td>J</td>\n",
              "      <td>0.0</td>\n",
              "      <td>0.0</td>\n",
              "      <td>2020</td>\n",
              "      <td>1</td>\n",
              "      <td>1</td>\n",
              "    </tr>\n",
              "    <tr>\n",
              "      <th>58605</th>\n",
              "      <td>RD_F_J_20210101</td>\n",
              "      <td>2021-01-01</td>\n",
              "      <td>RD</td>\n",
              "      <td>F</td>\n",
              "      <td>J</td>\n",
              "      <td>0.0</td>\n",
              "      <td>0.0</td>\n",
              "      <td>2021</td>\n",
              "      <td>1</td>\n",
              "      <td>1</td>\n",
              "    </tr>\n",
              "    <tr>\n",
              "      <th>58970</th>\n",
              "      <td>RD_F_J_20220101</td>\n",
              "      <td>2022-01-01</td>\n",
              "      <td>RD</td>\n",
              "      <td>F</td>\n",
              "      <td>J</td>\n",
              "      <td>0.0</td>\n",
              "      <td>0.0</td>\n",
              "      <td>2022</td>\n",
              "      <td>1</td>\n",
              "      <td>1</td>\n",
              "    </tr>\n",
              "    <tr>\n",
              "      <th>59335</th>\n",
              "      <td>RD_F_J_20230101</td>\n",
              "      <td>2023-01-01</td>\n",
              "      <td>RD</td>\n",
              "      <td>F</td>\n",
              "      <td>J</td>\n",
              "      <td>0.0</td>\n",
              "      <td>0.0</td>\n",
              "      <td>2023</td>\n",
              "      <td>1</td>\n",
              "      <td>1</td>\n",
              "    </tr>\n",
              "  </tbody>\n",
              "</table>\n",
              "<p>195 rows × 10 columns</p>\n",
              "</div>\n",
              "    <div class=\"colab-df-buttons\">\n",
              "\n",
              "  <div class=\"colab-df-container\">\n",
              "    <button class=\"colab-df-convert\" onclick=\"convertToInteractive('df-9dfd3304-d78d-4679-b2b1-56ef4be493d2')\"\n",
              "            title=\"Convert this dataframe to an interactive table.\"\n",
              "            style=\"display:none;\">\n",
              "\n",
              "  <svg xmlns=\"http://www.w3.org/2000/svg\" height=\"24px\" viewBox=\"0 -960 960 960\">\n",
              "    <path d=\"M120-120v-720h720v720H120Zm60-500h600v-160H180v160Zm220 220h160v-160H400v160Zm0 220h160v-160H400v160ZM180-400h160v-160H180v160Zm440 0h160v-160H620v160ZM180-180h160v-160H180v160Zm440 0h160v-160H620v160Z\"/>\n",
              "  </svg>\n",
              "    </button>\n",
              "\n",
              "  <style>\n",
              "    .colab-df-container {\n",
              "      display:flex;\n",
              "      gap: 12px;\n",
              "    }\n",
              "\n",
              "    .colab-df-convert {\n",
              "      background-color: #E8F0FE;\n",
              "      border: none;\n",
              "      border-radius: 50%;\n",
              "      cursor: pointer;\n",
              "      display: none;\n",
              "      fill: #1967D2;\n",
              "      height: 32px;\n",
              "      padding: 0 0 0 0;\n",
              "      width: 32px;\n",
              "    }\n",
              "\n",
              "    .colab-df-convert:hover {\n",
              "      background-color: #E2EBFA;\n",
              "      box-shadow: 0px 1px 2px rgba(60, 64, 67, 0.3), 0px 1px 3px 1px rgba(60, 64, 67, 0.15);\n",
              "      fill: #174EA6;\n",
              "    }\n",
              "\n",
              "    .colab-df-buttons div {\n",
              "      margin-bottom: 4px;\n",
              "    }\n",
              "\n",
              "    [theme=dark] .colab-df-convert {\n",
              "      background-color: #3B4455;\n",
              "      fill: #D2E3FC;\n",
              "    }\n",
              "\n",
              "    [theme=dark] .colab-df-convert:hover {\n",
              "      background-color: #434B5C;\n",
              "      box-shadow: 0px 1px 3px 1px rgba(0, 0, 0, 0.15);\n",
              "      filter: drop-shadow(0px 1px 2px rgba(0, 0, 0, 0.3));\n",
              "      fill: #FFFFFF;\n",
              "    }\n",
              "  </style>\n",
              "\n",
              "    <script>\n",
              "      const buttonEl =\n",
              "        document.querySelector('#df-9dfd3304-d78d-4679-b2b1-56ef4be493d2 button.colab-df-convert');\n",
              "      buttonEl.style.display =\n",
              "        google.colab.kernel.accessAllowed ? 'block' : 'none';\n",
              "\n",
              "      async function convertToInteractive(key) {\n",
              "        const element = document.querySelector('#df-9dfd3304-d78d-4679-b2b1-56ef4be493d2');\n",
              "        const dataTable =\n",
              "          await google.colab.kernel.invokeFunction('convertToInteractive',\n",
              "                                                    [key], {});\n",
              "        if (!dataTable) return;\n",
              "\n",
              "        const docLinkHtml = 'Like what you see? Visit the ' +\n",
              "          '<a target=\"_blank\" href=https://colab.research.google.com/notebooks/data_table.ipynb>data table notebook</a>'\n",
              "          + ' to learn more about interactive tables.';\n",
              "        element.innerHTML = '';\n",
              "        dataTable['output_type'] = 'display_data';\n",
              "        await google.colab.output.renderOutput(dataTable, element);\n",
              "        const docLink = document.createElement('div');\n",
              "        docLink.innerHTML = docLinkHtml;\n",
              "        element.appendChild(docLink);\n",
              "      }\n",
              "    </script>\n",
              "  </div>\n",
              "\n",
              "\n",
              "<div id=\"df-42ee2b7c-278c-42b3-8eb0-479c2c8cefd5\">\n",
              "  <button class=\"colab-df-quickchart\" onclick=\"quickchart('df-42ee2b7c-278c-42b3-8eb0-479c2c8cefd5')\"\n",
              "            title=\"Suggest charts\"\n",
              "            style=\"display:none;\">\n",
              "\n",
              "<svg xmlns=\"http://www.w3.org/2000/svg\" height=\"24px\"viewBox=\"0 0 24 24\"\n",
              "     width=\"24px\">\n",
              "    <g>\n",
              "        <path d=\"M19 3H5c-1.1 0-2 .9-2 2v14c0 1.1.9 2 2 2h14c1.1 0 2-.9 2-2V5c0-1.1-.9-2-2-2zM9 17H7v-7h2v7zm4 0h-2V7h2v10zm4 0h-2v-4h2v4z\"/>\n",
              "    </g>\n",
              "</svg>\n",
              "  </button>\n",
              "\n",
              "<style>\n",
              "  .colab-df-quickchart {\n",
              "      --bg-color: #E8F0FE;\n",
              "      --fill-color: #1967D2;\n",
              "      --hover-bg-color: #E2EBFA;\n",
              "      --hover-fill-color: #174EA6;\n",
              "      --disabled-fill-color: #AAA;\n",
              "      --disabled-bg-color: #DDD;\n",
              "  }\n",
              "\n",
              "  [theme=dark] .colab-df-quickchart {\n",
              "      --bg-color: #3B4455;\n",
              "      --fill-color: #D2E3FC;\n",
              "      --hover-bg-color: #434B5C;\n",
              "      --hover-fill-color: #FFFFFF;\n",
              "      --disabled-bg-color: #3B4455;\n",
              "      --disabled-fill-color: #666;\n",
              "  }\n",
              "\n",
              "  .colab-df-quickchart {\n",
              "    background-color: var(--bg-color);\n",
              "    border: none;\n",
              "    border-radius: 50%;\n",
              "    cursor: pointer;\n",
              "    display: none;\n",
              "    fill: var(--fill-color);\n",
              "    height: 32px;\n",
              "    padding: 0;\n",
              "    width: 32px;\n",
              "  }\n",
              "\n",
              "  .colab-df-quickchart:hover {\n",
              "    background-color: var(--hover-bg-color);\n",
              "    box-shadow: 0 1px 2px rgba(60, 64, 67, 0.3), 0 1px 3px 1px rgba(60, 64, 67, 0.15);\n",
              "    fill: var(--button-hover-fill-color);\n",
              "  }\n",
              "\n",
              "  .colab-df-quickchart-complete:disabled,\n",
              "  .colab-df-quickchart-complete:disabled:hover {\n",
              "    background-color: var(--disabled-bg-color);\n",
              "    fill: var(--disabled-fill-color);\n",
              "    box-shadow: none;\n",
              "  }\n",
              "\n",
              "  .colab-df-spinner {\n",
              "    border: 2px solid var(--fill-color);\n",
              "    border-color: transparent;\n",
              "    border-bottom-color: var(--fill-color);\n",
              "    animation:\n",
              "      spin 1s steps(1) infinite;\n",
              "  }\n",
              "\n",
              "  @keyframes spin {\n",
              "    0% {\n",
              "      border-color: transparent;\n",
              "      border-bottom-color: var(--fill-color);\n",
              "      border-left-color: var(--fill-color);\n",
              "    }\n",
              "    20% {\n",
              "      border-color: transparent;\n",
              "      border-left-color: var(--fill-color);\n",
              "      border-top-color: var(--fill-color);\n",
              "    }\n",
              "    30% {\n",
              "      border-color: transparent;\n",
              "      border-left-color: var(--fill-color);\n",
              "      border-top-color: var(--fill-color);\n",
              "      border-right-color: var(--fill-color);\n",
              "    }\n",
              "    40% {\n",
              "      border-color: transparent;\n",
              "      border-right-color: var(--fill-color);\n",
              "      border-top-color: var(--fill-color);\n",
              "    }\n",
              "    60% {\n",
              "      border-color: transparent;\n",
              "      border-right-color: var(--fill-color);\n",
              "    }\n",
              "    80% {\n",
              "      border-color: transparent;\n",
              "      border-right-color: var(--fill-color);\n",
              "      border-bottom-color: var(--fill-color);\n",
              "    }\n",
              "    90% {\n",
              "      border-color: transparent;\n",
              "      border-bottom-color: var(--fill-color);\n",
              "    }\n",
              "  }\n",
              "</style>\n",
              "\n",
              "  <script>\n",
              "    async function quickchart(key) {\n",
              "      const quickchartButtonEl =\n",
              "        document.querySelector('#' + key + ' button');\n",
              "      quickchartButtonEl.disabled = true;  // To prevent multiple clicks.\n",
              "      quickchartButtonEl.classList.add('colab-df-spinner');\n",
              "      try {\n",
              "        const charts = await google.colab.kernel.invokeFunction(\n",
              "            'suggestCharts', [key], {});\n",
              "      } catch (error) {\n",
              "        console.error('Error during call to suggestCharts:', error);\n",
              "      }\n",
              "      quickchartButtonEl.classList.remove('colab-df-spinner');\n",
              "      quickchartButtonEl.classList.add('colab-df-quickchart-complete');\n",
              "    }\n",
              "    (() => {\n",
              "      let quickchartButtonEl =\n",
              "        document.querySelector('#df-42ee2b7c-278c-42b3-8eb0-479c2c8cefd5 button');\n",
              "      quickchartButtonEl.style.display =\n",
              "        google.colab.kernel.accessAllowed ? 'block' : 'none';\n",
              "    })();\n",
              "  </script>\n",
              "</div>\n",
              "\n",
              "    </div>\n",
              "  </div>\n"
            ],
            "application/vnd.google.colaboratory.intrinsic+json": {
              "type": "dataframe",
              "summary": "{\n  \"name\": \"train_df[(train_df['month'] == 1) & (train_df['day'] == 1) & (train_df['price(\\uc6d0/kg)'] == 0\",\n  \"rows\": 195,\n  \"fields\": [\n    {\n      \"column\": \"ID\",\n      \"properties\": {\n        \"dtype\": \"string\",\n        \"num_unique_values\": 195,\n        \"samples\": [\n          \"RD_E_S_20220101\",\n          \"TG_B_S_20200101\",\n          \"BC_B_S_20190101\"\n        ],\n        \"semantic_type\": \"\",\n        \"description\": \"\"\n      }\n    },\n    {\n      \"column\": \"timestamp\",\n      \"properties\": {\n        \"dtype\": \"date\",\n        \"min\": \"2019-01-01 00:00:00\",\n        \"max\": \"2023-01-01 00:00:00\",\n        \"num_unique_values\": 5,\n        \"samples\": [\n          \"2020-01-01 00:00:00\",\n          \"2023-01-01 00:00:00\",\n          \"2021-01-01 00:00:00\"\n        ],\n        \"semantic_type\": \"\",\n        \"description\": \"\"\n      }\n    },\n    {\n      \"column\": \"item\",\n      \"properties\": {\n        \"dtype\": \"category\",\n        \"num_unique_values\": 5,\n        \"samples\": [\n          \"CR\",\n          \"BC\",\n          \"CB\"\n        ],\n        \"semantic_type\": \"\",\n        \"description\": \"\"\n      }\n    },\n    {\n      \"column\": \"corporation\",\n      \"properties\": {\n        \"dtype\": \"category\",\n        \"num_unique_values\": 6,\n        \"samples\": [\n          \"A\",\n          \"B\",\n          \"F\"\n        ],\n        \"semantic_type\": \"\",\n        \"description\": \"\"\n      }\n    },\n    {\n      \"column\": \"location\",\n      \"properties\": {\n        \"dtype\": \"category\",\n        \"num_unique_values\": 2,\n        \"samples\": [\n          \"S\",\n          \"J\"\n        ],\n        \"semantic_type\": \"\",\n        \"description\": \"\"\n      }\n    },\n    {\n      \"column\": \"supply(kg)\",\n      \"properties\": {\n        \"dtype\": \"number\",\n        \"std\": 0.0,\n        \"min\": 0.0,\n        \"max\": 0.0,\n        \"num_unique_values\": 1,\n        \"samples\": [\n          0.0\n        ],\n        \"semantic_type\": \"\",\n        \"description\": \"\"\n      }\n    },\n    {\n      \"column\": \"price(\\uc6d0/kg)\",\n      \"properties\": {\n        \"dtype\": \"number\",\n        \"std\": 0.0,\n        \"min\": 0.0,\n        \"max\": 0.0,\n        \"num_unique_values\": 1,\n        \"samples\": [\n          0.0\n        ],\n        \"semantic_type\": \"\",\n        \"description\": \"\"\n      }\n    },\n    {\n      \"column\": \"year\",\n      \"properties\": {\n        \"dtype\": \"int32\",\n        \"num_unique_values\": 5,\n        \"samples\": [\n          2020\n        ],\n        \"semantic_type\": \"\",\n        \"description\": \"\"\n      }\n    },\n    {\n      \"column\": \"month\",\n      \"properties\": {\n        \"dtype\": \"int32\",\n        \"num_unique_values\": 1,\n        \"samples\": [\n          1\n        ],\n        \"semantic_type\": \"\",\n        \"description\": \"\"\n      }\n    },\n    {\n      \"column\": \"day\",\n      \"properties\": {\n        \"dtype\": \"int32\",\n        \"num_unique_values\": 1,\n        \"samples\": [\n          1\n        ],\n        \"semantic_type\": \"\",\n        \"description\": \"\"\n      }\n    }\n  ]\n}"
            }
          },
          "metadata": {},
          "execution_count": 15
        }
      ]
    },
    {
      "cell_type": "code",
      "source": [
        "def get_season(month):\n",
        "    if month == 12 or month == 1 or month == 2:\n",
        "        return 'winter'\n",
        "    elif month == 3 or month == 4 or month == 5:\n",
        "        return 'spring'\n",
        "    elif month == 6 or month == 7 or month == 8:\n",
        "        return 'summer'\n",
        "    elif month == 9 or month == 10 or month == 11:\n",
        "        return 'fall'\n",
        "    else:\n",
        "        return np.nan\n",
        "\n",
        "train_df['season'] = train_df['month'].apply(get_season)"
      ],
      "metadata": {
        "id": "8Ez3KaOcr3Ht"
      },
      "execution_count": null,
      "outputs": []
    },
    {
      "cell_type": "code",
      "source": [
        "train_data_sub =  train_df[ train_df['supply(kg)'] > 0]"
      ],
      "metadata": {
        "id": "oNO7rhAesO7t"
      },
      "execution_count": null,
      "outputs": []
    },
    {
      "cell_type": "code",
      "source": [
        "items = train_df['item'].unique()\n",
        "corporations = train_df['corporation'].unique()\n",
        "seasons = train_df['season'].unique()\n",
        "\n",
        "average_prices = {}\n",
        "\n",
        "for item in items:\n",
        "    for corporation in corporations:\n",
        "        for season in seasons:\n",
        "            condition = (train_data_sub['item'] == item) & (train_data_sub['corporation'] == corporation) & (train_data_sub['season'] == season)\n",
        "            avg_data = train_data_sub[condition]\n",
        "\n",
        "            avg_price = avg_data['price(원/kg)'].mean()\n",
        "\n",
        "            if not np.isnan(avg_price):\n",
        "                var_name = f\"{item}_{corporation}_{season}\"\n",
        "                average_prices[var_name] = avg_price\n",
        "\n",
        "                print(f\"{var_name}: {avg_price}\")\n",
        "\n",
        "def replace_zero(x):\n",
        "    if x['price(원/kg)'] == 0:\n",
        "        key = f\"{x['item']}_{x['corporation']}_{x['season']}\"\n",
        "        if key in average_prices:\n",
        "            x['price(원/kg)'] = average_prices[key]\n",
        "    return x\n",
        "\n",
        "train_data_new = train_df.apply(replace_zero, axis=1)\n",
        "\n",
        "print(\"\\nAverage prices train:\")\n",
        "print(train_data_new)\n"
      ],
      "metadata": {
        "colab": {
          "base_uri": "https://localhost:8080/"
        },
        "outputId": "db34fef8-5865-48c5-b9f7-f4deeb137495",
        "collapsed": true,
        "id": "QXHwOYngrVzm"
      },
      "execution_count": null,
      "outputs": [
        {
          "output_type": "stream",
          "name": "stdout",
          "text": [
            "TG_A_winter: 2147.5527559055117\n",
            "TG_A_spring: 5636.957371225577\n",
            "TG_A_summer: 6759.160896130346\n",
            "TG_A_fall: 2843.3485113835377\n",
            "TG_B_winter: 2006.5438335809806\n",
            "TG_B_spring: 5555.956912028725\n",
            "TG_B_summer: 6508.527118644068\n",
            "TG_B_fall: 2878.5760135135133\n",
            "TG_C_winter: 2408.9211309523807\n",
            "TG_C_spring: 6717.4455782312925\n",
            "TG_C_summer: 6967.38768718802\n",
            "TG_C_fall: 3074.498275862069\n",
            "TG_D_winter: 2037.5969696969696\n",
            "TG_D_spring: 5964.845849802372\n",
            "TG_D_summer: 5856.810344827586\n",
            "TG_D_fall: 2612.6947723440135\n",
            "TG_E_winter: 1910.839762611276\n",
            "TG_E_spring: 5205.858407079646\n",
            "TG_E_summer: 5790.329457364341\n",
            "TG_E_fall: 2480.770154373928\n",
            "CR_A_winter: 1403.7942386831276\n",
            "CR_A_spring: 1408.047619047619\n",
            "CR_A_summer: 2807.7301587301586\n",
            "CR_A_fall: 3322.492537313433\n",
            "CR_B_winter: 1338.2191780821918\n",
            "CR_B_spring: 1107.8833333333334\n",
            "CR_B_fall: 976.0\n",
            "CR_C_winter: 1254.830357142857\n",
            "CR_C_spring: 1285.7307692307693\n",
            "CR_C_fall: 937.8\n",
            "CR_D_winter: 1349.596214511041\n",
            "CR_D_spring: 1224.4117647058824\n",
            "CR_D_fall: 1008.625\n",
            "CR_E_winter: 1282.678787878788\n",
            "CR_E_spring: 1094.8294117647058\n",
            "CR_E_fall: 1125.076923076923\n",
            "CB_A_winter: 958.4181818181818\n",
            "CB_A_spring: 510.544\n",
            "CB_A_summer: 883.3333333333334\n",
            "CB_A_fall: 1261.7272727272727\n",
            "CB_D_winter: 560.8740157480315\n",
            "CB_D_spring: 598.2027027027027\n",
            "CB_D_fall: 763.3333333333334\n",
            "CB_E_winter: 768.7219512195122\n",
            "CB_E_spring: 708.2193548387097\n",
            "CB_E_summer: 425.0\n",
            "CB_E_fall: 991.1875\n",
            "CB_F_winter: 638.9514925373135\n",
            "CB_F_spring: 721.1295681063123\n",
            "CB_F_summer: 346.2857142857143\n",
            "CB_F_fall: 550.0\n",
            "RD_A_winter: 607.1868327402135\n",
            "RD_A_spring: 425.023679417122\n",
            "RD_A_summer: 1189.3170731707316\n",
            "RD_A_fall: 3071.4736842105262\n",
            "RD_C_winter: 412.8\n",
            "RD_C_spring: 341.14285714285717\n",
            "RD_D_winter: 554.71\n",
            "RD_D_spring: 417.69718309859155\n",
            "RD_D_summer: 561.7619047619048\n",
            "RD_D_fall: 501.6666666666667\n",
            "RD_E_winter: 584.6735294117647\n",
            "RD_E_spring: 477.4485488126649\n",
            "RD_E_summer: 698.2608695652174\n",
            "RD_F_winter: 563.1741741741741\n",
            "RD_F_spring: 397.74132492113563\n",
            "RD_F_summer: 533.7153284671533\n",
            "RD_F_fall: 518.625\n",
            "BC_A_winter: 2765.3206951026855\n",
            "BC_A_spring: 2901.757338551859\n",
            "BC_A_fall: 3616.8271028037384\n",
            "BC_B_winter: 2444.236526946108\n",
            "BC_B_spring: 2478.4583333333335\n",
            "BC_B_fall: 2555.1451612903224\n",
            "BC_C_winter: 2394.4668674698796\n",
            "BC_C_spring: 2607.597989949749\n",
            "BC_C_fall: 2166.8688524590166\n",
            "BC_D_winter: 2547.3768545994067\n",
            "BC_D_spring: 2811.4793388429753\n",
            "BC_D_fall: 3148.784090909091\n",
            "BC_E_winter: 2712.109939759036\n",
            "BC_E_spring: 2823.27032967033\n",
            "BC_E_summer: 1296.0\n",
            "BC_E_fall: 3465.6875\n",
            "\n",
            "Average prices train:\n",
            "                    ID  timestamp item corporation location  supply(kg)  \\\n",
            "0      TG_A_J_20190101 2019-01-01   TG           A        J         0.0   \n",
            "1      TG_A_J_20190102 2019-01-02   TG           A        J         0.0   \n",
            "2      TG_A_J_20190103 2019-01-03   TG           A        J     60601.0   \n",
            "3      TG_A_J_20190104 2019-01-04   TG           A        J     25000.0   \n",
            "4      TG_A_J_20190105 2019-01-05   TG           A        J     32352.0   \n",
            "...                ...        ...  ...         ...      ...         ...   \n",
            "59392  RD_F_J_20230227 2023-02-27   RD           F        J    452440.0   \n",
            "59393  RD_F_J_20230228 2023-02-28   RD           F        J    421980.0   \n",
            "59394  RD_F_J_20230301 2023-03-01   RD           F        J    382980.0   \n",
            "59395  RD_F_J_20230302 2023-03-02   RD           F        J    477220.0   \n",
            "59396  RD_F_J_20230303 2023-03-03   RD           F        J    427520.0   \n",
            "\n",
            "       price(원/kg)  year  month  day  season  \n",
            "0       2147.552756  2019      1    1  winter  \n",
            "1       2147.552756  2019      1    2  winter  \n",
            "2       1728.000000  2019      1    3  winter  \n",
            "3       1408.000000  2019      1    4  winter  \n",
            "4       1250.000000  2019      1    5  winter  \n",
            "...             ...   ...    ...  ...     ...  \n",
            "59392    468.000000  2023      2   27  winter  \n",
            "59393    531.000000  2023      2   28  winter  \n",
            "59394    574.000000  2023      3    1  spring  \n",
            "59395    523.000000  2023      3    2  spring  \n",
            "59396    529.000000  2023      3    3  spring  \n",
            "\n",
            "[59397 rows x 11 columns]\n"
          ]
        }
      ]
    },
    {
      "cell_type": "code",
      "source": [
        "import datetime as dt\n",
        "def zero_sunday(x):\n",
        "  for i in range(len(x)):\n",
        "    if x['timestamp'][i].weekday() == 6:\n",
        "      x['price(원/kg)'][i] = 0\n",
        "      x['supply(kg)'][i] = 0\n",
        "  return x"
      ],
      "metadata": {
        "id": "atq8O-itrbPe"
      },
      "execution_count": null,
      "outputs": []
    },
    {
      "cell_type": "code",
      "source": [
        "zero_sunday(train_data_new)"
      ],
      "metadata": {
        "colab": {
          "base_uri": "https://localhost:8080/",
          "height": 423
        },
        "outputId": "9a59cedb-abe1-4037-96d7-ab7ae3636474",
        "id": "9o3T2D8drbPf"
      },
      "execution_count": null,
      "outputs": [
        {
          "output_type": "execute_result",
          "data": {
            "text/plain": [
              "                    ID  timestamp item corporation location  supply(kg)  \\\n",
              "0      TG_A_J_20190101 2019-01-01   TG           A        J         0.0   \n",
              "1      TG_A_J_20190102 2019-01-02   TG           A        J         0.0   \n",
              "2      TG_A_J_20190103 2019-01-03   TG           A        J     60601.0   \n",
              "3      TG_A_J_20190104 2019-01-04   TG           A        J     25000.0   \n",
              "4      TG_A_J_20190105 2019-01-05   TG           A        J     32352.0   \n",
              "...                ...        ...  ...         ...      ...         ...   \n",
              "59392  RD_F_J_20230227 2023-02-27   RD           F        J    452440.0   \n",
              "59393  RD_F_J_20230228 2023-02-28   RD           F        J    421980.0   \n",
              "59394  RD_F_J_20230301 2023-03-01   RD           F        J    382980.0   \n",
              "59395  RD_F_J_20230302 2023-03-02   RD           F        J    477220.0   \n",
              "59396  RD_F_J_20230303 2023-03-03   RD           F        J    427520.0   \n",
              "\n",
              "       price(원/kg)  year  month  day  season  \n",
              "0       2147.552756  2019      1    1  winter  \n",
              "1       2147.552756  2019      1    2  winter  \n",
              "2       1728.000000  2019      1    3  winter  \n",
              "3       1408.000000  2019      1    4  winter  \n",
              "4       1250.000000  2019      1    5  winter  \n",
              "...             ...   ...    ...  ...     ...  \n",
              "59392    468.000000  2023      2   27  winter  \n",
              "59393    531.000000  2023      2   28  winter  \n",
              "59394    574.000000  2023      3    1  spring  \n",
              "59395    523.000000  2023      3    2  spring  \n",
              "59396    529.000000  2023      3    3  spring  \n",
              "\n",
              "[59397 rows x 11 columns]"
            ],
            "text/html": [
              "\n",
              "  <div id=\"df-561c3cee-f202-490e-a0b0-e87494d120ca\" class=\"colab-df-container\">\n",
              "    <div>\n",
              "<style scoped>\n",
              "    .dataframe tbody tr th:only-of-type {\n",
              "        vertical-align: middle;\n",
              "    }\n",
              "\n",
              "    .dataframe tbody tr th {\n",
              "        vertical-align: top;\n",
              "    }\n",
              "\n",
              "    .dataframe thead th {\n",
              "        text-align: right;\n",
              "    }\n",
              "</style>\n",
              "<table border=\"1\" class=\"dataframe\">\n",
              "  <thead>\n",
              "    <tr style=\"text-align: right;\">\n",
              "      <th></th>\n",
              "      <th>ID</th>\n",
              "      <th>timestamp</th>\n",
              "      <th>item</th>\n",
              "      <th>corporation</th>\n",
              "      <th>location</th>\n",
              "      <th>supply(kg)</th>\n",
              "      <th>price(원/kg)</th>\n",
              "      <th>year</th>\n",
              "      <th>month</th>\n",
              "      <th>day</th>\n",
              "      <th>season</th>\n",
              "    </tr>\n",
              "  </thead>\n",
              "  <tbody>\n",
              "    <tr>\n",
              "      <th>0</th>\n",
              "      <td>TG_A_J_20190101</td>\n",
              "      <td>2019-01-01</td>\n",
              "      <td>TG</td>\n",
              "      <td>A</td>\n",
              "      <td>J</td>\n",
              "      <td>0.0</td>\n",
              "      <td>2147.552756</td>\n",
              "      <td>2019</td>\n",
              "      <td>1</td>\n",
              "      <td>1</td>\n",
              "      <td>winter</td>\n",
              "    </tr>\n",
              "    <tr>\n",
              "      <th>1</th>\n",
              "      <td>TG_A_J_20190102</td>\n",
              "      <td>2019-01-02</td>\n",
              "      <td>TG</td>\n",
              "      <td>A</td>\n",
              "      <td>J</td>\n",
              "      <td>0.0</td>\n",
              "      <td>2147.552756</td>\n",
              "      <td>2019</td>\n",
              "      <td>1</td>\n",
              "      <td>2</td>\n",
              "      <td>winter</td>\n",
              "    </tr>\n",
              "    <tr>\n",
              "      <th>2</th>\n",
              "      <td>TG_A_J_20190103</td>\n",
              "      <td>2019-01-03</td>\n",
              "      <td>TG</td>\n",
              "      <td>A</td>\n",
              "      <td>J</td>\n",
              "      <td>60601.0</td>\n",
              "      <td>1728.000000</td>\n",
              "      <td>2019</td>\n",
              "      <td>1</td>\n",
              "      <td>3</td>\n",
              "      <td>winter</td>\n",
              "    </tr>\n",
              "    <tr>\n",
              "      <th>3</th>\n",
              "      <td>TG_A_J_20190104</td>\n",
              "      <td>2019-01-04</td>\n",
              "      <td>TG</td>\n",
              "      <td>A</td>\n",
              "      <td>J</td>\n",
              "      <td>25000.0</td>\n",
              "      <td>1408.000000</td>\n",
              "      <td>2019</td>\n",
              "      <td>1</td>\n",
              "      <td>4</td>\n",
              "      <td>winter</td>\n",
              "    </tr>\n",
              "    <tr>\n",
              "      <th>4</th>\n",
              "      <td>TG_A_J_20190105</td>\n",
              "      <td>2019-01-05</td>\n",
              "      <td>TG</td>\n",
              "      <td>A</td>\n",
              "      <td>J</td>\n",
              "      <td>32352.0</td>\n",
              "      <td>1250.000000</td>\n",
              "      <td>2019</td>\n",
              "      <td>1</td>\n",
              "      <td>5</td>\n",
              "      <td>winter</td>\n",
              "    </tr>\n",
              "    <tr>\n",
              "      <th>...</th>\n",
              "      <td>...</td>\n",
              "      <td>...</td>\n",
              "      <td>...</td>\n",
              "      <td>...</td>\n",
              "      <td>...</td>\n",
              "      <td>...</td>\n",
              "      <td>...</td>\n",
              "      <td>...</td>\n",
              "      <td>...</td>\n",
              "      <td>...</td>\n",
              "      <td>...</td>\n",
              "    </tr>\n",
              "    <tr>\n",
              "      <th>59392</th>\n",
              "      <td>RD_F_J_20230227</td>\n",
              "      <td>2023-02-27</td>\n",
              "      <td>RD</td>\n",
              "      <td>F</td>\n",
              "      <td>J</td>\n",
              "      <td>452440.0</td>\n",
              "      <td>468.000000</td>\n",
              "      <td>2023</td>\n",
              "      <td>2</td>\n",
              "      <td>27</td>\n",
              "      <td>winter</td>\n",
              "    </tr>\n",
              "    <tr>\n",
              "      <th>59393</th>\n",
              "      <td>RD_F_J_20230228</td>\n",
              "      <td>2023-02-28</td>\n",
              "      <td>RD</td>\n",
              "      <td>F</td>\n",
              "      <td>J</td>\n",
              "      <td>421980.0</td>\n",
              "      <td>531.000000</td>\n",
              "      <td>2023</td>\n",
              "      <td>2</td>\n",
              "      <td>28</td>\n",
              "      <td>winter</td>\n",
              "    </tr>\n",
              "    <tr>\n",
              "      <th>59394</th>\n",
              "      <td>RD_F_J_20230301</td>\n",
              "      <td>2023-03-01</td>\n",
              "      <td>RD</td>\n",
              "      <td>F</td>\n",
              "      <td>J</td>\n",
              "      <td>382980.0</td>\n",
              "      <td>574.000000</td>\n",
              "      <td>2023</td>\n",
              "      <td>3</td>\n",
              "      <td>1</td>\n",
              "      <td>spring</td>\n",
              "    </tr>\n",
              "    <tr>\n",
              "      <th>59395</th>\n",
              "      <td>RD_F_J_20230302</td>\n",
              "      <td>2023-03-02</td>\n",
              "      <td>RD</td>\n",
              "      <td>F</td>\n",
              "      <td>J</td>\n",
              "      <td>477220.0</td>\n",
              "      <td>523.000000</td>\n",
              "      <td>2023</td>\n",
              "      <td>3</td>\n",
              "      <td>2</td>\n",
              "      <td>spring</td>\n",
              "    </tr>\n",
              "    <tr>\n",
              "      <th>59396</th>\n",
              "      <td>RD_F_J_20230303</td>\n",
              "      <td>2023-03-03</td>\n",
              "      <td>RD</td>\n",
              "      <td>F</td>\n",
              "      <td>J</td>\n",
              "      <td>427520.0</td>\n",
              "      <td>529.000000</td>\n",
              "      <td>2023</td>\n",
              "      <td>3</td>\n",
              "      <td>3</td>\n",
              "      <td>spring</td>\n",
              "    </tr>\n",
              "  </tbody>\n",
              "</table>\n",
              "<p>59397 rows × 11 columns</p>\n",
              "</div>\n",
              "    <div class=\"colab-df-buttons\">\n",
              "\n",
              "  <div class=\"colab-df-container\">\n",
              "    <button class=\"colab-df-convert\" onclick=\"convertToInteractive('df-561c3cee-f202-490e-a0b0-e87494d120ca')\"\n",
              "            title=\"Convert this dataframe to an interactive table.\"\n",
              "            style=\"display:none;\">\n",
              "\n",
              "  <svg xmlns=\"http://www.w3.org/2000/svg\" height=\"24px\" viewBox=\"0 -960 960 960\">\n",
              "    <path d=\"M120-120v-720h720v720H120Zm60-500h600v-160H180v160Zm220 220h160v-160H400v160Zm0 220h160v-160H400v160ZM180-400h160v-160H180v160Zm440 0h160v-160H620v160ZM180-180h160v-160H180v160Zm440 0h160v-160H620v160Z\"/>\n",
              "  </svg>\n",
              "    </button>\n",
              "\n",
              "  <style>\n",
              "    .colab-df-container {\n",
              "      display:flex;\n",
              "      gap: 12px;\n",
              "    }\n",
              "\n",
              "    .colab-df-convert {\n",
              "      background-color: #E8F0FE;\n",
              "      border: none;\n",
              "      border-radius: 50%;\n",
              "      cursor: pointer;\n",
              "      display: none;\n",
              "      fill: #1967D2;\n",
              "      height: 32px;\n",
              "      padding: 0 0 0 0;\n",
              "      width: 32px;\n",
              "    }\n",
              "\n",
              "    .colab-df-convert:hover {\n",
              "      background-color: #E2EBFA;\n",
              "      box-shadow: 0px 1px 2px rgba(60, 64, 67, 0.3), 0px 1px 3px 1px rgba(60, 64, 67, 0.15);\n",
              "      fill: #174EA6;\n",
              "    }\n",
              "\n",
              "    .colab-df-buttons div {\n",
              "      margin-bottom: 4px;\n",
              "    }\n",
              "\n",
              "    [theme=dark] .colab-df-convert {\n",
              "      background-color: #3B4455;\n",
              "      fill: #D2E3FC;\n",
              "    }\n",
              "\n",
              "    [theme=dark] .colab-df-convert:hover {\n",
              "      background-color: #434B5C;\n",
              "      box-shadow: 0px 1px 3px 1px rgba(0, 0, 0, 0.15);\n",
              "      filter: drop-shadow(0px 1px 2px rgba(0, 0, 0, 0.3));\n",
              "      fill: #FFFFFF;\n",
              "    }\n",
              "  </style>\n",
              "\n",
              "    <script>\n",
              "      const buttonEl =\n",
              "        document.querySelector('#df-561c3cee-f202-490e-a0b0-e87494d120ca button.colab-df-convert');\n",
              "      buttonEl.style.display =\n",
              "        google.colab.kernel.accessAllowed ? 'block' : 'none';\n",
              "\n",
              "      async function convertToInteractive(key) {\n",
              "        const element = document.querySelector('#df-561c3cee-f202-490e-a0b0-e87494d120ca');\n",
              "        const dataTable =\n",
              "          await google.colab.kernel.invokeFunction('convertToInteractive',\n",
              "                                                    [key], {});\n",
              "        if (!dataTable) return;\n",
              "\n",
              "        const docLinkHtml = 'Like what you see? Visit the ' +\n",
              "          '<a target=\"_blank\" href=https://colab.research.google.com/notebooks/data_table.ipynb>data table notebook</a>'\n",
              "          + ' to learn more about interactive tables.';\n",
              "        element.innerHTML = '';\n",
              "        dataTable['output_type'] = 'display_data';\n",
              "        await google.colab.output.renderOutput(dataTable, element);\n",
              "        const docLink = document.createElement('div');\n",
              "        docLink.innerHTML = docLinkHtml;\n",
              "        element.appendChild(docLink);\n",
              "      }\n",
              "    </script>\n",
              "  </div>\n",
              "\n",
              "\n",
              "<div id=\"df-4b5022ab-36f3-4e99-b300-d58b671acdad\">\n",
              "  <button class=\"colab-df-quickchart\" onclick=\"quickchart('df-4b5022ab-36f3-4e99-b300-d58b671acdad')\"\n",
              "            title=\"Suggest charts\"\n",
              "            style=\"display:none;\">\n",
              "\n",
              "<svg xmlns=\"http://www.w3.org/2000/svg\" height=\"24px\"viewBox=\"0 0 24 24\"\n",
              "     width=\"24px\">\n",
              "    <g>\n",
              "        <path d=\"M19 3H5c-1.1 0-2 .9-2 2v14c0 1.1.9 2 2 2h14c1.1 0 2-.9 2-2V5c0-1.1-.9-2-2-2zM9 17H7v-7h2v7zm4 0h-2V7h2v10zm4 0h-2v-4h2v4z\"/>\n",
              "    </g>\n",
              "</svg>\n",
              "  </button>\n",
              "\n",
              "<style>\n",
              "  .colab-df-quickchart {\n",
              "      --bg-color: #E8F0FE;\n",
              "      --fill-color: #1967D2;\n",
              "      --hover-bg-color: #E2EBFA;\n",
              "      --hover-fill-color: #174EA6;\n",
              "      --disabled-fill-color: #AAA;\n",
              "      --disabled-bg-color: #DDD;\n",
              "  }\n",
              "\n",
              "  [theme=dark] .colab-df-quickchart {\n",
              "      --bg-color: #3B4455;\n",
              "      --fill-color: #D2E3FC;\n",
              "      --hover-bg-color: #434B5C;\n",
              "      --hover-fill-color: #FFFFFF;\n",
              "      --disabled-bg-color: #3B4455;\n",
              "      --disabled-fill-color: #666;\n",
              "  }\n",
              "\n",
              "  .colab-df-quickchart {\n",
              "    background-color: var(--bg-color);\n",
              "    border: none;\n",
              "    border-radius: 50%;\n",
              "    cursor: pointer;\n",
              "    display: none;\n",
              "    fill: var(--fill-color);\n",
              "    height: 32px;\n",
              "    padding: 0;\n",
              "    width: 32px;\n",
              "  }\n",
              "\n",
              "  .colab-df-quickchart:hover {\n",
              "    background-color: var(--hover-bg-color);\n",
              "    box-shadow: 0 1px 2px rgba(60, 64, 67, 0.3), 0 1px 3px 1px rgba(60, 64, 67, 0.15);\n",
              "    fill: var(--button-hover-fill-color);\n",
              "  }\n",
              "\n",
              "  .colab-df-quickchart-complete:disabled,\n",
              "  .colab-df-quickchart-complete:disabled:hover {\n",
              "    background-color: var(--disabled-bg-color);\n",
              "    fill: var(--disabled-fill-color);\n",
              "    box-shadow: none;\n",
              "  }\n",
              "\n",
              "  .colab-df-spinner {\n",
              "    border: 2px solid var(--fill-color);\n",
              "    border-color: transparent;\n",
              "    border-bottom-color: var(--fill-color);\n",
              "    animation:\n",
              "      spin 1s steps(1) infinite;\n",
              "  }\n",
              "\n",
              "  @keyframes spin {\n",
              "    0% {\n",
              "      border-color: transparent;\n",
              "      border-bottom-color: var(--fill-color);\n",
              "      border-left-color: var(--fill-color);\n",
              "    }\n",
              "    20% {\n",
              "      border-color: transparent;\n",
              "      border-left-color: var(--fill-color);\n",
              "      border-top-color: var(--fill-color);\n",
              "    }\n",
              "    30% {\n",
              "      border-color: transparent;\n",
              "      border-left-color: var(--fill-color);\n",
              "      border-top-color: var(--fill-color);\n",
              "      border-right-color: var(--fill-color);\n",
              "    }\n",
              "    40% {\n",
              "      border-color: transparent;\n",
              "      border-right-color: var(--fill-color);\n",
              "      border-top-color: var(--fill-color);\n",
              "    }\n",
              "    60% {\n",
              "      border-color: transparent;\n",
              "      border-right-color: var(--fill-color);\n",
              "    }\n",
              "    80% {\n",
              "      border-color: transparent;\n",
              "      border-right-color: var(--fill-color);\n",
              "      border-bottom-color: var(--fill-color);\n",
              "    }\n",
              "    90% {\n",
              "      border-color: transparent;\n",
              "      border-bottom-color: var(--fill-color);\n",
              "    }\n",
              "  }\n",
              "</style>\n",
              "\n",
              "  <script>\n",
              "    async function quickchart(key) {\n",
              "      const quickchartButtonEl =\n",
              "        document.querySelector('#' + key + ' button');\n",
              "      quickchartButtonEl.disabled = true;  // To prevent multiple clicks.\n",
              "      quickchartButtonEl.classList.add('colab-df-spinner');\n",
              "      try {\n",
              "        const charts = await google.colab.kernel.invokeFunction(\n",
              "            'suggestCharts', [key], {});\n",
              "      } catch (error) {\n",
              "        console.error('Error during call to suggestCharts:', error);\n",
              "      }\n",
              "      quickchartButtonEl.classList.remove('colab-df-spinner');\n",
              "      quickchartButtonEl.classList.add('colab-df-quickchart-complete');\n",
              "    }\n",
              "    (() => {\n",
              "      let quickchartButtonEl =\n",
              "        document.querySelector('#df-4b5022ab-36f3-4e99-b300-d58b671acdad button');\n",
              "      quickchartButtonEl.style.display =\n",
              "        google.colab.kernel.accessAllowed ? 'block' : 'none';\n",
              "    })();\n",
              "  </script>\n",
              "</div>\n",
              "\n",
              "  <div id=\"id_7a10bff4-a381-4d62-bab6-b9432ba81ce6\">\n",
              "    <style>\n",
              "      .colab-df-generate {\n",
              "        background-color: #E8F0FE;\n",
              "        border: none;\n",
              "        border-radius: 50%;\n",
              "        cursor: pointer;\n",
              "        display: none;\n",
              "        fill: #1967D2;\n",
              "        height: 32px;\n",
              "        padding: 0 0 0 0;\n",
              "        width: 32px;\n",
              "      }\n",
              "\n",
              "      .colab-df-generate:hover {\n",
              "        background-color: #E2EBFA;\n",
              "        box-shadow: 0px 1px 2px rgba(60, 64, 67, 0.3), 0px 1px 3px 1px rgba(60, 64, 67, 0.15);\n",
              "        fill: #174EA6;\n",
              "      }\n",
              "\n",
              "      [theme=dark] .colab-df-generate {\n",
              "        background-color: #3B4455;\n",
              "        fill: #D2E3FC;\n",
              "      }\n",
              "\n",
              "      [theme=dark] .colab-df-generate:hover {\n",
              "        background-color: #434B5C;\n",
              "        box-shadow: 0px 1px 3px 1px rgba(0, 0, 0, 0.15);\n",
              "        filter: drop-shadow(0px 1px 2px rgba(0, 0, 0, 0.3));\n",
              "        fill: #FFFFFF;\n",
              "      }\n",
              "    </style>\n",
              "    <button class=\"colab-df-generate\" onclick=\"generateWithVariable('train_data_new')\"\n",
              "            title=\"Generate code using this dataframe.\"\n",
              "            style=\"display:none;\">\n",
              "\n",
              "  <svg xmlns=\"http://www.w3.org/2000/svg\" height=\"24px\"viewBox=\"0 0 24 24\"\n",
              "       width=\"24px\">\n",
              "    <path d=\"M7,19H8.4L18.45,9,17,7.55,7,17.6ZM5,21V16.75L18.45,3.32a2,2,0,0,1,2.83,0l1.4,1.43a1.91,1.91,0,0,1,.58,1.4,1.91,1.91,0,0,1-.58,1.4L9.25,21ZM18.45,9,17,7.55Zm-12,3A5.31,5.31,0,0,0,4.9,8.1,5.31,5.31,0,0,0,1,6.5,5.31,5.31,0,0,0,4.9,4.9,5.31,5.31,0,0,0,6.5,1,5.31,5.31,0,0,0,8.1,4.9,5.31,5.31,0,0,0,12,6.5,5.46,5.46,0,0,0,6.5,12Z\"/>\n",
              "  </svg>\n",
              "    </button>\n",
              "    <script>\n",
              "      (() => {\n",
              "      const buttonEl =\n",
              "        document.querySelector('#id_7a10bff4-a381-4d62-bab6-b9432ba81ce6 button.colab-df-generate');\n",
              "      buttonEl.style.display =\n",
              "        google.colab.kernel.accessAllowed ? 'block' : 'none';\n",
              "\n",
              "      buttonEl.onclick = () => {\n",
              "        google.colab.notebook.generateWithVariable('train_data_new');\n",
              "      }\n",
              "      })();\n",
              "    </script>\n",
              "  </div>\n",
              "\n",
              "    </div>\n",
              "  </div>\n"
            ],
            "application/vnd.google.colaboratory.intrinsic+json": {
              "type": "dataframe",
              "variable_name": "train_data_new",
              "summary": "{\n  \"name\": \"train_data_new\",\n  \"rows\": 59397,\n  \"fields\": [\n    {\n      \"column\": \"ID\",\n      \"properties\": {\n        \"dtype\": \"string\",\n        \"num_unique_values\": 59397,\n        \"samples\": [\n          \"TG_A_S_20221228\",\n          \"TG_B_S_20201108\",\n          \"CR_D_S_20220828\"\n        ],\n        \"semantic_type\": \"\",\n        \"description\": \"\"\n      }\n    },\n    {\n      \"column\": \"timestamp\",\n      \"properties\": {\n        \"dtype\": \"date\",\n        \"min\": \"2019-01-01 00:00:00\",\n        \"max\": \"2023-03-03 00:00:00\",\n        \"num_unique_values\": 1523,\n        \"samples\": [\n          \"2020-07-20 00:00:00\",\n          \"2022-01-06 00:00:00\",\n          \"2023-01-15 00:00:00\"\n        ],\n        \"semantic_type\": \"\",\n        \"description\": \"\"\n      }\n    },\n    {\n      \"column\": \"item\",\n      \"properties\": {\n        \"dtype\": \"category\",\n        \"num_unique_values\": 5,\n        \"samples\": [\n          \"CR\",\n          \"BC\",\n          \"CB\"\n        ],\n        \"semantic_type\": \"\",\n        \"description\": \"\"\n      }\n    },\n    {\n      \"column\": \"corporation\",\n      \"properties\": {\n        \"dtype\": \"category\",\n        \"num_unique_values\": 6,\n        \"samples\": [\n          \"A\",\n          \"B\",\n          \"F\"\n        ],\n        \"semantic_type\": \"\",\n        \"description\": \"\"\n      }\n    },\n    {\n      \"column\": \"location\",\n      \"properties\": {\n        \"dtype\": \"category\",\n        \"num_unique_values\": 2,\n        \"samples\": [\n          \"S\",\n          \"J\"\n        ],\n        \"semantic_type\": \"\",\n        \"description\": \"\"\n      }\n    },\n    {\n      \"column\": \"supply(kg)\",\n      \"properties\": {\n        \"dtype\": \"number\",\n        \"std\": 52226.964373869596,\n        \"min\": 0.0,\n        \"max\": 1222800.0,\n        \"num_unique_values\": 12514,\n        \"samples\": [\n          231640.0,\n          2031.0\n        ],\n        \"semantic_type\": \"\",\n        \"description\": \"\"\n      }\n    },\n    {\n      \"column\": \"price(\\uc6d0/kg)\",\n      \"properties\": {\n        \"dtype\": \"number\",\n        \"std\": 2003.1599329853066,\n        \"min\": 0.0,\n        \"max\": 20909.0,\n        \"num_unique_values\": 7174,\n        \"samples\": [\n          2984.0,\n          6927.0\n        ],\n        \"semantic_type\": \"\",\n        \"description\": \"\"\n      }\n    },\n    {\n      \"column\": \"year\",\n      \"properties\": {\n        \"dtype\": \"number\",\n        \"std\": 1,\n        \"min\": 2019,\n        \"max\": 2023,\n        \"num_unique_values\": 5,\n        \"samples\": [\n          2020,\n          2023\n        ],\n        \"semantic_type\": \"\",\n        \"description\": \"\"\n      }\n    },\n    {\n      \"column\": \"month\",\n      \"properties\": {\n        \"dtype\": \"number\",\n        \"std\": 3,\n        \"min\": 1,\n        \"max\": 12,\n        \"num_unique_values\": 12,\n        \"samples\": [\n          11,\n          10\n        ],\n        \"semantic_type\": \"\",\n        \"description\": \"\"\n      }\n    },\n    {\n      \"column\": \"day\",\n      \"properties\": {\n        \"dtype\": \"number\",\n        \"std\": 8,\n        \"min\": 1,\n        \"max\": 31,\n        \"num_unique_values\": 31,\n        \"samples\": [\n          28,\n          16\n        ],\n        \"semantic_type\": \"\",\n        \"description\": \"\"\n      }\n    },\n    {\n      \"column\": \"season\",\n      \"properties\": {\n        \"dtype\": \"category\",\n        \"num_unique_values\": 4,\n        \"samples\": [\n          \"spring\",\n          \"fall\"\n        ],\n        \"semantic_type\": \"\",\n        \"description\": \"\"\n      }\n    }\n  ]\n}"
            }
          },
          "metadata": {},
          "execution_count": 20
        }
      ]
    },
    {
      "cell_type": "code",
      "source": [
        "train_df = train_data_new"
      ],
      "metadata": {
        "id": "SUejx-UltMHh"
      },
      "execution_count": null,
      "outputs": []
    },
    {
      "cell_type": "code",
      "source": [
        "# 날짜 형식 변환 및 정렬\n",
        "train_df['timestamp'] = pd.to_datetime(train_df['timestamp'])\n",
        "test_df['timestamp'] = pd.to_datetime(test_df['timestamp'])\n",
        "train_df = train_df.sort_values(by='timestamp') # LSTM 모델을 쓸건데 시간순서대로 있으면 잘 학습함 그래서 정렬\n",
        "test_df = test_df.sort_values(by='timestamp')"
      ],
      "metadata": {
        "id": "mkXj55wu8_Og"
      },
      "execution_count": null,
      "outputs": []
    },
    {
      "cell_type": "code",
      "source": [
        "# 결측치 처리\n",
        "#train_df = train_df.dropna(subset=['supply(kg)', 'price(원/kg)'])  #dropna는 pandas에서 제공하는 결측치 제거 함수"
      ],
      "metadata": {
        "id": "y8WdB6H9Asuw"
      },
      "execution_count": null,
      "outputs": []
    },
    {
      "cell_type": "code",
      "source": [
        "# 필요 없는 열 제거 (ID 열 제거)\n",
        "train_df = train_df.drop(columns=['ID'])\n",
        "test_df = test_df.drop(columns=['ID'])\n",
        "train_df = train_df.drop(columns=['location'])\n",
        "test_df = test_df.drop(columns=['location'])\n",
        "train_df = train_df.drop(columns=['supply(kg)'])\n",
        "train_df = train_df.drop(columns=['season'])"
      ],
      "metadata": {
        "id": "3dSfMI9jiA27"
      },
      "execution_count": null,
      "outputs": []
    },
    {
      "cell_type": "code",
      "source": [
        "# 시간 관련 피쳐 생성 (모델이 시간에 따른 주기적 패턴을 학습할 수 있도록)\n",
        "train_df['month'] = train_df['timestamp'].dt.month\n",
        "train_df['day'] = train_df['timestamp'].dt.day\n",
        "train_df['day_of_week'] = train_df['timestamp'].dt.dayofweek\n",
        "train_df['year'] = train_df['timestamp'].dt.year\n",
        "\n",
        "test_df['month'] = test_df['timestamp'].dt.month\n",
        "test_df['day'] = test_df['timestamp'].dt.day\n",
        "test_df['day_of_week'] = test_df['timestamp'].dt.dayofweek\n",
        "test_df['year'] = test_df['timestamp'].dt.year"
      ],
      "metadata": {
        "id": "L_NrXGq4W1bg"
      },
      "execution_count": null,
      "outputs": []
    },
    {
      "cell_type": "code",
      "source": [
        "# 범주형 데이터 인코딩\n",
        "train_df = pd.get_dummies(train_df, columns=['item', 'corporation'], drop_first=True)\n",
        "test_df = pd.get_dummies(test_df, columns=['item', 'corporation'], drop_first=True)"
      ],
      "metadata": {
        "id": "gmpabqATU162"
      },
      "execution_count": null,
      "outputs": []
    },
    {
      "cell_type": "code",
      "source": [
        "# train_df와 test_df의 열 맞추기\n",
        "missing_cols = set(train_df.columns) - set(test_df.columns)\n",
        "for c in missing_cols:\n",
        "    test_df[c] = 0\n",
        "test_df = test_df[train_df.columns.drop('price(원/kg)')]"
      ],
      "metadata": {
        "id": "OW2TxZfjr_UJ"
      },
      "execution_count": null,
      "outputs": []
    },
    {
      "cell_type": "code",
      "source": [
        "from sklearn.preprocessing import StandardScaler\n",
        "\n",
        "# 스케일링\n",
        "scaler_s = StandardScaler()\n",
        "scaler_p = StandardScaler()\n",
        "train_df['price(원/kg)'] = scaler_p.fit_transform(train_df[['price(원/kg)']])"
      ],
      "metadata": {
        "id": "spZHYOFy1A5j"
      },
      "execution_count": null,
      "outputs": []
    },
    {
      "cell_type": "code",
      "source": [
        "# 훈련 데이터와 테스트 데이터 분할\n",
        "train_data = train_df[train_df['timestamp'] < '2023-03-04']\n",
        "X = train_data.drop(['timestamp', 'price(원/kg)'], axis=1).values\n",
        "y = train_data['price(원/kg)'].values\n",
        "X_train, X_valid, y_train, y_valid = train_test_split(X, y, test_size=0.2, random_state=42)"
      ],
      "metadata": {
        "id": "5YkcTgmxZ5Pb"
      },
      "execution_count": null,
      "outputs": []
    },
    {
      "cell_type": "code",
      "source": [
        "# 테스트 데이터 분할\n",
        "X_test = test_df.drop(['timestamp'], axis=1).values"
      ],
      "metadata": {
        "id": "n0SB7bbwlU1J"
      },
      "execution_count": null,
      "outputs": []
    },
    {
      "cell_type": "code",
      "source": [
        "# 데이터 타입 변환\n",
        "X_train = X_train.astype(np.float32)\n",
        "y_train = y_train.astype(np.float32)\n",
        "X_valid = X_valid.astype(np.float32)\n",
        "y_valid = y_valid.astype(np.float32)\n",
        "X_test = X_test.astype(np.float32)"
      ],
      "metadata": {
        "id": "3zLcKHR3hiHP"
      },
      "execution_count": null,
      "outputs": []
    },
    {
      "cell_type": "code",
      "source": [
        "# 데이터 reshape (LSTM모델을 쓸건데 LSTM모델은 3차원만 입력받아요)\n",
        "X_train_reshaped = np.reshape(X_train, (X_train.shape[0], X_train.shape[1], 1))\n",
        "X_valid_reshaped = np.reshape(X_valid, (X_valid.shape[0], X_valid.shape[1], 1))\n",
        "X_test_reshaped = np.reshape(X_test, (X_test.shape[0], X_test.shape[1], 1))"
      ],
      "metadata": {
        "id": "01udnzRWcL8M"
      },
      "execution_count": null,
      "outputs": []
    },
    {
      "cell_type": "markdown",
      "source": [
        "### 모델링!!!"
      ],
      "metadata": {
        "id": "9tLX0PkGdxPi"
      }
    },
    {
      "cell_type": "code",
      "source": [
        "# LSTM 모델 구축\n",
        "model = Sequential()\n",
        "model.add(LSTM(50, return_sequences=True, input_shape=(X_train.shape[1], 1)))\n",
        "model.add(Dropout(0.2))\n",
        "model.add(LSTM(50, return_sequences=True))\n",
        "model.add(Dropout(0.2))\n",
        "model.add(LSTM(50, return_sequences=True))\n",
        "model.add(Dropout(0.2))\n",
        "model.add(LSTM(50, return_sequences=False))\n",
        "model.add(Dropout(0.2))\n",
        "model.add(Dense(50, activation='relu'))\n",
        "model.add(Dense(25, activation='relu'))\n",
        "model.add(Dense(1))"
      ],
      "metadata": {
        "id": "jaUlFJrHdrVS"
      },
      "execution_count": null,
      "outputs": []
    },
    {
      "cell_type": "code",
      "source": [
        "model.summary()"
      ],
      "metadata": {
        "colab": {
          "base_uri": "https://localhost:8080/"
        },
        "id": "LWv7tVqUemCq",
        "outputId": "d882fd58-b15f-463a-aefd-1cd586c2ba80"
      },
      "execution_count": null,
      "outputs": [
        {
          "output_type": "stream",
          "name": "stdout",
          "text": [
            "Model: \"sequential\"\n",
            "_________________________________________________________________\n",
            " Layer (type)                Output Shape              Param #   \n",
            "=================================================================\n",
            " lstm (LSTM)                 (None, 13, 50)            10400     \n",
            "                                                                 \n",
            " dropout (Dropout)           (None, 13, 50)            0         \n",
            "                                                                 \n",
            " lstm_1 (LSTM)               (None, 13, 50)            20200     \n",
            "                                                                 \n",
            " dropout_1 (Dropout)         (None, 13, 50)            0         \n",
            "                                                                 \n",
            " lstm_2 (LSTM)               (None, 13, 50)            20200     \n",
            "                                                                 \n",
            " dropout_2 (Dropout)         (None, 13, 50)            0         \n",
            "                                                                 \n",
            " lstm_3 (LSTM)               (None, 50)                20200     \n",
            "                                                                 \n",
            " dropout_3 (Dropout)         (None, 50)                0         \n",
            "                                                                 \n",
            " dense (Dense)               (None, 50)                2550      \n",
            "                                                                 \n",
            " dense_1 (Dense)             (None, 25)                1275      \n",
            "                                                                 \n",
            " dense_2 (Dense)             (None, 1)                 26        \n",
            "                                                                 \n",
            "=================================================================\n",
            "Total params: 74851 (292.39 KB)\n",
            "Trainable params: 74851 (292.39 KB)\n",
            "Non-trainable params: 0 (0.00 Byte)\n",
            "_________________________________________________________________\n"
          ]
        }
      ]
    },
    {
      "cell_type": "code",
      "source": [
        "model.compile(optimizer='adam', loss='mean_squared_error',metrics = ['mean_absolute_error'])"
      ],
      "metadata": {
        "id": "9XlDts2JgHAw"
      },
      "execution_count": null,
      "outputs": []
    },
    {
      "cell_type": "code",
      "source": [
        "# 모델 학습\n",
        "history = model.fit(X_train_reshaped, y_train, validation_data=(X_valid_reshaped, y_valid), batch_size=32, epochs=50)"
      ],
      "metadata": {
        "colab": {
          "base_uri": "https://localhost:8080/"
        },
        "id": "LmSUjr1Sgu8v",
        "outputId": "271d5749-ec61-420e-91b9-b9b61d851b97"
      },
      "execution_count": null,
      "outputs": [
        {
          "output_type": "stream",
          "name": "stdout",
          "text": [
            "Epoch 1/50\n",
            "1485/1485 [==============================] - 21s 14ms/step - loss: 0.3795 - mean_absolute_error: 0.4278 - val_loss: 0.2591 - val_mean_absolute_error: 0.3267\n",
            "Epoch 2/50\n",
            "1485/1485 [==============================] - 19s 13ms/step - loss: 0.2284 - mean_absolute_error: 0.3145 - val_loss: 0.1562 - val_mean_absolute_error: 0.2653\n",
            "Epoch 3/50\n",
            "1485/1485 [==============================] - 19s 13ms/step - loss: 0.1937 - mean_absolute_error: 0.2789 - val_loss: 0.1278 - val_mean_absolute_error: 0.2182\n",
            "Epoch 4/50\n",
            "1485/1485 [==============================] - 20s 13ms/step - loss: 0.1408 - mean_absolute_error: 0.2234 - val_loss: 0.1191 - val_mean_absolute_error: 0.1935\n",
            "Epoch 5/50\n",
            "1485/1485 [==============================] - 20s 13ms/step - loss: 0.1944 - mean_absolute_error: 0.2629 - val_loss: 0.1445 - val_mean_absolute_error: 0.2431\n",
            "Epoch 6/50\n",
            "1485/1485 [==============================] - 20s 13ms/step - loss: 0.1563 - mean_absolute_error: 0.2326 - val_loss: 0.1408 - val_mean_absolute_error: 0.2451\n",
            "Epoch 7/50\n",
            "1485/1485 [==============================] - 19s 13ms/step - loss: 0.1380 - mean_absolute_error: 0.2161 - val_loss: 0.1188 - val_mean_absolute_error: 0.1950\n",
            "Epoch 8/50\n",
            "1485/1485 [==============================] - 20s 14ms/step - loss: 0.1173 - mean_absolute_error: 0.1898 - val_loss: 0.1076 - val_mean_absolute_error: 0.1712\n",
            "Epoch 9/50\n",
            "1485/1485 [==============================] - 20s 13ms/step - loss: 0.1305 - mean_absolute_error: 0.1977 - val_loss: 0.1033 - val_mean_absolute_error: 0.1682\n",
            "Epoch 10/50\n",
            "1485/1485 [==============================] - 20s 14ms/step - loss: 0.1083 - mean_absolute_error: 0.1752 - val_loss: 0.1079 - val_mean_absolute_error: 0.1757\n",
            "Epoch 11/50\n",
            "1485/1485 [==============================] - 20s 13ms/step - loss: 0.1501 - mean_absolute_error: 0.2135 - val_loss: 0.1147 - val_mean_absolute_error: 0.1789\n",
            "Epoch 12/50\n",
            "1485/1485 [==============================] - 20s 13ms/step - loss: 0.1125 - mean_absolute_error: 0.1755 - val_loss: 0.1303 - val_mean_absolute_error: 0.2033\n",
            "Epoch 13/50\n",
            "1485/1485 [==============================] - 21s 14ms/step - loss: 0.1138 - mean_absolute_error: 0.1748 - val_loss: 0.0988 - val_mean_absolute_error: 0.1591\n",
            "Epoch 14/50\n",
            "1485/1485 [==============================] - 21s 14ms/step - loss: 0.1120 - mean_absolute_error: 0.1730 - val_loss: 0.3470 - val_mean_absolute_error: 0.2652\n",
            "Epoch 15/50\n",
            "1485/1485 [==============================] - 19s 13ms/step - loss: 0.1523 - mean_absolute_error: 0.2103 - val_loss: 0.0955 - val_mean_absolute_error: 0.1509\n",
            "Epoch 16/50\n",
            "1485/1485 [==============================] - 20s 14ms/step - loss: 0.1045 - mean_absolute_error: 0.1641 - val_loss: 0.0927 - val_mean_absolute_error: 0.1562\n",
            "Epoch 17/50\n",
            "1485/1485 [==============================] - 20s 14ms/step - loss: 0.1000 - mean_absolute_error: 0.1577 - val_loss: 0.1017 - val_mean_absolute_error: 0.1561\n",
            "Epoch 18/50\n",
            "1485/1485 [==============================] - 20s 14ms/step - loss: 0.1053 - mean_absolute_error: 0.1628 - val_loss: 0.0929 - val_mean_absolute_error: 0.1508\n",
            "Epoch 19/50\n",
            "1485/1485 [==============================] - 20s 14ms/step - loss: 0.1097 - mean_absolute_error: 0.1723 - val_loss: 0.0998 - val_mean_absolute_error: 0.1638\n",
            "Epoch 20/50\n",
            "1485/1485 [==============================] - 20s 14ms/step - loss: 0.1487 - mean_absolute_error: 0.1993 - val_loss: 0.1744 - val_mean_absolute_error: 0.2259\n",
            "Epoch 21/50\n",
            "1485/1485 [==============================] - 20s 13ms/step - loss: 0.1206 - mean_absolute_error: 0.1823 - val_loss: 0.0996 - val_mean_absolute_error: 0.1579\n",
            "Epoch 22/50\n",
            "1485/1485 [==============================] - 20s 13ms/step - loss: 0.0991 - mean_absolute_error: 0.1560 - val_loss: 0.0940 - val_mean_absolute_error: 0.1517\n",
            "Epoch 23/50\n",
            "1485/1485 [==============================] - 20s 13ms/step - loss: 0.1293 - mean_absolute_error: 0.1839 - val_loss: 0.0966 - val_mean_absolute_error: 0.1566\n",
            "Epoch 24/50\n",
            "1485/1485 [==============================] - 20s 13ms/step - loss: 0.1503 - mean_absolute_error: 0.1938 - val_loss: 0.1900 - val_mean_absolute_error: 0.2382\n",
            "Epoch 25/50\n",
            "1485/1485 [==============================] - 20s 13ms/step - loss: 0.1219 - mean_absolute_error: 0.1842 - val_loss: 0.1007 - val_mean_absolute_error: 0.1512\n",
            "Epoch 26/50\n",
            "1485/1485 [==============================] - 20s 13ms/step - loss: 0.1051 - mean_absolute_error: 0.1664 - val_loss: 0.0948 - val_mean_absolute_error: 0.1504\n",
            "Epoch 27/50\n",
            "1485/1485 [==============================] - 19s 13ms/step - loss: 0.1007 - mean_absolute_error: 0.1584 - val_loss: 0.0952 - val_mean_absolute_error: 0.1531\n",
            "Epoch 28/50\n",
            "1485/1485 [==============================] - 20s 14ms/step - loss: 0.0972 - mean_absolute_error: 0.1536 - val_loss: 0.1060 - val_mean_absolute_error: 0.1534\n",
            "Epoch 29/50\n",
            "1485/1485 [==============================] - 20s 13ms/step - loss: 0.1021 - mean_absolute_error: 0.1585 - val_loss: 0.0985 - val_mean_absolute_error: 0.1455\n",
            "Epoch 30/50\n",
            "1485/1485 [==============================] - 20s 13ms/step - loss: 0.1233 - mean_absolute_error: 0.1753 - val_loss: 0.0948 - val_mean_absolute_error: 0.1486\n",
            "Epoch 31/50\n",
            "1485/1485 [==============================] - 19s 13ms/step - loss: 0.0963 - mean_absolute_error: 0.1505 - val_loss: 0.0978 - val_mean_absolute_error: 0.1557\n",
            "Epoch 32/50\n",
            "1485/1485 [==============================] - 19s 13ms/step - loss: 0.1017 - mean_absolute_error: 0.1575 - val_loss: 0.0910 - val_mean_absolute_error: 0.1446\n",
            "Epoch 33/50\n",
            "1485/1485 [==============================] - 20s 13ms/step - loss: 0.1045 - mean_absolute_error: 0.1562 - val_loss: 0.2759 - val_mean_absolute_error: 0.2930\n",
            "Epoch 34/50\n",
            "1485/1485 [==============================] - 19s 13ms/step - loss: 0.1026 - mean_absolute_error: 0.1599 - val_loss: 0.0914 - val_mean_absolute_error: 0.1408\n",
            "Epoch 35/50\n",
            "1485/1485 [==============================] - 19s 13ms/step - loss: 0.0950 - mean_absolute_error: 0.1487 - val_loss: 0.0934 - val_mean_absolute_error: 0.1437\n",
            "Epoch 36/50\n",
            "1485/1485 [==============================] - 18s 12ms/step - loss: 0.1021 - mean_absolute_error: 0.1567 - val_loss: 0.0973 - val_mean_absolute_error: 0.1463\n",
            "Epoch 37/50\n",
            "1485/1485 [==============================] - 19s 13ms/step - loss: 0.0942 - mean_absolute_error: 0.1473 - val_loss: 0.0880 - val_mean_absolute_error: 0.1371\n",
            "Epoch 38/50\n",
            "1485/1485 [==============================] - 19s 13ms/step - loss: 0.1241 - mean_absolute_error: 0.1731 - val_loss: 0.2073 - val_mean_absolute_error: 0.1961\n",
            "Epoch 39/50\n",
            "1485/1485 [==============================] - 19s 13ms/step - loss: 0.1715 - mean_absolute_error: 0.2245 - val_loss: 0.1104 - val_mean_absolute_error: 0.1743\n",
            "Epoch 40/50\n",
            "1485/1485 [==============================] - 18s 12ms/step - loss: 0.1105 - mean_absolute_error: 0.1753 - val_loss: 0.0997 - val_mean_absolute_error: 0.1553\n",
            "Epoch 41/50\n",
            "1485/1485 [==============================] - 19s 13ms/step - loss: 0.0950 - mean_absolute_error: 0.1503 - val_loss: 0.0890 - val_mean_absolute_error: 0.1420\n",
            "Epoch 42/50\n",
            "1485/1485 [==============================] - 20s 13ms/step - loss: 0.0940 - mean_absolute_error: 0.1475 - val_loss: 0.1006 - val_mean_absolute_error: 0.1453\n",
            "Epoch 43/50\n",
            "1485/1485 [==============================] - 19s 12ms/step - loss: 0.1041 - mean_absolute_error: 0.1588 - val_loss: 0.0956 - val_mean_absolute_error: 0.1463\n",
            "Epoch 44/50\n",
            "1485/1485 [==============================] - 21s 14ms/step - loss: 0.0929 - mean_absolute_error: 0.1447 - val_loss: 0.0932 - val_mean_absolute_error: 0.1437\n",
            "Epoch 45/50\n",
            "1485/1485 [==============================] - 19s 13ms/step - loss: 0.0932 - mean_absolute_error: 0.1456 - val_loss: 0.0910 - val_mean_absolute_error: 0.1434\n",
            "Epoch 46/50\n",
            "1485/1485 [==============================] - 21s 14ms/step - loss: 0.0958 - mean_absolute_error: 0.1484 - val_loss: 0.0905 - val_mean_absolute_error: 0.1406\n",
            "Epoch 47/50\n",
            "1485/1485 [==============================] - 20s 13ms/step - loss: 0.1175 - mean_absolute_error: 0.1660 - val_loss: 0.0936 - val_mean_absolute_error: 0.1472\n",
            "Epoch 48/50\n",
            "1485/1485 [==============================] - 20s 14ms/step - loss: 0.0921 - mean_absolute_error: 0.1440 - val_loss: 0.0943 - val_mean_absolute_error: 0.1493\n",
            "Epoch 49/50\n",
            "1485/1485 [==============================] - 19s 13ms/step - loss: 0.0940 - mean_absolute_error: 0.1451 - val_loss: 0.0916 - val_mean_absolute_error: 0.1393\n",
            "Epoch 50/50\n",
            "1485/1485 [==============================] - 22s 14ms/step - loss: 0.0944 - mean_absolute_error: 0.1458 - val_loss: 0.0967 - val_mean_absolute_error: 0.1410\n"
          ]
        }
      ]
    },
    {
      "cell_type": "markdown",
      "source": [
        "### 평가하자"
      ],
      "metadata": {
        "id": "VoZbmCm6quDq"
      }
    },
    {
      "cell_type": "code",
      "source": [
        "# 훈련 및 검증 과정 중의 MSE 값 확인\n",
        "train_mse = history.history['loss']\n",
        "valid_mse = history.history['val_loss']\n",
        "train_mae = history.history['mean_absolute_error']\n",
        "valid_mae = history.history['val_mean_absolute_error']"
      ],
      "metadata": {
        "id": "h2fr5n4ScDyM"
      },
      "execution_count": null,
      "outputs": []
    },
    {
      "cell_type": "code",
      "source": [
        "# MSE 시각화\n",
        "plt.plot(train_mse, label='Train MSE')\n",
        "plt.plot(valid_mse, label='Validation MSE')\n",
        "plt.xlabel('Epoch')\n",
        "plt.ylabel('Mean Squared Error (MSE)')\n",
        "plt.title('Training and Validation Mean Squared Error (MSE)')\n",
        "plt.legend()"
      ],
      "metadata": {
        "colab": {
          "base_uri": "https://localhost:8080/",
          "height": 496
        },
        "id": "241H0zugb9fu",
        "outputId": "d24a8a1c-7dc5-4807-e3aa-53f6ad1cb5ae"
      },
      "execution_count": null,
      "outputs": [
        {
          "output_type": "execute_result",
          "data": {
            "text/plain": [
              "<matplotlib.legend.Legend at 0x7b8b861cffa0>"
            ]
          },
          "metadata": {},
          "execution_count": 39
        },
        {
          "output_type": "display_data",
          "data": {
            "text/plain": [
              "<Figure size 640x480 with 1 Axes>"
            ],
            "image/png": "[encoded data removed]"
          },
          "metadata": {}
        }
      ]
    },
    {
      "cell_type": "code",
      "source": [
        "# MAE 시각화\n",
        "plt.plot(train_mae, label='Train MAE')\n",
        "plt.plot(valid_mae, label='Validation MAE')\n",
        "plt.xlabel('Epoch')\n",
        "plt.ylabel('Mean Absolute Error (MAE)')\n",
        "plt.title('Training Mean Absolute Error (MAE)')\n",
        "plt.legend()"
      ],
      "metadata": {
        "colab": {
          "base_uri": "https://localhost:8080/",
          "height": 496
        },
        "id": "0GR4D_wTshQh",
        "outputId": "df2845cf-7d26-409e-f635-fb1bd5e40787"
      },
      "execution_count": null,
      "outputs": [
        {
          "output_type": "execute_result",
          "data": {
            "text/plain": [
              "<matplotlib.legend.Legend at 0x7b8b86785fc0>"
            ]
          },
          "metadata": {},
          "execution_count": 40
        },
        {
          "output_type": "display_data",
          "data": {
            "text/plain": [
              "<Figure size 640x480 with 1 Axes>"
            ],
            "image/png": "[encoded data removed]"
          },
          "metadata": {}
        }
      ]
    },
    {
      "cell_type": "code",
      "source": [
        "disp_loss(history)"
      ],
      "metadata": {
        "id": "k9lK8-0vKE3a",
        "colab": {
          "base_uri": "https://localhost:8080/",
          "height": 479
        },
        "outputId": "140e5c45-5bc7-49ea-ecc5-aa7905858a81"
      },
      "execution_count": null,
      "outputs": [
        {
          "output_type": "display_data",
          "data": {
            "text/plain": [
              "<Figure size 640x480 with 1 Axes>"
            ],
            "image/png": "[encoded data removed]"
          },
          "metadata": {}
        }
      ]
    },
    {
      "cell_type": "code",
      "source": [
        "# 마지막 에포크의 MSE 값 출력\n",
        "print(\"Final Mean Squared Error (MSE):\", train_mse[-1])\n",
        "print(\"Final Mean Absolute Error (MAE):\", train_mae[-1])"
      ],
      "metadata": {
        "colab": {
          "base_uri": "https://localhost:8080/"
        },
        "id": "Clve_4cSPV51",
        "outputId": "96719236-6cc2-410d-c65c-19cdbbf80348"
      },
      "execution_count": null,
      "outputs": [
        {
          "output_type": "stream",
          "name": "stdout",
          "text": [
            "Final Mean Squared Error (MSE): 0.09444590657949448\n",
            "Final Mean Absolute Error (MAE): 0.14578233659267426\n"
          ]
        }
      ]
    },
    {
      "cell_type": "code",
      "source": [
        "# 평가 함수 사용\n",
        "mse, mae = model.evaluate(X_train_reshaped, y_train)\n",
        "print(\"Mean Squared Error (MSE) on training data:\", mse)\n",
        "print(\"Mean Absolute Error (MAE) on training data:\", mae)\n"
      ],
      "metadata": {
        "colab": {
          "base_uri": "https://localhost:8080/"
        },
        "id": "6YSVIoc0PbyI",
        "outputId": "c727aab6-e4b5-4459-d0f8-e1e7751bcc50"
      },
      "execution_count": null,
      "outputs": [
        {
          "output_type": "stream",
          "name": "stdout",
          "text": [
            "1485/1485 [==============================] - 8s 5ms/step - loss: 0.0966 - mean_absolute_error: 0.1401\n",
            "Mean Squared Error (MSE) on training data: 0.09657276421785355\n",
            "Mean Absolute Error (MAE) on training data: 0.14013011753559113\n"
          ]
        }
      ]
    },
    {
      "cell_type": "code",
      "source": [
        "# 예측\n",
        "predictions = model.predict(X_test_reshaped)\n"
      ],
      "metadata": {
        "colab": {
          "base_uri": "https://localhost:8080/"
        },
        "id": "8EBZeXE2PfWr",
        "outputId": "7e521434-901f-460c-ba05-d1025b21a322"
      },
      "execution_count": null,
      "outputs": [
        {
          "output_type": "stream",
          "name": "stdout",
          "text": [
            "35/35 [==============================] - 1s 4ms/step\n"
          ]
        }
      ]
    },
    {
      "cell_type": "code",
      "source": [
        "# 예측 값 역변환 (inverse_transform)\n",
        "predictions = scaler_p.inverse_transform(predictions)"
      ],
      "metadata": {
        "id": "1n-wYt60Pks3"
      },
      "execution_count": null,
      "outputs": []
    },
    {
      "cell_type": "code",
      "source": [
        "# 예측 결과 저장\n",
        "submission_df['answer'] = predictions\n",
        "submission_df.to_csv('submission.csv', index=False)"
      ],
      "metadata": {
        "id": "tKRVrITPsONK"
      },
      "execution_count": null,
      "outputs": []
    },
    {
      "cell_type": "code",
      "source": [
        "# 저장된 파일 읽기\n",
        "submission_df = pd.read_csv('submission.csv')"
      ],
      "metadata": {
        "id": "7yPx04WsUTRq"
      },
      "execution_count": null,
      "outputs": []
    },
    {
      "cell_type": "code",
      "source": [
        "from google.colab import files\n",
        "\n",
        "# 파일 다운로드\n",
        "files.download('submission.csv')"
      ],
      "metadata": {
        "colab": {
          "base_uri": "https://localhost:8080/",
          "height": 17
        },
        "id": "OzOk8ag8UZpU",
        "outputId": "ba8ba8b4-de2b-4a78-b660-f255c5093591"
      },
      "execution_count": null,
      "outputs": [
        {
          "output_type": "display_data",
          "data": {
            "text/plain": [
              "<IPython.core.display.Javascript object>"
            ],
            "application/javascript": [
              "\n",
              "    async function download(id, filename, size) {\n",
              "      if (!google.colab.kernel.accessAllowed) {\n",
              "        return;\n",
              "      }\n",
              "      const div = document.createElement('div');\n",
              "      const label = document.createElement('label');\n",
              "      label.textContent = `Downloading \"${filename}\": `;\n",
              "      div.appendChild(label);\n",
              "      const progress = document.createElement('progress');\n",
              "      progress.max = size;\n",
              "      div.appendChild(progress);\n",
              "      document.body.appendChild(div);\n",
              "\n",
              "      const buffers = [];\n",
              "      let downloaded = 0;\n",
              "\n",
              "      const channel = await google.colab.kernel.comms.open(id);\n",
              "      // Send a message to notify the kernel that we're ready.\n",
              "      channel.send({})\n",
              "\n",
              "      for await (const message of channel.messages) {\n",
              "        // Send a message to notify the kernel that we're ready.\n",
              "        channel.send({})\n",
              "        if (message.buffers) {\n",
              "          for (const buffer of message.buffers) {\n",
              "            buffers.push(buffer);\n",
              "            downloaded += buffer.byteLength;\n",
              "            progress.value = downloaded;\n",
              "          }\n",
              "        }\n",
              "      }\n",
              "      const blob = new Blob(buffers, {type: 'application/binary'});\n",
              "      const a = document.createElement('a');\n",
              "      a.href = window.URL.createObjectURL(blob);\n",
              "      a.download = filename;\n",
              "      div.appendChild(a);\n",
              "      a.click();\n",
              "      div.remove();\n",
              "    }\n",
              "  "
            ]
          },
          "metadata": {}
        },
        {
          "output_type": "display_data",
          "data": {
            "text/plain": [
              "<IPython.core.display.Javascript object>"
            ],
            "application/javascript": [
              "download(\"download_9848cfcf-9865-4e7e-82a7-23752bd7f89a\", \"submission.csv\", 28171)"
            ]
          },
          "metadata": {}
        }
      ]
    },
    {
      "cell_type": "code",
      "source": [],
      "metadata": {
        "id": "Lid21WwNJfzG"
      },
      "execution_count": null,
      "outputs": []
    }
  ],
  "metadata": {
    "colab": {
      "provenance": [],
      "gpuType": "T4"
    },
    "kernelspec": {
      "display_name": "Python 3",
      "name": "python3"
    },
    "accelerator": "GPU"
  },
  "nbformat": 4,
  "nbformat_minor": 0
}